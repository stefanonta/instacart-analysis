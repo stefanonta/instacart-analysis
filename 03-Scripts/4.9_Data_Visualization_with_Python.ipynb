{
 "cells": [
  {
   "cell_type": "code",
   "execution_count": 2,
   "metadata": {},
   "outputs": [],
   "source": [
    "import pandas as pd\n",
    "import numpy as np\n",
    "import os\n",
    "import matplotlib.pyplot as plt\n",
    "from matplotlib.ticker import FuncFormatter\n",
    "import seaborn as sns\n",
    "import scipy"
   ]
  },
  {
   "cell_type": "code",
   "execution_count": 3,
   "metadata": {},
   "outputs": [],
   "source": [
    "path = r'/Users/polusa/Library/Mobile Documents/com~apple~CloudDocs/my_DA_2024/CareerFoundry_Data_Analytics_Bootcamp/4-Python_Fundamentals_for_DA/04-2024_Instacart_Basket_Analysis/02-Data'\n",
    "prepared_data_fodler = r'02-Prepared_Data'"
   ]
  },
  {
   "cell_type": "code",
   "execution_count": 4,
   "metadata": {},
   "outputs": [],
   "source": [
    "ords_prods_merge = pd.read_pickle(os.path.join(path, prepared_data_fodler, 'ords_prods_merge-4.8.pkl'))"
   ]
  },
  {
   "cell_type": "code",
   "execution_count": 5,
   "metadata": {},
   "outputs": [
    {
     "data": {
      "text/plain": [
       "(32404859, 20)"
      ]
     },
     "execution_count": 5,
     "metadata": {},
     "output_type": "execute_result"
    }
   ],
   "source": [
    "ords_prods_merge.shape"
   ]
  },
  {
   "cell_type": "markdown",
   "metadata": {},
   "source": [
    "## Bar Chart  \n",
    "\n",
    "Creating a bar chart in a dataframe follows a similar procedure to that of printing the frequency for a specific column, the only difference being that the result will be visual rather than just a table of values.  \n",
    "\n",
    "Let’s try creating one for your `orders_day_of_week` column."
   ]
  },
  {
   "cell_type": "code",
   "execution_count": 6,
   "metadata": {},
   "outputs": [
    {
     "data": {
      "text/html": [
       "<div>\n",
       "<style scoped>\n",
       "    .dataframe tbody tr th:only-of-type {\n",
       "        vertical-align: middle;\n",
       "    }\n",
       "\n",
       "    .dataframe tbody tr th {\n",
       "        vertical-align: top;\n",
       "    }\n",
       "\n",
       "    .dataframe thead th {\n",
       "        text-align: right;\n",
       "    }\n",
       "</style>\n",
       "<table border=\"1\" class=\"dataframe\">\n",
       "  <thead>\n",
       "    <tr style=\"text-align: right;\">\n",
       "      <th></th>\n",
       "      <th>order_id</th>\n",
       "      <th>product_id</th>\n",
       "      <th>add_to_cart_order</th>\n",
       "      <th>reordered</th>\n",
       "      <th>user_id</th>\n",
       "      <th>order_number</th>\n",
       "      <th>orders_day_of_week</th>\n",
       "      <th>order_hour_of_day</th>\n",
       "      <th>days_since_last_order</th>\n",
       "      <th>product_name</th>\n",
       "      <th>aisle_id</th>\n",
       "      <th>department_id</th>\n",
       "      <th>prices</th>\n",
       "      <th>price_label</th>\n",
       "      <th>busiest_days</th>\n",
       "      <th>busiest_period_of_day</th>\n",
       "      <th>order_max</th>\n",
       "      <th>loyalty_flag</th>\n",
       "      <th>spending_flag</th>\n",
       "      <th>order_frequency_flag</th>\n",
       "    </tr>\n",
       "  </thead>\n",
       "  <tbody>\n",
       "    <tr>\n",
       "      <th>0</th>\n",
       "      <td>2</td>\n",
       "      <td>33120</td>\n",
       "      <td>1</td>\n",
       "      <td>1</td>\n",
       "      <td>202279</td>\n",
       "      <td>3</td>\n",
       "      <td>5</td>\n",
       "      <td>9</td>\n",
       "      <td>8.0</td>\n",
       "      <td>Organic Egg Whites</td>\n",
       "      <td>86</td>\n",
       "      <td>16</td>\n",
       "      <td>11.3</td>\n",
       "      <td>Mid-Range</td>\n",
       "      <td>regular_days</td>\n",
       "      <td>average_orders</td>\n",
       "      <td>8</td>\n",
       "      <td>new_customer</td>\n",
       "      <td>low_spender</td>\n",
       "      <td>non-frequent-customer</td>\n",
       "    </tr>\n",
       "    <tr>\n",
       "      <th>1</th>\n",
       "      <td>2</td>\n",
       "      <td>28985</td>\n",
       "      <td>2</td>\n",
       "      <td>1</td>\n",
       "      <td>202279</td>\n",
       "      <td>3</td>\n",
       "      <td>5</td>\n",
       "      <td>9</td>\n",
       "      <td>8.0</td>\n",
       "      <td>Michigan Organic Kale</td>\n",
       "      <td>83</td>\n",
       "      <td>4</td>\n",
       "      <td>13.4</td>\n",
       "      <td>Mid-Range</td>\n",
       "      <td>regular_days</td>\n",
       "      <td>average_orders</td>\n",
       "      <td>8</td>\n",
       "      <td>new_customer</td>\n",
       "      <td>low_spender</td>\n",
       "      <td>non-frequent-customer</td>\n",
       "    </tr>\n",
       "    <tr>\n",
       "      <th>2</th>\n",
       "      <td>2</td>\n",
       "      <td>9327</td>\n",
       "      <td>3</td>\n",
       "      <td>0</td>\n",
       "      <td>202279</td>\n",
       "      <td>3</td>\n",
       "      <td>5</td>\n",
       "      <td>9</td>\n",
       "      <td>8.0</td>\n",
       "      <td>Garlic Powder</td>\n",
       "      <td>104</td>\n",
       "      <td>13</td>\n",
       "      <td>3.6</td>\n",
       "      <td>Low-Range</td>\n",
       "      <td>regular_days</td>\n",
       "      <td>average_orders</td>\n",
       "      <td>8</td>\n",
       "      <td>new_customer</td>\n",
       "      <td>low_spender</td>\n",
       "      <td>non-frequent-customer</td>\n",
       "    </tr>\n",
       "  </tbody>\n",
       "</table>\n",
       "</div>"
      ],
      "text/plain": [
       "   order_id  product_id  add_to_cart_order  reordered  user_id  order_number  \\\n",
       "0         2       33120                  1          1   202279             3   \n",
       "1         2       28985                  2          1   202279             3   \n",
       "2         2        9327                  3          0   202279             3   \n",
       "\n",
       "   orders_day_of_week  order_hour_of_day  days_since_last_order  \\\n",
       "0                   5                  9                    8.0   \n",
       "1                   5                  9                    8.0   \n",
       "2                   5                  9                    8.0   \n",
       "\n",
       "            product_name  aisle_id  department_id  prices price_label  \\\n",
       "0     Organic Egg Whites        86             16    11.3   Mid-Range   \n",
       "1  Michigan Organic Kale        83              4    13.4   Mid-Range   \n",
       "2          Garlic Powder       104             13     3.6   Low-Range   \n",
       "\n",
       "   busiest_days busiest_period_of_day  order_max  loyalty_flag spending_flag  \\\n",
       "0  regular_days        average_orders          8  new_customer   low_spender   \n",
       "1  regular_days        average_orders          8  new_customer   low_spender   \n",
       "2  regular_days        average_orders          8  new_customer   low_spender   \n",
       "\n",
       "    order_frequency_flag  \n",
       "0  non-frequent-customer  \n",
       "1  non-frequent-customer  \n",
       "2  non-frequent-customer  "
      ]
     },
     "execution_count": 6,
     "metadata": {},
     "output_type": "execute_result"
    }
   ],
   "source": [
    "ords_prods_merge.head(3)"
   ]
  },
  {
   "cell_type": "markdown",
   "metadata": {},
   "source": [
    "`plot.bar()` tells python to look for the `bar()` function within the `plot` module.  \n",
    "It is important that you run the function on the frequency of the column you want to plot the chart for (after the `value_counts()`) otherwise running it onto the column itself will take forever to calculate."
   ]
  },
  {
   "cell_type": "code",
   "execution_count": 7,
   "metadata": {},
   "outputs": [],
   "source": [
    "# wrong approach as it will take forever to calculate\n",
    "# ords_prods_merge['orders_day_of_week'].plot.bar()"
   ]
  },
  {
   "cell_type": "markdown",
   "metadata": {},
   "source": [
    "### WARNING \n",
    "\n",
    "The first approach here to find crete a bar chart of the `orders_day_of_week` is not correct.  \n",
    "\n",
    "WHY?  \n",
    "\n",
    "Because we don't sort the index of the `value_conts` method, but we hard coded the names of the days of the week in order from Sat (index 0) to Fri (index 6)."
   ]
  },
  {
   "cell_type": "code",
   "execution_count": 44,
   "metadata": {},
   "outputs": [
    {
     "data": {
      "image/png": "[encoded data removed]",
      "text/plain": [
       "<Figure size 640x480 with 1 Axes>"
      ]
     },
     "metadata": {},
     "output_type": "display_data"
    }
   ],
   "source": [
    "# misleading approach\n",
    "def millions_formatter(x, pos):\n",
    "    return f'{int(x/1e6)}M'\n",
    "\n",
    "ax = ords_prods_merge['orders_day_of_week'].value_counts(dropna = False).plot.bar()\n",
    "\n",
    "day_names = ['Saturday', 'Sunday', 'Monday', 'Tuesday', 'Wednesday', 'Thursday', 'Friday']\n",
    "ax.set_xticklabels(day_names, rotation=40)\n",
    "ax.set_xlabel('Order Day of the Week')\n",
    "ax.set_ylabel('Total Orders')\n",
    "ax.set_title('Number of Orders by Day of the Week')\n",
    "\n",
    "ax.yaxis.set_major_formatter(FuncFormatter(millions_formatter))\n"
   ]
  },
  {
   "cell_type": "markdown",
   "metadata": {},
   "source": [
    "We need to sort the index of the `value_counts` method to matches the hard coded days in the `day_names` variable. "
   ]
  },
  {
   "cell_type": "code",
   "execution_count": 9,
   "metadata": {},
   "outputs": [
    {
     "data": {
      "text/plain": [
       "orders_day_of_week\n",
       "0    6204182\n",
       "1    5660230\n",
       "2    4213830\n",
       "3    3840534\n",
       "4    3783802\n",
       "5    4205791\n",
       "6    4496490\n",
       "Name: count, dtype: int64"
      ]
     },
     "execution_count": 9,
     "metadata": {},
     "output_type": "execute_result"
    }
   ],
   "source": [
    "ords_prods_merge['orders_day_of_week'].value_counts(dropna=False).sort_index(ascending=True)"
   ]
  },
  {
   "cell_type": "markdown",
   "metadata": {},
   "source": [
    "As you can see in the cell above, now the index has been sorted. We can now create the plot with the sorted index."
   ]
  },
  {
   "cell_type": "code",
   "execution_count": 45,
   "metadata": {},
   "outputs": [
    {
     "data": {
      "image/png": "[encoded data removed]",
      "text/plain": [
       "<Figure size 640x480 with 1 Axes>"
      ]
     },
     "metadata": {},
     "output_type": "display_data"
    }
   ],
   "source": [
    "bar = ords_prods_merge['orders_day_of_week'].value_counts(dropna=False).sort_index(ascending=True).plot.bar()\n",
    "day_names = ['Saturday', 'Sunday', 'Monday', 'Tuesday', 'Wednesday', 'Thursday', 'Friday']\n",
    "bar.set_xticklabels(day_names, rotation=40)\n",
    "bar.set_xlabel('Order Day of the Week')\n",
    "bar.set_ylabel('Total Orders')\n",
    "bar.set_title('Number of Orders by Day of the Week')\n",
    "\n",
    "bar.yaxis.set_major_formatter(FuncFormatter(millions_formatter))\n"
   ]
  },
  {
   "cell_type": "markdown",
   "metadata": {},
   "source": [
    "To make your bars more distinct, you can also change their color.  \n",
    "Doing so is as easy as adding a color argument in your `plot.bar()` function and listing the colors you want in order:"
   ]
  },
  {
   "cell_type": "code",
   "execution_count": 11,
   "metadata": {},
   "outputs": [
    {
     "data": {
      "text/plain": [
       "<Axes: xlabel='orders_day_of_week'>"
      ]
     },
     "execution_count": 11,
     "metadata": {},
     "output_type": "execute_result"
    },
    {
     "data": {
      "image/png": "[encoded data removed]",
      "text/plain": [
       "<Figure size 640x480 with 1 Axes>"
      ]
     },
     "metadata": {},
     "output_type": "display_data"
    }
   ],
   "source": [
    "ords_prods_merge['orders_day_of_week'].value_counts(dropna=False).sort_index(ascending=True).plot.bar(color=['green', 'red','grey', 'pink'])"
   ]
  },
  {
   "cell_type": "markdown",
   "metadata": {},
   "source": [
    "### Exporting Charts"
   ]
  },
  {
   "cell_type": "markdown",
   "metadata": {},
   "source": [
    "The code you used above generated a preview for your visualization but didn’t actually save it in Jupyter’s memory.  \n",
    "You’ll need to save it to a variable:"
   ]
  },
  {
   "cell_type": "code",
   "execution_count": 12,
   "metadata": {},
   "outputs": [
    {
     "data": {
      "image/png": "[encoded data removed]",
      "text/plain": [
       "<Figure size 640x480 with 1 Axes>"
      ]
     },
     "metadata": {},
     "output_type": "display_data"
    }
   ],
   "source": [
    "bar = ords_prods_merge['orders_day_of_week'].value_counts(dropna=False).sort_index(ascending=True).plot.bar(color=['green', 'red','grey', 'pink'])"
   ]
  },
  {
   "cell_type": "markdown",
   "metadata": {},
   "source": [
    "To access the bar char visually we need to use the `figure` property of the object where it was saved."
   ]
  },
  {
   "cell_type": "code",
   "execution_count": 13,
   "metadata": {},
   "outputs": [
    {
     "data": {
      "image/png": "[encoded data removed]",
      "text/plain": [
       "<Figure size 640x480 with 1 Axes>"
      ]
     },
     "execution_count": 13,
     "metadata": {},
     "output_type": "execute_result"
    }
   ],
   "source": [
    "bar.figure"
   ]
  },
  {
   "cell_type": "markdown",
   "metadata": {},
   "source": [
    "To export it outside of Jupyter in the form of an image file we'll use the `figure.savefig()` function:"
   ]
  },
  {
   "cell_type": "code",
   "execution_count": 14,
   "metadata": {},
   "outputs": [],
   "source": [
    "path_vidz = r'/Users/polusa/Library/Mobile Documents/com~apple~CloudDocs/my_DA_2024/CareerFoundry_Data_Analytics_Bootcamp/4-Python_Fundamentals_for_DA/04-2024_Instacart_Basket_Analysis/04-Analysis/Visualizations'\n",
    "bar.figure.savefig(os.path.join(path_vidz, 'bar_orders_dow.png'))"
   ]
  },
  {
   "cell_type": "markdown",
   "metadata": {},
   "source": [
    "### Creating Histograms and Scatterplots  \n",
    "\n",
    "**Histograms** are used to show the density of a continuous variable, in other words, the distribution of observations per their occurrence in a data set.  \n",
    "\n",
    "This is different from bar charts as bar charts organize observations according to some category. That’s why bar charts are good for categorical data and histograms are more appropriate for continuous data.  \n",
    "\n",
    "Let’s try creating a histogram of the `prices` column:"
   ]
  },
  {
   "cell_type": "code",
   "execution_count": 15,
   "metadata": {},
   "outputs": [
    {
     "data": {
      "text/plain": [
       "<Axes: ylabel='Frequency'>"
      ]
     },
     "execution_count": 15,
     "metadata": {},
     "output_type": "execute_result"
    },
    {
     "data": {
      "image/png": "[encoded data removed]",
      "text/plain": [
       "<Figure size 640x480 with 1 Axes>"
      ]
     },
     "metadata": {},
     "output_type": "display_data"
    }
   ],
   "source": [
    "ords_prods_merge['prices'].plot.hist(bins = 25)"
   ]
  },
  {
   "cell_type": "markdown",
   "metadata": {},
   "source": [
    "Something doesn’t seem right here. You should have gotten 25 bars (one for each bin). Instead, however, you’ve gotten one single column.  \n",
    "You ran the `describe()` function against your `prices` column and produced the following output:"
   ]
  },
  {
   "cell_type": "code",
   "execution_count": 16,
   "metadata": {},
   "outputs": [
    {
     "data": {
      "text/plain": [
       "count    3.240486e+07\n",
       "mean     1.198023e+01\n",
       "std      4.956554e+02\n",
       "min      1.000000e+00\n",
       "25%      4.200000e+00\n",
       "50%      7.400000e+00\n",
       "75%      1.130000e+01\n",
       "max      9.999900e+04\n",
       "Name: prices, dtype: float64"
      ]
     },
     "execution_count": 16,
     "metadata": {},
     "output_type": "execute_result"
    }
   ],
   "source": [
    "ords_prods_merge['prices'].describe()"
   ]
  },
  {
   "cell_type": "markdown",
   "metadata": {},
   "source": [
    "Do you notice something odd in the maximum value? To further investigate, you could also conduct a few checks for each specific statistic:"
   ]
  },
  {
   "cell_type": "code",
   "execution_count": 17,
   "metadata": {},
   "outputs": [
    {
     "data": {
      "text/plain": [
       "11.980225638383416"
      ]
     },
     "execution_count": 17,
     "metadata": {},
     "output_type": "execute_result"
    }
   ],
   "source": [
    "ords_prods_merge['prices'].mean()"
   ]
  },
  {
   "cell_type": "code",
   "execution_count": 18,
   "metadata": {},
   "outputs": [
    {
     "data": {
      "text/plain": [
       "7.4"
      ]
     },
     "execution_count": 18,
     "metadata": {},
     "output_type": "execute_result"
    }
   ],
   "source": [
    "ords_prods_merge['prices'].median()"
   ]
  },
  {
   "cell_type": "code",
   "execution_count": 19,
   "metadata": {},
   "outputs": [
    {
     "data": {
      "text/plain": [
       "99999.0"
      ]
     },
     "execution_count": 19,
     "metadata": {},
     "output_type": "execute_result"
    }
   ],
   "source": [
    "ords_prods_merge['prices'].max()"
   ]
  },
  {
   "cell_type": "markdown",
   "metadata": {},
   "source": [
    "While the mean and median are between *7* and *12* (relatively realistic), the max value yields a strange result. How could an item cost *$99,999.00*?  \n",
    "This must be the result of data corruption or some kind of special value within the data. This is also what’s breaking your histogram.  \n",
    "Having most values between 7 and 12 (see the median and mean again) but an extreme value of 99,999 is forcing your histogram to shove all the small values into one bar  \n",
    "and the extreme value in another one. And this second bar is so tiny that you can’t even see it on the chart. Hence, the one-column histogram you saw above.  \n",
    "\n",
    "#### Scatterplot to the rescue  \n",
    "\n",
    "Normally, you’d use scatterplots to investigate the relationship between two variables. However, when conducting an exploratory analysis, you can also use scatterplots to visualize the distribution of data points in order to identify any outliers.  \n",
    "\n",
    "#### NB:  \n",
    "Creating a scatterplot using the same variable for both axes, often called a \"diagonal\" scatterplot or \"identity\" plot, might seem unusual at first, but it can actually provide valuable insights in certain scenarios, particularly in exploratory data analysis and visualization. Here are some reasons why you might want to create such a plot:  \n",
    "\n",
    "1. **Identifying Relationships**: While scatterplots typically show the relationship between two different variables, a diagonal scatterplot can help you visually identify patterns or relationships within a single variable. This can be useful for detecting outliers, clusters, or other patterns in the data that might not be immediately apparent from summary statistics or histograms  \n",
    "\n",
    "2. **Data Distribution**: A diagonal scatterplot can provide a visual representation of the distribution of values for a single variable. You can quickly see the spread and concentration of data points along the diagonal line, which can be useful for understanding the data distribution and identifying any skewness or unusual patterns  \n",
    "\n",
    "3. **Data Quality Checks**: Diagonal scatterplots can also be helpful for identifying data quality issues such as duplicate values, measurement errors, or missing values. Unusual patterns or clusters along the diagonal line might indicate data anomalies that require further investigation"
   ]
  },
  {
   "cell_type": "code",
   "execution_count": 20,
   "metadata": {},
   "outputs": [
    {
     "data": {
      "text/plain": [
       "<Axes: xlabel='prices', ylabel='prices'>"
      ]
     },
     "execution_count": 20,
     "metadata": {},
     "output_type": "execute_result"
    },
    {
     "data": {
      "image/png": "[encoded data removed]",
      "text/plain": [
       "<Figure size 640x480 with 1 Axes>"
      ]
     },
     "metadata": {},
     "output_type": "display_data"
    }
   ],
   "source": [
    "sns.scatterplot(ords_prods_merge, x = 'prices', y = 'prices')"
   ]
  },
  {
   "cell_type": "markdown",
   "metadata": {},
   "source": [
    "The **mean** of the column is around 12, so you’d expect the data points to be distributed somewhere around this number. However, there are two data points far, far beyond values you’d ever expect—values close to 20,000 and even 100,000. This close-to-100,000 value corresponds to the max value you identified in your checks. But what about the close-to-20,000 value? To investigate this, you can run a few more exploratory checks on your data.  \n",
    "\n",
    "Let’s first determine whether there are any values above a certain threshold in your data, for instance, anything above the “normal” price of a supermarket item.  \n",
    "If you imagined the maximum price anyone would pay in a supermarket were around *$100*, then anything above that amount could be considered an outlier."
   ]
  },
  {
   "cell_type": "code",
   "execution_count": 21,
   "metadata": {},
   "outputs": [
    {
     "data": {
      "text/html": [
       "<div>\n",
       "<style scoped>\n",
       "    .dataframe tbody tr th:only-of-type {\n",
       "        vertical-align: middle;\n",
       "    }\n",
       "\n",
       "    .dataframe tbody tr th {\n",
       "        vertical-align: top;\n",
       "    }\n",
       "\n",
       "    .dataframe thead th {\n",
       "        text-align: right;\n",
       "    }\n",
       "</style>\n",
       "<table border=\"1\" class=\"dataframe\">\n",
       "  <thead>\n",
       "    <tr style=\"text-align: right;\">\n",
       "      <th></th>\n",
       "      <th>order_id</th>\n",
       "      <th>product_id</th>\n",
       "      <th>add_to_cart_order</th>\n",
       "      <th>reordered</th>\n",
       "      <th>user_id</th>\n",
       "      <th>order_number</th>\n",
       "      <th>orders_day_of_week</th>\n",
       "      <th>order_hour_of_day</th>\n",
       "      <th>days_since_last_order</th>\n",
       "      <th>product_name</th>\n",
       "      <th>aisle_id</th>\n",
       "      <th>department_id</th>\n",
       "      <th>prices</th>\n",
       "      <th>price_label</th>\n",
       "      <th>busiest_days</th>\n",
       "      <th>busiest_period_of_day</th>\n",
       "      <th>order_max</th>\n",
       "      <th>loyalty_flag</th>\n",
       "      <th>spending_flag</th>\n",
       "      <th>order_frequency_flag</th>\n",
       "    </tr>\n",
       "  </thead>\n",
       "  <tbody>\n",
       "    <tr>\n",
       "      <th>347</th>\n",
       "      <td>43</td>\n",
       "      <td>21553</td>\n",
       "      <td>6</td>\n",
       "      <td>1</td>\n",
       "      <td>39630</td>\n",
       "      <td>14</td>\n",
       "      <td>5</td>\n",
       "      <td>17</td>\n",
       "      <td>4.0</td>\n",
       "      <td>Lowfat 2% Milkfat Cottage Cheese</td>\n",
       "      <td>108</td>\n",
       "      <td>16</td>\n",
       "      <td>14900.0</td>\n",
       "      <td>High-Range</td>\n",
       "      <td>regular_days</td>\n",
       "      <td>average_orders</td>\n",
       "      <td>14</td>\n",
       "      <td>regular_customer</td>\n",
       "      <td>high_spender</td>\n",
       "      <td>frequent_customer</td>\n",
       "    </tr>\n",
       "    <tr>\n",
       "      <th>9177</th>\n",
       "      <td>950</td>\n",
       "      <td>21553</td>\n",
       "      <td>20</td>\n",
       "      <td>0</td>\n",
       "      <td>187854</td>\n",
       "      <td>16</td>\n",
       "      <td>1</td>\n",
       "      <td>11</td>\n",
       "      <td>16.0</td>\n",
       "      <td>Lowfat 2% Milkfat Cottage Cheese</td>\n",
       "      <td>108</td>\n",
       "      <td>16</td>\n",
       "      <td>14900.0</td>\n",
       "      <td>High-Range</td>\n",
       "      <td>busiest_days</td>\n",
       "      <td>most_orders</td>\n",
       "      <td>30</td>\n",
       "      <td>regular_customer</td>\n",
       "      <td>high_spender</td>\n",
       "      <td>regular_customer</td>\n",
       "    </tr>\n",
       "    <tr>\n",
       "      <th>10798</th>\n",
       "      <td>1115</td>\n",
       "      <td>21553</td>\n",
       "      <td>14</td>\n",
       "      <td>1</td>\n",
       "      <td>168014</td>\n",
       "      <td>15</td>\n",
       "      <td>6</td>\n",
       "      <td>14</td>\n",
       "      <td>30.0</td>\n",
       "      <td>Lowfat 2% Milkfat Cottage Cheese</td>\n",
       "      <td>108</td>\n",
       "      <td>16</td>\n",
       "      <td>14900.0</td>\n",
       "      <td>High-Range</td>\n",
       "      <td>regular_days</td>\n",
       "      <td>most_orders</td>\n",
       "      <td>21</td>\n",
       "      <td>regular_customer</td>\n",
       "      <td>high_spender</td>\n",
       "      <td>frequent_customer</td>\n",
       "    </tr>\n",
       "    <tr>\n",
       "      <th>11147</th>\n",
       "      <td>1155</td>\n",
       "      <td>21553</td>\n",
       "      <td>18</td>\n",
       "      <td>1</td>\n",
       "      <td>103747</td>\n",
       "      <td>22</td>\n",
       "      <td>1</td>\n",
       "      <td>13</td>\n",
       "      <td>12.0</td>\n",
       "      <td>Lowfat 2% Milkfat Cottage Cheese</td>\n",
       "      <td>108</td>\n",
       "      <td>16</td>\n",
       "      <td>14900.0</td>\n",
       "      <td>High-Range</td>\n",
       "      <td>busiest_days</td>\n",
       "      <td>most_orders</td>\n",
       "      <td>27</td>\n",
       "      <td>regular_customer</td>\n",
       "      <td>high_spender</td>\n",
       "      <td>frequent_customer</td>\n",
       "    </tr>\n",
       "    <tr>\n",
       "      <th>11769</th>\n",
       "      <td>1220</td>\n",
       "      <td>21553</td>\n",
       "      <td>19</td>\n",
       "      <td>0</td>\n",
       "      <td>23475</td>\n",
       "      <td>3</td>\n",
       "      <td>0</td>\n",
       "      <td>17</td>\n",
       "      <td>26.0</td>\n",
       "      <td>Lowfat 2% Milkfat Cottage Cheese</td>\n",
       "      <td>108</td>\n",
       "      <td>16</td>\n",
       "      <td>14900.0</td>\n",
       "      <td>High-Range</td>\n",
       "      <td>busiest_days</td>\n",
       "      <td>average_orders</td>\n",
       "      <td>3</td>\n",
       "      <td>new_customer</td>\n",
       "      <td>high_spender</td>\n",
       "      <td>regular_customer</td>\n",
       "    </tr>\n",
       "    <tr>\n",
       "      <th>...</th>\n",
       "      <td>...</td>\n",
       "      <td>...</td>\n",
       "      <td>...</td>\n",
       "      <td>...</td>\n",
       "      <td>...</td>\n",
       "      <td>...</td>\n",
       "      <td>...</td>\n",
       "      <td>...</td>\n",
       "      <td>...</td>\n",
       "      <td>...</td>\n",
       "      <td>...</td>\n",
       "      <td>...</td>\n",
       "      <td>...</td>\n",
       "      <td>...</td>\n",
       "      <td>...</td>\n",
       "      <td>...</td>\n",
       "      <td>...</td>\n",
       "      <td>...</td>\n",
       "      <td>...</td>\n",
       "      <td>...</td>\n",
       "    </tr>\n",
       "    <tr>\n",
       "      <th>32399788</th>\n",
       "      <td>3420548</td>\n",
       "      <td>21553</td>\n",
       "      <td>5</td>\n",
       "      <td>1</td>\n",
       "      <td>146887</td>\n",
       "      <td>3</td>\n",
       "      <td>4</td>\n",
       "      <td>11</td>\n",
       "      <td>7.0</td>\n",
       "      <td>Lowfat 2% Milkfat Cottage Cheese</td>\n",
       "      <td>108</td>\n",
       "      <td>16</td>\n",
       "      <td>14900.0</td>\n",
       "      <td>High-Range</td>\n",
       "      <td>slowest_days</td>\n",
       "      <td>most_orders</td>\n",
       "      <td>20</td>\n",
       "      <td>regular_customer</td>\n",
       "      <td>high_spender</td>\n",
       "      <td>frequent_customer</td>\n",
       "    </tr>\n",
       "    <tr>\n",
       "      <th>32400331</th>\n",
       "      <td>3420604</td>\n",
       "      <td>21553</td>\n",
       "      <td>8</td>\n",
       "      <td>0</td>\n",
       "      <td>159443</td>\n",
       "      <td>8</td>\n",
       "      <td>2</td>\n",
       "      <td>13</td>\n",
       "      <td>6.0</td>\n",
       "      <td>Lowfat 2% Milkfat Cottage Cheese</td>\n",
       "      <td>108</td>\n",
       "      <td>16</td>\n",
       "      <td>14900.0</td>\n",
       "      <td>High-Range</td>\n",
       "      <td>regular_days</td>\n",
       "      <td>most_orders</td>\n",
       "      <td>56</td>\n",
       "      <td>loyal_customer</td>\n",
       "      <td>high_spender</td>\n",
       "      <td>frequent_customer</td>\n",
       "    </tr>\n",
       "    <tr>\n",
       "      <th>32400992</th>\n",
       "      <td>3420676</td>\n",
       "      <td>21553</td>\n",
       "      <td>10</td>\n",
       "      <td>0</td>\n",
       "      <td>202268</td>\n",
       "      <td>50</td>\n",
       "      <td>5</td>\n",
       "      <td>16</td>\n",
       "      <td>6.0</td>\n",
       "      <td>Lowfat 2% Milkfat Cottage Cheese</td>\n",
       "      <td>108</td>\n",
       "      <td>16</td>\n",
       "      <td>14900.0</td>\n",
       "      <td>High-Range</td>\n",
       "      <td>regular_days</td>\n",
       "      <td>most_orders</td>\n",
       "      <td>54</td>\n",
       "      <td>loyal_customer</td>\n",
       "      <td>high_spender</td>\n",
       "      <td>frequent_customer</td>\n",
       "    </tr>\n",
       "    <tr>\n",
       "      <th>32402475</th>\n",
       "      <td>3420827</td>\n",
       "      <td>21553</td>\n",
       "      <td>2</td>\n",
       "      <td>0</td>\n",
       "      <td>15643</td>\n",
       "      <td>1</td>\n",
       "      <td>1</td>\n",
       "      <td>10</td>\n",
       "      <td>-1.0</td>\n",
       "      <td>Lowfat 2% Milkfat Cottage Cheese</td>\n",
       "      <td>108</td>\n",
       "      <td>16</td>\n",
       "      <td>14900.0</td>\n",
       "      <td>High-Range</td>\n",
       "      <td>busiest_days</td>\n",
       "      <td>most_orders</td>\n",
       "      <td>14</td>\n",
       "      <td>regular_customer</td>\n",
       "      <td>high_spender</td>\n",
       "      <td>regular_customer</td>\n",
       "    </tr>\n",
       "    <tr>\n",
       "      <th>32404590</th>\n",
       "      <td>3421047</td>\n",
       "      <td>33664</td>\n",
       "      <td>6</td>\n",
       "      <td>0</td>\n",
       "      <td>98554</td>\n",
       "      <td>4</td>\n",
       "      <td>1</td>\n",
       "      <td>11</td>\n",
       "      <td>4.0</td>\n",
       "      <td>2 % Reduced Fat  Milk</td>\n",
       "      <td>84</td>\n",
       "      <td>16</td>\n",
       "      <td>99999.0</td>\n",
       "      <td>High-Range</td>\n",
       "      <td>busiest_days</td>\n",
       "      <td>most_orders</td>\n",
       "      <td>15</td>\n",
       "      <td>regular_customer</td>\n",
       "      <td>high_spender</td>\n",
       "      <td>frequent_customer</td>\n",
       "    </tr>\n",
       "  </tbody>\n",
       "</table>\n",
       "<p>5127 rows × 20 columns</p>\n",
       "</div>"
      ],
      "text/plain": [
       "          order_id  product_id  add_to_cart_order  reordered  user_id  \\\n",
       "347             43       21553                  6          1    39630   \n",
       "9177           950       21553                 20          0   187854   \n",
       "10798         1115       21553                 14          1   168014   \n",
       "11147         1155       21553                 18          1   103747   \n",
       "11769         1220       21553                 19          0    23475   \n",
       "...            ...         ...                ...        ...      ...   \n",
       "32399788   3420548       21553                  5          1   146887   \n",
       "32400331   3420604       21553                  8          0   159443   \n",
       "32400992   3420676       21553                 10          0   202268   \n",
       "32402475   3420827       21553                  2          0    15643   \n",
       "32404590   3421047       33664                  6          0    98554   \n",
       "\n",
       "          order_number  orders_day_of_week  order_hour_of_day  \\\n",
       "347                 14                   5                 17   \n",
       "9177                16                   1                 11   \n",
       "10798               15                   6                 14   \n",
       "11147               22                   1                 13   \n",
       "11769                3                   0                 17   \n",
       "...                ...                 ...                ...   \n",
       "32399788             3                   4                 11   \n",
       "32400331             8                   2                 13   \n",
       "32400992            50                   5                 16   \n",
       "32402475             1                   1                 10   \n",
       "32404590             4                   1                 11   \n",
       "\n",
       "          days_since_last_order                      product_name  aisle_id  \\\n",
       "347                         4.0  Lowfat 2% Milkfat Cottage Cheese       108   \n",
       "9177                       16.0  Lowfat 2% Milkfat Cottage Cheese       108   \n",
       "10798                      30.0  Lowfat 2% Milkfat Cottage Cheese       108   \n",
       "11147                      12.0  Lowfat 2% Milkfat Cottage Cheese       108   \n",
       "11769                      26.0  Lowfat 2% Milkfat Cottage Cheese       108   \n",
       "...                         ...                               ...       ...   \n",
       "32399788                    7.0  Lowfat 2% Milkfat Cottage Cheese       108   \n",
       "32400331                    6.0  Lowfat 2% Milkfat Cottage Cheese       108   \n",
       "32400992                    6.0  Lowfat 2% Milkfat Cottage Cheese       108   \n",
       "32402475                   -1.0  Lowfat 2% Milkfat Cottage Cheese       108   \n",
       "32404590                    4.0             2 % Reduced Fat  Milk        84   \n",
       "\n",
       "          department_id   prices price_label  busiest_days  \\\n",
       "347                  16  14900.0  High-Range  regular_days   \n",
       "9177                 16  14900.0  High-Range  busiest_days   \n",
       "10798                16  14900.0  High-Range  regular_days   \n",
       "11147                16  14900.0  High-Range  busiest_days   \n",
       "11769                16  14900.0  High-Range  busiest_days   \n",
       "...                 ...      ...         ...           ...   \n",
       "32399788             16  14900.0  High-Range  slowest_days   \n",
       "32400331             16  14900.0  High-Range  regular_days   \n",
       "32400992             16  14900.0  High-Range  regular_days   \n",
       "32402475             16  14900.0  High-Range  busiest_days   \n",
       "32404590             16  99999.0  High-Range  busiest_days   \n",
       "\n",
       "         busiest_period_of_day  order_max      loyalty_flag spending_flag  \\\n",
       "347             average_orders         14  regular_customer  high_spender   \n",
       "9177               most_orders         30  regular_customer  high_spender   \n",
       "10798              most_orders         21  regular_customer  high_spender   \n",
       "11147              most_orders         27  regular_customer  high_spender   \n",
       "11769           average_orders          3      new_customer  high_spender   \n",
       "...                        ...        ...               ...           ...   \n",
       "32399788           most_orders         20  regular_customer  high_spender   \n",
       "32400331           most_orders         56    loyal_customer  high_spender   \n",
       "32400992           most_orders         54    loyal_customer  high_spender   \n",
       "32402475           most_orders         14  regular_customer  high_spender   \n",
       "32404590           most_orders         15  regular_customer  high_spender   \n",
       "\n",
       "         order_frequency_flag  \n",
       "347         frequent_customer  \n",
       "9177         regular_customer  \n",
       "10798       frequent_customer  \n",
       "11147       frequent_customer  \n",
       "11769        regular_customer  \n",
       "...                       ...  \n",
       "32399788    frequent_customer  \n",
       "32400331    frequent_customer  \n",
       "32400992    frequent_customer  \n",
       "32402475     regular_customer  \n",
       "32404590    frequent_customer  \n",
       "\n",
       "[5127 rows x 20 columns]"
      ]
     },
     "execution_count": 21,
     "metadata": {},
     "output_type": "execute_result"
    }
   ],
   "source": [
    "ords_prods_merge.loc[ords_prods_merge['prices'] > 100]"
   ]
  },
  {
   "cell_type": "markdown",
   "metadata": {},
   "source": [
    "From the output, you can see that there are 5,127 rows with outlier observations (prices greater than $100)"
   ]
  },
  {
   "cell_type": "code",
   "execution_count": 22,
   "metadata": {},
   "outputs": [
    {
     "data": {
      "text/plain": [
       "10.65"
      ]
     },
     "execution_count": 22,
     "metadata": {},
     "output_type": "execute_result"
    }
   ],
   "source": [
    "# statistical formula to calaculate outlier treshold\n",
    "q3 = np.percentile(ords_prods_merge['prices'], 75)\n",
    "q1 = np.percentile(ords_prods_merge['prices'], 25)\n",
    "outlier_treshold = (q3-q1)*1.5\n",
    "outlier_treshold"
   ]
  },
  {
   "cell_type": "markdown",
   "metadata": {},
   "source": [
    "From the output, you can see that there are 5,127 rows with outlier observations (prices greater than $100). In addition, at the top of the “prices” column, you can see that there’s another odd value, $14,900.00, which corresponds to the second unexplainable point in the scatterplot. Following this is the $99,999.00 you identified previously. As such, you can assume that it’s the $14,900.00 and $99,999.00 values that are skewing your charts.  \n",
    "\n",
    "A first likely step would be to consult your client or a more senior stakeholder for guidance on how to treat these values. They might, for instance, be special values within the Instacart system.\n",
    "\n",
    "For now, let’s mark them as missing since they don’t make sense in terms of the other values in the column.\n"
   ]
  },
  {
   "cell_type": "code",
   "execution_count": 23,
   "metadata": {},
   "outputs": [],
   "source": [
    "ords_prods_merge.loc[ords_prods_merge['prices'] > 100, 'prices'] = np.nan"
   ]
  },
  {
   "cell_type": "code",
   "execution_count": 24,
   "metadata": {},
   "outputs": [
    {
     "data": {
      "text/html": [
       "<div>\n",
       "<style scoped>\n",
       "    .dataframe tbody tr th:only-of-type {\n",
       "        vertical-align: middle;\n",
       "    }\n",
       "\n",
       "    .dataframe tbody tr th {\n",
       "        vertical-align: top;\n",
       "    }\n",
       "\n",
       "    .dataframe thead th {\n",
       "        text-align: right;\n",
       "    }\n",
       "</style>\n",
       "<table border=\"1\" class=\"dataframe\">\n",
       "  <thead>\n",
       "    <tr style=\"text-align: right;\">\n",
       "      <th></th>\n",
       "      <th>order_id</th>\n",
       "      <th>product_id</th>\n",
       "      <th>add_to_cart_order</th>\n",
       "      <th>reordered</th>\n",
       "      <th>user_id</th>\n",
       "      <th>order_number</th>\n",
       "      <th>orders_day_of_week</th>\n",
       "      <th>order_hour_of_day</th>\n",
       "      <th>days_since_last_order</th>\n",
       "      <th>product_name</th>\n",
       "      <th>aisle_id</th>\n",
       "      <th>department_id</th>\n",
       "      <th>prices</th>\n",
       "      <th>price_label</th>\n",
       "      <th>busiest_days</th>\n",
       "      <th>busiest_period_of_day</th>\n",
       "      <th>order_max</th>\n",
       "      <th>loyalty_flag</th>\n",
       "      <th>spending_flag</th>\n",
       "      <th>order_frequency_flag</th>\n",
       "    </tr>\n",
       "  </thead>\n",
       "  <tbody>\n",
       "    <tr>\n",
       "      <th>347</th>\n",
       "      <td>43</td>\n",
       "      <td>21553</td>\n",
       "      <td>6</td>\n",
       "      <td>1</td>\n",
       "      <td>39630</td>\n",
       "      <td>14</td>\n",
       "      <td>5</td>\n",
       "      <td>17</td>\n",
       "      <td>4.0</td>\n",
       "      <td>Lowfat 2% Milkfat Cottage Cheese</td>\n",
       "      <td>108</td>\n",
       "      <td>16</td>\n",
       "      <td>NaN</td>\n",
       "      <td>High-Range</td>\n",
       "      <td>regular_days</td>\n",
       "      <td>average_orders</td>\n",
       "      <td>14</td>\n",
       "      <td>regular_customer</td>\n",
       "      <td>high_spender</td>\n",
       "      <td>frequent_customer</td>\n",
       "    </tr>\n",
       "    <tr>\n",
       "      <th>9177</th>\n",
       "      <td>950</td>\n",
       "      <td>21553</td>\n",
       "      <td>20</td>\n",
       "      <td>0</td>\n",
       "      <td>187854</td>\n",
       "      <td>16</td>\n",
       "      <td>1</td>\n",
       "      <td>11</td>\n",
       "      <td>16.0</td>\n",
       "      <td>Lowfat 2% Milkfat Cottage Cheese</td>\n",
       "      <td>108</td>\n",
       "      <td>16</td>\n",
       "      <td>NaN</td>\n",
       "      <td>High-Range</td>\n",
       "      <td>busiest_days</td>\n",
       "      <td>most_orders</td>\n",
       "      <td>30</td>\n",
       "      <td>regular_customer</td>\n",
       "      <td>high_spender</td>\n",
       "      <td>regular_customer</td>\n",
       "    </tr>\n",
       "    <tr>\n",
       "      <th>10798</th>\n",
       "      <td>1115</td>\n",
       "      <td>21553</td>\n",
       "      <td>14</td>\n",
       "      <td>1</td>\n",
       "      <td>168014</td>\n",
       "      <td>15</td>\n",
       "      <td>6</td>\n",
       "      <td>14</td>\n",
       "      <td>30.0</td>\n",
       "      <td>Lowfat 2% Milkfat Cottage Cheese</td>\n",
       "      <td>108</td>\n",
       "      <td>16</td>\n",
       "      <td>NaN</td>\n",
       "      <td>High-Range</td>\n",
       "      <td>regular_days</td>\n",
       "      <td>most_orders</td>\n",
       "      <td>21</td>\n",
       "      <td>regular_customer</td>\n",
       "      <td>high_spender</td>\n",
       "      <td>frequent_customer</td>\n",
       "    </tr>\n",
       "    <tr>\n",
       "      <th>11147</th>\n",
       "      <td>1155</td>\n",
       "      <td>21553</td>\n",
       "      <td>18</td>\n",
       "      <td>1</td>\n",
       "      <td>103747</td>\n",
       "      <td>22</td>\n",
       "      <td>1</td>\n",
       "      <td>13</td>\n",
       "      <td>12.0</td>\n",
       "      <td>Lowfat 2% Milkfat Cottage Cheese</td>\n",
       "      <td>108</td>\n",
       "      <td>16</td>\n",
       "      <td>NaN</td>\n",
       "      <td>High-Range</td>\n",
       "      <td>busiest_days</td>\n",
       "      <td>most_orders</td>\n",
       "      <td>27</td>\n",
       "      <td>regular_customer</td>\n",
       "      <td>high_spender</td>\n",
       "      <td>frequent_customer</td>\n",
       "    </tr>\n",
       "    <tr>\n",
       "      <th>11769</th>\n",
       "      <td>1220</td>\n",
       "      <td>21553</td>\n",
       "      <td>19</td>\n",
       "      <td>0</td>\n",
       "      <td>23475</td>\n",
       "      <td>3</td>\n",
       "      <td>0</td>\n",
       "      <td>17</td>\n",
       "      <td>26.0</td>\n",
       "      <td>Lowfat 2% Milkfat Cottage Cheese</td>\n",
       "      <td>108</td>\n",
       "      <td>16</td>\n",
       "      <td>NaN</td>\n",
       "      <td>High-Range</td>\n",
       "      <td>busiest_days</td>\n",
       "      <td>average_orders</td>\n",
       "      <td>3</td>\n",
       "      <td>new_customer</td>\n",
       "      <td>high_spender</td>\n",
       "      <td>regular_customer</td>\n",
       "    </tr>\n",
       "    <tr>\n",
       "      <th>...</th>\n",
       "      <td>...</td>\n",
       "      <td>...</td>\n",
       "      <td>...</td>\n",
       "      <td>...</td>\n",
       "      <td>...</td>\n",
       "      <td>...</td>\n",
       "      <td>...</td>\n",
       "      <td>...</td>\n",
       "      <td>...</td>\n",
       "      <td>...</td>\n",
       "      <td>...</td>\n",
       "      <td>...</td>\n",
       "      <td>...</td>\n",
       "      <td>...</td>\n",
       "      <td>...</td>\n",
       "      <td>...</td>\n",
       "      <td>...</td>\n",
       "      <td>...</td>\n",
       "      <td>...</td>\n",
       "      <td>...</td>\n",
       "    </tr>\n",
       "    <tr>\n",
       "      <th>32399788</th>\n",
       "      <td>3420548</td>\n",
       "      <td>21553</td>\n",
       "      <td>5</td>\n",
       "      <td>1</td>\n",
       "      <td>146887</td>\n",
       "      <td>3</td>\n",
       "      <td>4</td>\n",
       "      <td>11</td>\n",
       "      <td>7.0</td>\n",
       "      <td>Lowfat 2% Milkfat Cottage Cheese</td>\n",
       "      <td>108</td>\n",
       "      <td>16</td>\n",
       "      <td>NaN</td>\n",
       "      <td>High-Range</td>\n",
       "      <td>slowest_days</td>\n",
       "      <td>most_orders</td>\n",
       "      <td>20</td>\n",
       "      <td>regular_customer</td>\n",
       "      <td>high_spender</td>\n",
       "      <td>frequent_customer</td>\n",
       "    </tr>\n",
       "    <tr>\n",
       "      <th>32400331</th>\n",
       "      <td>3420604</td>\n",
       "      <td>21553</td>\n",
       "      <td>8</td>\n",
       "      <td>0</td>\n",
       "      <td>159443</td>\n",
       "      <td>8</td>\n",
       "      <td>2</td>\n",
       "      <td>13</td>\n",
       "      <td>6.0</td>\n",
       "      <td>Lowfat 2% Milkfat Cottage Cheese</td>\n",
       "      <td>108</td>\n",
       "      <td>16</td>\n",
       "      <td>NaN</td>\n",
       "      <td>High-Range</td>\n",
       "      <td>regular_days</td>\n",
       "      <td>most_orders</td>\n",
       "      <td>56</td>\n",
       "      <td>loyal_customer</td>\n",
       "      <td>high_spender</td>\n",
       "      <td>frequent_customer</td>\n",
       "    </tr>\n",
       "    <tr>\n",
       "      <th>32400992</th>\n",
       "      <td>3420676</td>\n",
       "      <td>21553</td>\n",
       "      <td>10</td>\n",
       "      <td>0</td>\n",
       "      <td>202268</td>\n",
       "      <td>50</td>\n",
       "      <td>5</td>\n",
       "      <td>16</td>\n",
       "      <td>6.0</td>\n",
       "      <td>Lowfat 2% Milkfat Cottage Cheese</td>\n",
       "      <td>108</td>\n",
       "      <td>16</td>\n",
       "      <td>NaN</td>\n",
       "      <td>High-Range</td>\n",
       "      <td>regular_days</td>\n",
       "      <td>most_orders</td>\n",
       "      <td>54</td>\n",
       "      <td>loyal_customer</td>\n",
       "      <td>high_spender</td>\n",
       "      <td>frequent_customer</td>\n",
       "    </tr>\n",
       "    <tr>\n",
       "      <th>32402475</th>\n",
       "      <td>3420827</td>\n",
       "      <td>21553</td>\n",
       "      <td>2</td>\n",
       "      <td>0</td>\n",
       "      <td>15643</td>\n",
       "      <td>1</td>\n",
       "      <td>1</td>\n",
       "      <td>10</td>\n",
       "      <td>-1.0</td>\n",
       "      <td>Lowfat 2% Milkfat Cottage Cheese</td>\n",
       "      <td>108</td>\n",
       "      <td>16</td>\n",
       "      <td>NaN</td>\n",
       "      <td>High-Range</td>\n",
       "      <td>busiest_days</td>\n",
       "      <td>most_orders</td>\n",
       "      <td>14</td>\n",
       "      <td>regular_customer</td>\n",
       "      <td>high_spender</td>\n",
       "      <td>regular_customer</td>\n",
       "    </tr>\n",
       "    <tr>\n",
       "      <th>32404590</th>\n",
       "      <td>3421047</td>\n",
       "      <td>33664</td>\n",
       "      <td>6</td>\n",
       "      <td>0</td>\n",
       "      <td>98554</td>\n",
       "      <td>4</td>\n",
       "      <td>1</td>\n",
       "      <td>11</td>\n",
       "      <td>4.0</td>\n",
       "      <td>2 % Reduced Fat  Milk</td>\n",
       "      <td>84</td>\n",
       "      <td>16</td>\n",
       "      <td>NaN</td>\n",
       "      <td>High-Range</td>\n",
       "      <td>busiest_days</td>\n",
       "      <td>most_orders</td>\n",
       "      <td>15</td>\n",
       "      <td>regular_customer</td>\n",
       "      <td>high_spender</td>\n",
       "      <td>frequent_customer</td>\n",
       "    </tr>\n",
       "  </tbody>\n",
       "</table>\n",
       "<p>5127 rows × 20 columns</p>\n",
       "</div>"
      ],
      "text/plain": [
       "          order_id  product_id  add_to_cart_order  reordered  user_id  \\\n",
       "347             43       21553                  6          1    39630   \n",
       "9177           950       21553                 20          0   187854   \n",
       "10798         1115       21553                 14          1   168014   \n",
       "11147         1155       21553                 18          1   103747   \n",
       "11769         1220       21553                 19          0    23475   \n",
       "...            ...         ...                ...        ...      ...   \n",
       "32399788   3420548       21553                  5          1   146887   \n",
       "32400331   3420604       21553                  8          0   159443   \n",
       "32400992   3420676       21553                 10          0   202268   \n",
       "32402475   3420827       21553                  2          0    15643   \n",
       "32404590   3421047       33664                  6          0    98554   \n",
       "\n",
       "          order_number  orders_day_of_week  order_hour_of_day  \\\n",
       "347                 14                   5                 17   \n",
       "9177                16                   1                 11   \n",
       "10798               15                   6                 14   \n",
       "11147               22                   1                 13   \n",
       "11769                3                   0                 17   \n",
       "...                ...                 ...                ...   \n",
       "32399788             3                   4                 11   \n",
       "32400331             8                   2                 13   \n",
       "32400992            50                   5                 16   \n",
       "32402475             1                   1                 10   \n",
       "32404590             4                   1                 11   \n",
       "\n",
       "          days_since_last_order                      product_name  aisle_id  \\\n",
       "347                         4.0  Lowfat 2% Milkfat Cottage Cheese       108   \n",
       "9177                       16.0  Lowfat 2% Milkfat Cottage Cheese       108   \n",
       "10798                      30.0  Lowfat 2% Milkfat Cottage Cheese       108   \n",
       "11147                      12.0  Lowfat 2% Milkfat Cottage Cheese       108   \n",
       "11769                      26.0  Lowfat 2% Milkfat Cottage Cheese       108   \n",
       "...                         ...                               ...       ...   \n",
       "32399788                    7.0  Lowfat 2% Milkfat Cottage Cheese       108   \n",
       "32400331                    6.0  Lowfat 2% Milkfat Cottage Cheese       108   \n",
       "32400992                    6.0  Lowfat 2% Milkfat Cottage Cheese       108   \n",
       "32402475                   -1.0  Lowfat 2% Milkfat Cottage Cheese       108   \n",
       "32404590                    4.0             2 % Reduced Fat  Milk        84   \n",
       "\n",
       "          department_id  prices price_label  busiest_days  \\\n",
       "347                  16     NaN  High-Range  regular_days   \n",
       "9177                 16     NaN  High-Range  busiest_days   \n",
       "10798                16     NaN  High-Range  regular_days   \n",
       "11147                16     NaN  High-Range  busiest_days   \n",
       "11769                16     NaN  High-Range  busiest_days   \n",
       "...                 ...     ...         ...           ...   \n",
       "32399788             16     NaN  High-Range  slowest_days   \n",
       "32400331             16     NaN  High-Range  regular_days   \n",
       "32400992             16     NaN  High-Range  regular_days   \n",
       "32402475             16     NaN  High-Range  busiest_days   \n",
       "32404590             16     NaN  High-Range  busiest_days   \n",
       "\n",
       "         busiest_period_of_day  order_max      loyalty_flag spending_flag  \\\n",
       "347             average_orders         14  regular_customer  high_spender   \n",
       "9177               most_orders         30  regular_customer  high_spender   \n",
       "10798              most_orders         21  regular_customer  high_spender   \n",
       "11147              most_orders         27  regular_customer  high_spender   \n",
       "11769           average_orders          3      new_customer  high_spender   \n",
       "...                        ...        ...               ...           ...   \n",
       "32399788           most_orders         20  regular_customer  high_spender   \n",
       "32400331           most_orders         56    loyal_customer  high_spender   \n",
       "32400992           most_orders         54    loyal_customer  high_spender   \n",
       "32402475           most_orders         14  regular_customer  high_spender   \n",
       "32404590           most_orders         15  regular_customer  high_spender   \n",
       "\n",
       "         order_frequency_flag  \n",
       "347         frequent_customer  \n",
       "9177         regular_customer  \n",
       "10798       frequent_customer  \n",
       "11147       frequent_customer  \n",
       "11769        regular_customer  \n",
       "...                       ...  \n",
       "32399788    frequent_customer  \n",
       "32400331    frequent_customer  \n",
       "32400992    frequent_customer  \n",
       "32402475     regular_customer  \n",
       "32404590    frequent_customer  \n",
       "\n",
       "[5127 rows x 20 columns]"
      ]
     },
     "execution_count": 24,
     "metadata": {},
     "output_type": "execute_result"
    }
   ],
   "source": [
    "ords_prods_merge.loc[ords_prods_merge['prices'].isna()]"
   ]
  },
  {
   "cell_type": "code",
   "execution_count": 25,
   "metadata": {},
   "outputs": [
    {
     "data": {
      "text/plain": [
       "25.0"
      ]
     },
     "execution_count": 25,
     "metadata": {},
     "output_type": "execute_result"
    }
   ],
   "source": [
    "# 25 is a reasonable max price for supermarket items\n",
    "ords_prods_merge['prices'].max()"
   ]
  },
  {
   "cell_type": "code",
   "execution_count": 26,
   "metadata": {},
   "outputs": [
    {
     "data": {
      "text/plain": [
       "<Axes: xlabel='prices', ylabel='prices'>"
      ]
     },
     "execution_count": 26,
     "metadata": {},
     "output_type": "execute_result"
    },
    {
     "data": {
      "image/png": "[encoded data removed]",
      "text/plain": [
       "<Figure size 640x480 with 1 Axes>"
      ]
     },
     "metadata": {},
     "output_type": "display_data"
    }
   ],
   "source": [
    "# let's try to make the histogram again\n",
    "sns.scatterplot(ords_prods_merge, x = 'prices', y = 'prices')\n"
   ]
  },
  {
   "cell_type": "code",
   "execution_count": 27,
   "metadata": {},
   "outputs": [
    {
     "name": "stderr",
     "output_type": "stream",
     "text": [
      "/Users/polusa/anaconda3/lib/python3.11/site-packages/seaborn/_oldcore.py:1119: FutureWarning: use_inf_as_na option is deprecated and will be removed in a future version. Convert inf values to NaN before operating instead.\n",
      "  with pd.option_context('mode.use_inf_as_na', True):\n"
     ]
    },
    {
     "data": {
      "text/plain": [
       "<Axes: xlabel='prices', ylabel='Count'>"
      ]
     },
     "execution_count": 27,
     "metadata": {},
     "output_type": "execute_result"
    },
    {
     "data": {
      "image/png": "[encoded data removed]",
      "text/plain": [
       "<Figure size 640x480 with 1 Axes>"
      ]
     },
     "metadata": {},
     "output_type": "display_data"
    }
   ],
   "source": [
    "# Create a histogram using seaborn\n",
    "sns.histplot(data=ords_prods_merge, x='prices', bins=30, color='skyblue')"
   ]
  },
  {
   "cell_type": "code",
   "execution_count": 28,
   "metadata": {},
   "outputs": [
    {
     "data": {
      "text/plain": [
       "<Axes: ylabel='Frequency'>"
      ]
     },
     "execution_count": 28,
     "metadata": {},
     "output_type": "execute_result"
    },
    {
     "data": {
      "image/png": "[encoded data removed]",
      "text/plain": [
       "<Figure size 640x480 with 1 Axes>"
      ]
     },
     "metadata": {},
     "output_type": "display_data"
    }
   ],
   "source": [
    "# using matplotlib\n",
    "ords_prods_merge['prices'].plot.hist(bins=25)"
   ]
  },
  {
   "cell_type": "markdown",
   "metadata": {},
   "source": [
    "To increase the level of granularity in the histogram, simply increase the number of bins to, say, 70.   \n",
    "This will result in a histogram with more, thinner columns:"
   ]
  },
  {
   "cell_type": "code",
   "execution_count": 29,
   "metadata": {},
   "outputs": [
    {
     "name": "stderr",
     "output_type": "stream",
     "text": [
      "/Users/polusa/anaconda3/lib/python3.11/site-packages/seaborn/_oldcore.py:1119: FutureWarning: use_inf_as_na option is deprecated and will be removed in a future version. Convert inf values to NaN before operating instead.\n",
      "  with pd.option_context('mode.use_inf_as_na', True):\n"
     ]
    },
    {
     "data": {
      "text/plain": [
       "<Axes: xlabel='prices', ylabel='Count'>"
      ]
     },
     "execution_count": 29,
     "metadata": {},
     "output_type": "execute_result"
    },
    {
     "data": {
      "image/png": "[encoded data removed]",
      "text/plain": [
       "<Figure size 640x480 with 1 Axes>"
      ]
     },
     "metadata": {},
     "output_type": "display_data"
    }
   ],
   "source": [
    "sns.histplot(data=ords_prods_merge, x='prices', bins=70, color='skyblue')"
   ]
  },
  {
   "cell_type": "markdown",
   "metadata": {},
   "source": [
    "### Exporting the Histrogram"
   ]
  },
  {
   "cell_type": "code",
   "execution_count": 30,
   "metadata": {},
   "outputs": [
    {
     "name": "stderr",
     "output_type": "stream",
     "text": [
      "/Users/polusa/anaconda3/lib/python3.11/site-packages/seaborn/_oldcore.py:1119: FutureWarning: use_inf_as_na option is deprecated and will be removed in a future version. Convert inf values to NaN before operating instead.\n",
      "  with pd.option_context('mode.use_inf_as_na', True):\n"
     ]
    },
    {
     "data": {
      "image/png": "[encoded data removed]",
      "text/plain": [
       "<Figure size 640x480 with 1 Axes>"
      ]
     },
     "metadata": {},
     "output_type": "display_data"
    }
   ],
   "source": [
    "hist = sns.histplot(data=ords_prods_merge, x='prices', bins=25, color='skyblue')"
   ]
  },
  {
   "cell_type": "code",
   "execution_count": 31,
   "metadata": {},
   "outputs": [],
   "source": [
    "hist.figure.savefig(os.path.join(path_vidz, 'hist_orders_dow.png'))"
   ]
  },
  {
   "cell_type": "markdown",
   "metadata": {},
   "source": [
    "### Creating Line Charts  \n",
    "\n",
    "Line charts are traditionally used to visualize the development of a characteristic over time.  \n",
    "Since you don’t have dates that could indicate a timeline in your Instacart data, you won’t be able to test this out on your project just yet.  \n",
    "You could, however, test out a different type of line chart, such as the development of the `prices` column across the days of the week.  \n",
    "To achieve this, you’d plot the `orders_day_of_week` column on the x-axis and the `prices` column on the y-axis.  \n",
    "\n",
    "One major caveat: this line chart will require a great deal of computing power due to the number of unique values in the “prices” column. As such, you’re likely to get a memory error and/or have your browser crash"
   ]
  },
  {
   "cell_type": "markdown",
   "metadata": {},
   "source": [
    "#### Sampling Data  \n",
    "You might consider only plotting the top or bottom 2,000,000 rows of your dataframe.  \n",
    "But does this work? The answer is, well, **no**. That’s because this subset wouldn’t be representative of the entire population. How, then, do you tackle a problem like this?  \n",
    "The answer is simple: **sampling**!  \n",
    "  \n",
    "You can split your dataframe into two samples with the same distribution, for instance an 80/20 or 70/30 split. If done correctly, both samples would have an equal proportion of data. In a 70/30 split, for example, the 30 percent sample would statistically resemble the 70 percent sample but contain less rows.  \n",
    "\n",
    "This is a standard approach in machine learning. When training a model, you’d normally use 80 percent of a data set to train the algorithm and the remaining 20 percent to check the accuracy of the model.  \n",
    "  \n",
    "\n",
    "Each row in the dataframe is “assigned” one of these numbers, and then the numbers are compared to a value. In this case, the value is 0.7, since you want a 70/30 split. Any rows whose assigned number is less than 0.7 are placed in one sample, while any rows whose assigned number is greater than 0.7 are placed in the other, effectively splitting the dataframe into two dataframes at a 70/30 ratio. \n"
   ]
  },
  {
   "cell_type": "code",
   "execution_count": 32,
   "metadata": {},
   "outputs": [
    {
     "name": "stdout",
     "output_type": "stream",
     "text": [
      "[0.96702984 0.54723225 0.97268436 ... 0.43122859 0.4262148  0.17866197]\n"
     ]
    }
   ],
   "source": [
    "# set the seed to make the random list riproducible\n",
    "np.random.seed(4)\n",
    "# return an Array of random values based on the dimensions provided rand(d0,d1,d2...)\n",
    "dev = np.random.rand(len(ords_prods_merge))\n",
    "print(dev)"
   ]
  },
  {
   "cell_type": "code",
   "execution_count": 33,
   "metadata": {},
   "outputs": [
    {
     "data": {
      "text/plain": [
       "array([False,  True, False, ...,  True,  True,  True])"
      ]
     },
     "execution_count": 33,
     "metadata": {},
     "output_type": "execute_result"
    }
   ],
   "source": [
    "# we can return an Array of boolean by specifyig a condition, in this case 0.7 since we want 70% of the data randomized\n",
    "# the True or False will be based on the random values created above \n",
    "dev = dev <= 0.7\n",
    "dev"
   ]
  },
  {
   "cell_type": "markdown",
   "metadata": {},
   "source": [
    "How can you use your list to split your dataframe into two samples?"
   ]
  },
  {
   "cell_type": "code",
   "execution_count": 34,
   "metadata": {},
   "outputs": [],
   "source": [
    "# store 70% of data\n",
    "big_sample = ords_prods_merge.loc[dev]\n",
    "\n",
    "# store 30% of data\n",
    "small_sample = ords_prods_merge.loc[~dev]"
   ]
  },
  {
   "cell_type": "code",
   "execution_count": 35,
   "metadata": {},
   "outputs": [
    {
     "data": {
      "text/html": [
       "<div>\n",
       "<style scoped>\n",
       "    .dataframe tbody tr th:only-of-type {\n",
       "        vertical-align: middle;\n",
       "    }\n",
       "\n",
       "    .dataframe tbody tr th {\n",
       "        vertical-align: top;\n",
       "    }\n",
       "\n",
       "    .dataframe thead th {\n",
       "        text-align: right;\n",
       "    }\n",
       "</style>\n",
       "<table border=\"1\" class=\"dataframe\">\n",
       "  <thead>\n",
       "    <tr style=\"text-align: right;\">\n",
       "      <th></th>\n",
       "      <th>order_id</th>\n",
       "      <th>product_id</th>\n",
       "      <th>add_to_cart_order</th>\n",
       "      <th>reordered</th>\n",
       "      <th>user_id</th>\n",
       "      <th>order_number</th>\n",
       "      <th>orders_day_of_week</th>\n",
       "      <th>order_hour_of_day</th>\n",
       "      <th>days_since_last_order</th>\n",
       "      <th>product_name</th>\n",
       "      <th>aisle_id</th>\n",
       "      <th>department_id</th>\n",
       "      <th>prices</th>\n",
       "      <th>price_label</th>\n",
       "      <th>busiest_days</th>\n",
       "      <th>busiest_period_of_day</th>\n",
       "      <th>order_max</th>\n",
       "      <th>loyalty_flag</th>\n",
       "      <th>spending_flag</th>\n",
       "      <th>order_frequency_flag</th>\n",
       "    </tr>\n",
       "  </thead>\n",
       "  <tbody>\n",
       "    <tr>\n",
       "      <th>347</th>\n",
       "      <td>43</td>\n",
       "      <td>21553</td>\n",
       "      <td>6</td>\n",
       "      <td>1</td>\n",
       "      <td>39630</td>\n",
       "      <td>14</td>\n",
       "      <td>5</td>\n",
       "      <td>17</td>\n",
       "      <td>4.0</td>\n",
       "      <td>Lowfat 2% Milkfat Cottage Cheese</td>\n",
       "      <td>108</td>\n",
       "      <td>16</td>\n",
       "      <td>NaN</td>\n",
       "      <td>High-Range</td>\n",
       "      <td>regular_days</td>\n",
       "      <td>average_orders</td>\n",
       "      <td>14</td>\n",
       "      <td>regular_customer</td>\n",
       "      <td>high_spender</td>\n",
       "      <td>frequent_customer</td>\n",
       "    </tr>\n",
       "    <tr>\n",
       "      <th>9177</th>\n",
       "      <td>950</td>\n",
       "      <td>21553</td>\n",
       "      <td>20</td>\n",
       "      <td>0</td>\n",
       "      <td>187854</td>\n",
       "      <td>16</td>\n",
       "      <td>1</td>\n",
       "      <td>11</td>\n",
       "      <td>16.0</td>\n",
       "      <td>Lowfat 2% Milkfat Cottage Cheese</td>\n",
       "      <td>108</td>\n",
       "      <td>16</td>\n",
       "      <td>NaN</td>\n",
       "      <td>High-Range</td>\n",
       "      <td>busiest_days</td>\n",
       "      <td>most_orders</td>\n",
       "      <td>30</td>\n",
       "      <td>regular_customer</td>\n",
       "      <td>high_spender</td>\n",
       "      <td>regular_customer</td>\n",
       "    </tr>\n",
       "    <tr>\n",
       "      <th>10798</th>\n",
       "      <td>1115</td>\n",
       "      <td>21553</td>\n",
       "      <td>14</td>\n",
       "      <td>1</td>\n",
       "      <td>168014</td>\n",
       "      <td>15</td>\n",
       "      <td>6</td>\n",
       "      <td>14</td>\n",
       "      <td>30.0</td>\n",
       "      <td>Lowfat 2% Milkfat Cottage Cheese</td>\n",
       "      <td>108</td>\n",
       "      <td>16</td>\n",
       "      <td>NaN</td>\n",
       "      <td>High-Range</td>\n",
       "      <td>regular_days</td>\n",
       "      <td>most_orders</td>\n",
       "      <td>21</td>\n",
       "      <td>regular_customer</td>\n",
       "      <td>high_spender</td>\n",
       "      <td>frequent_customer</td>\n",
       "    </tr>\n",
       "    <tr>\n",
       "      <th>11147</th>\n",
       "      <td>1155</td>\n",
       "      <td>21553</td>\n",
       "      <td>18</td>\n",
       "      <td>1</td>\n",
       "      <td>103747</td>\n",
       "      <td>22</td>\n",
       "      <td>1</td>\n",
       "      <td>13</td>\n",
       "      <td>12.0</td>\n",
       "      <td>Lowfat 2% Milkfat Cottage Cheese</td>\n",
       "      <td>108</td>\n",
       "      <td>16</td>\n",
       "      <td>NaN</td>\n",
       "      <td>High-Range</td>\n",
       "      <td>busiest_days</td>\n",
       "      <td>most_orders</td>\n",
       "      <td>27</td>\n",
       "      <td>regular_customer</td>\n",
       "      <td>high_spender</td>\n",
       "      <td>frequent_customer</td>\n",
       "    </tr>\n",
       "    <tr>\n",
       "      <th>11769</th>\n",
       "      <td>1220</td>\n",
       "      <td>21553</td>\n",
       "      <td>19</td>\n",
       "      <td>0</td>\n",
       "      <td>23475</td>\n",
       "      <td>3</td>\n",
       "      <td>0</td>\n",
       "      <td>17</td>\n",
       "      <td>26.0</td>\n",
       "      <td>Lowfat 2% Milkfat Cottage Cheese</td>\n",
       "      <td>108</td>\n",
       "      <td>16</td>\n",
       "      <td>NaN</td>\n",
       "      <td>High-Range</td>\n",
       "      <td>busiest_days</td>\n",
       "      <td>average_orders</td>\n",
       "      <td>3</td>\n",
       "      <td>new_customer</td>\n",
       "      <td>high_spender</td>\n",
       "      <td>regular_customer</td>\n",
       "    </tr>\n",
       "    <tr>\n",
       "      <th>...</th>\n",
       "      <td>...</td>\n",
       "      <td>...</td>\n",
       "      <td>...</td>\n",
       "      <td>...</td>\n",
       "      <td>...</td>\n",
       "      <td>...</td>\n",
       "      <td>...</td>\n",
       "      <td>...</td>\n",
       "      <td>...</td>\n",
       "      <td>...</td>\n",
       "      <td>...</td>\n",
       "      <td>...</td>\n",
       "      <td>...</td>\n",
       "      <td>...</td>\n",
       "      <td>...</td>\n",
       "      <td>...</td>\n",
       "      <td>...</td>\n",
       "      <td>...</td>\n",
       "      <td>...</td>\n",
       "      <td>...</td>\n",
       "    </tr>\n",
       "    <tr>\n",
       "      <th>32399788</th>\n",
       "      <td>3420548</td>\n",
       "      <td>21553</td>\n",
       "      <td>5</td>\n",
       "      <td>1</td>\n",
       "      <td>146887</td>\n",
       "      <td>3</td>\n",
       "      <td>4</td>\n",
       "      <td>11</td>\n",
       "      <td>7.0</td>\n",
       "      <td>Lowfat 2% Milkfat Cottage Cheese</td>\n",
       "      <td>108</td>\n",
       "      <td>16</td>\n",
       "      <td>NaN</td>\n",
       "      <td>High-Range</td>\n",
       "      <td>slowest_days</td>\n",
       "      <td>most_orders</td>\n",
       "      <td>20</td>\n",
       "      <td>regular_customer</td>\n",
       "      <td>high_spender</td>\n",
       "      <td>frequent_customer</td>\n",
       "    </tr>\n",
       "    <tr>\n",
       "      <th>32400331</th>\n",
       "      <td>3420604</td>\n",
       "      <td>21553</td>\n",
       "      <td>8</td>\n",
       "      <td>0</td>\n",
       "      <td>159443</td>\n",
       "      <td>8</td>\n",
       "      <td>2</td>\n",
       "      <td>13</td>\n",
       "      <td>6.0</td>\n",
       "      <td>Lowfat 2% Milkfat Cottage Cheese</td>\n",
       "      <td>108</td>\n",
       "      <td>16</td>\n",
       "      <td>NaN</td>\n",
       "      <td>High-Range</td>\n",
       "      <td>regular_days</td>\n",
       "      <td>most_orders</td>\n",
       "      <td>56</td>\n",
       "      <td>loyal_customer</td>\n",
       "      <td>high_spender</td>\n",
       "      <td>frequent_customer</td>\n",
       "    </tr>\n",
       "    <tr>\n",
       "      <th>32400992</th>\n",
       "      <td>3420676</td>\n",
       "      <td>21553</td>\n",
       "      <td>10</td>\n",
       "      <td>0</td>\n",
       "      <td>202268</td>\n",
       "      <td>50</td>\n",
       "      <td>5</td>\n",
       "      <td>16</td>\n",
       "      <td>6.0</td>\n",
       "      <td>Lowfat 2% Milkfat Cottage Cheese</td>\n",
       "      <td>108</td>\n",
       "      <td>16</td>\n",
       "      <td>NaN</td>\n",
       "      <td>High-Range</td>\n",
       "      <td>regular_days</td>\n",
       "      <td>most_orders</td>\n",
       "      <td>54</td>\n",
       "      <td>loyal_customer</td>\n",
       "      <td>high_spender</td>\n",
       "      <td>frequent_customer</td>\n",
       "    </tr>\n",
       "    <tr>\n",
       "      <th>32402475</th>\n",
       "      <td>3420827</td>\n",
       "      <td>21553</td>\n",
       "      <td>2</td>\n",
       "      <td>0</td>\n",
       "      <td>15643</td>\n",
       "      <td>1</td>\n",
       "      <td>1</td>\n",
       "      <td>10</td>\n",
       "      <td>-1.0</td>\n",
       "      <td>Lowfat 2% Milkfat Cottage Cheese</td>\n",
       "      <td>108</td>\n",
       "      <td>16</td>\n",
       "      <td>NaN</td>\n",
       "      <td>High-Range</td>\n",
       "      <td>busiest_days</td>\n",
       "      <td>most_orders</td>\n",
       "      <td>14</td>\n",
       "      <td>regular_customer</td>\n",
       "      <td>high_spender</td>\n",
       "      <td>regular_customer</td>\n",
       "    </tr>\n",
       "    <tr>\n",
       "      <th>32404590</th>\n",
       "      <td>3421047</td>\n",
       "      <td>33664</td>\n",
       "      <td>6</td>\n",
       "      <td>0</td>\n",
       "      <td>98554</td>\n",
       "      <td>4</td>\n",
       "      <td>1</td>\n",
       "      <td>11</td>\n",
       "      <td>4.0</td>\n",
       "      <td>2 % Reduced Fat  Milk</td>\n",
       "      <td>84</td>\n",
       "      <td>16</td>\n",
       "      <td>NaN</td>\n",
       "      <td>High-Range</td>\n",
       "      <td>busiest_days</td>\n",
       "      <td>most_orders</td>\n",
       "      <td>15</td>\n",
       "      <td>regular_customer</td>\n",
       "      <td>high_spender</td>\n",
       "      <td>frequent_customer</td>\n",
       "    </tr>\n",
       "  </tbody>\n",
       "</table>\n",
       "<p>5127 rows × 20 columns</p>\n",
       "</div>"
      ],
      "text/plain": [
       "          order_id  product_id  add_to_cart_order  reordered  user_id  \\\n",
       "347             43       21553                  6          1    39630   \n",
       "9177           950       21553                 20          0   187854   \n",
       "10798         1115       21553                 14          1   168014   \n",
       "11147         1155       21553                 18          1   103747   \n",
       "11769         1220       21553                 19          0    23475   \n",
       "...            ...         ...                ...        ...      ...   \n",
       "32399788   3420548       21553                  5          1   146887   \n",
       "32400331   3420604       21553                  8          0   159443   \n",
       "32400992   3420676       21553                 10          0   202268   \n",
       "32402475   3420827       21553                  2          0    15643   \n",
       "32404590   3421047       33664                  6          0    98554   \n",
       "\n",
       "          order_number  orders_day_of_week  order_hour_of_day  \\\n",
       "347                 14                   5                 17   \n",
       "9177                16                   1                 11   \n",
       "10798               15                   6                 14   \n",
       "11147               22                   1                 13   \n",
       "11769                3                   0                 17   \n",
       "...                ...                 ...                ...   \n",
       "32399788             3                   4                 11   \n",
       "32400331             8                   2                 13   \n",
       "32400992            50                   5                 16   \n",
       "32402475             1                   1                 10   \n",
       "32404590             4                   1                 11   \n",
       "\n",
       "          days_since_last_order                      product_name  aisle_id  \\\n",
       "347                         4.0  Lowfat 2% Milkfat Cottage Cheese       108   \n",
       "9177                       16.0  Lowfat 2% Milkfat Cottage Cheese       108   \n",
       "10798                      30.0  Lowfat 2% Milkfat Cottage Cheese       108   \n",
       "11147                      12.0  Lowfat 2% Milkfat Cottage Cheese       108   \n",
       "11769                      26.0  Lowfat 2% Milkfat Cottage Cheese       108   \n",
       "...                         ...                               ...       ...   \n",
       "32399788                    7.0  Lowfat 2% Milkfat Cottage Cheese       108   \n",
       "32400331                    6.0  Lowfat 2% Milkfat Cottage Cheese       108   \n",
       "32400992                    6.0  Lowfat 2% Milkfat Cottage Cheese       108   \n",
       "32402475                   -1.0  Lowfat 2% Milkfat Cottage Cheese       108   \n",
       "32404590                    4.0             2 % Reduced Fat  Milk        84   \n",
       "\n",
       "          department_id  prices price_label  busiest_days  \\\n",
       "347                  16     NaN  High-Range  regular_days   \n",
       "9177                 16     NaN  High-Range  busiest_days   \n",
       "10798                16     NaN  High-Range  regular_days   \n",
       "11147                16     NaN  High-Range  busiest_days   \n",
       "11769                16     NaN  High-Range  busiest_days   \n",
       "...                 ...     ...         ...           ...   \n",
       "32399788             16     NaN  High-Range  slowest_days   \n",
       "32400331             16     NaN  High-Range  regular_days   \n",
       "32400992             16     NaN  High-Range  regular_days   \n",
       "32402475             16     NaN  High-Range  busiest_days   \n",
       "32404590             16     NaN  High-Range  busiest_days   \n",
       "\n",
       "         busiest_period_of_day  order_max      loyalty_flag spending_flag  \\\n",
       "347             average_orders         14  regular_customer  high_spender   \n",
       "9177               most_orders         30  regular_customer  high_spender   \n",
       "10798              most_orders         21  regular_customer  high_spender   \n",
       "11147              most_orders         27  regular_customer  high_spender   \n",
       "11769           average_orders          3      new_customer  high_spender   \n",
       "...                        ...        ...               ...           ...   \n",
       "32399788           most_orders         20  regular_customer  high_spender   \n",
       "32400331           most_orders         56    loyal_customer  high_spender   \n",
       "32400992           most_orders         54    loyal_customer  high_spender   \n",
       "32402475           most_orders         14  regular_customer  high_spender   \n",
       "32404590           most_orders         15  regular_customer  high_spender   \n",
       "\n",
       "         order_frequency_flag  \n",
       "347         frequent_customer  \n",
       "9177         regular_customer  \n",
       "10798       frequent_customer  \n",
       "11147       frequent_customer  \n",
       "11769        regular_customer  \n",
       "...                       ...  \n",
       "32399788    frequent_customer  \n",
       "32400331    frequent_customer  \n",
       "32400992    frequent_customer  \n",
       "32402475     regular_customer  \n",
       "32404590    frequent_customer  \n",
       "\n",
       "[5127 rows x 20 columns]"
      ]
     },
     "execution_count": 35,
     "metadata": {},
     "output_type": "execute_result"
    }
   ],
   "source": [
    "# check if any row has null values\n",
    "ords_prods_merge[ords_prods_merge.isna().any(axis=1)]"
   ]
  },
  {
   "cell_type": "code",
   "execution_count": 36,
   "metadata": {},
   "outputs": [
    {
     "data": {
      "text/plain": [
       "array([11.3, 13.4,  3.6,  8.4, 13.7, 10.7, 11.5,  7.5, 11.8,  5.3, 10. ,\n",
       "        8.2,  6.6,  6.9,  9.1, 12.4, 11.1,  2. , 12.2,  8.7,  1.8,  5. ,\n",
       "        7. ,  5.5, 10.2, 10.3,  4.1, 14.3,  4.4,  9.2,  7.4,  9.3, 13.6,\n",
       "       13.5, 10.6,  4.3,  4.7,  1.6,  1.1, 10.5, 10.9,  8.6,  4. ,  7.3,\n",
       "       14.4,  3.5, 12.3,  3.7,  2.4,  6.1, 11.4,  5.7, 14.5,  3.8,  7.6,\n",
       "       12.1,  4.5,  6.3,  1.2, 10.8, 20.1,  3.2,  8.3,  3.4, 11.6,  4.2,\n",
       "        5.2,  9.7, 15. ,  4.6,  5.9,  8. ,  2.6,  2.2, 14.2,  9. ,  3. ,\n",
       "       12. ,  6.8, 12.8,  2.3, 11. , 14. ,  1.9,  4.9,  7.2,  2.5,  7.1,\n",
       "        8.5,  6.7,  6.5,  1.4, 12.9,  5.8, 13.9,  9.4,  7.9, 11.2,  2.1,\n",
       "        8.8,  9.8, 12.7, 13.8, 10.4,  7.8, 14.7, 23.8,  8.9,  5.1,  5.6,\n",
       "        4.8,  6.2, 24.9,  2.7,  1.3,  8.1,  3.1,  6. ,  7.7,  9.5, 13.2,\n",
       "        9.6, 13. , 14.8,  2.8, 16.9, 14.6,  3.3,  2.9,  5.4,  nan, 12.6,\n",
       "       13.1,  3.9, 14.1, 11.9, 13.3,  6.4, 18.2,  9.9, 11.7, 12.5, 19.4,\n",
       "       14.9,  1.7,  1. , 10.1, 21.1, 17.3, 21.3, 22.3, 24.2, 15.9, 19.7,\n",
       "       15.8,  1.5, 23.2, 16.8, 25. , 15.7, 23.3, 22.1, 19.6, 23.9, 19.1,\n",
       "       18.6, 18.5, 16.2, 23.1, 17. , 19. , 20. , 24. , 21.6, 19.8, 24.3,\n",
       "       16.5, 24.7, 16.6, 15.5, 16. , 18.8, 18.4, 23.6, 15.3, 16.7, 20.5,\n",
       "       20.4, 18.7, 22.9, 19.3, 23.5, 20.9, 22.8, 18.1, 17.4, 23.7, 16.3,\n",
       "       20.7, 17.2, 17.1, 15.2, 19.5, 20.8, 22.6, 16.4, 21.9, 24.5, 15.1,\n",
       "       22.4, 22.2, 18. , 17.7, 19.2, 17.5, 23.4, 23. , 24.6, 21.7, 17.6,\n",
       "       22. , 15.6, 19.9, 20.6, 21.8, 15.4, 24.1, 16.1, 17.8, 18.9, 22.5,\n",
       "       24.4, 22.7, 24.8, 20.2, 17.9, 21.4, 21. , 21.5, 20.3, 18.3])"
      ]
     },
     "execution_count": 36,
     "metadata": {},
     "output_type": "execute_result"
    }
   ],
   "source": [
    "ords_prods_merge['prices'].unique()"
   ]
  },
  {
   "cell_type": "code",
   "execution_count": 37,
   "metadata": {},
   "outputs": [
    {
     "data": {
      "text/plain": [
       "True"
      ]
     },
     "execution_count": 37,
     "metadata": {},
     "output_type": "execute_result"
    }
   ],
   "source": [
    "# the two samples contains all the original rows\n",
    "len(big_sample) + len(small_sample) == len(ords_prods_merge)"
   ]
  },
  {
   "cell_type": "markdown",
   "metadata": {},
   "source": [
    "As one last step before creating that chart, let’s do something that will speed up the processing time even further—reducing your samples to only those columns necessary for the chart, namely `prices` and `orders_day_of_week`."
   ]
  },
  {
   "cell_type": "code",
   "execution_count": 38,
   "metadata": {},
   "outputs": [
    {
     "data": {
      "text/html": [
       "<div>\n",
       "<style scoped>\n",
       "    .dataframe tbody tr th:only-of-type {\n",
       "        vertical-align: middle;\n",
       "    }\n",
       "\n",
       "    .dataframe tbody tr th {\n",
       "        vertical-align: top;\n",
       "    }\n",
       "\n",
       "    .dataframe thead th {\n",
       "        text-align: right;\n",
       "    }\n",
       "</style>\n",
       "<table border=\"1\" class=\"dataframe\">\n",
       "  <thead>\n",
       "    <tr style=\"text-align: right;\">\n",
       "      <th></th>\n",
       "      <th>order_id</th>\n",
       "      <th>product_id</th>\n",
       "      <th>add_to_cart_order</th>\n",
       "      <th>reordered</th>\n",
       "      <th>user_id</th>\n",
       "      <th>order_number</th>\n",
       "      <th>orders_day_of_week</th>\n",
       "      <th>order_hour_of_day</th>\n",
       "      <th>days_since_last_order</th>\n",
       "      <th>product_name</th>\n",
       "      <th>aisle_id</th>\n",
       "      <th>department_id</th>\n",
       "      <th>prices</th>\n",
       "      <th>price_label</th>\n",
       "      <th>busiest_days</th>\n",
       "      <th>busiest_period_of_day</th>\n",
       "      <th>order_max</th>\n",
       "      <th>loyalty_flag</th>\n",
       "      <th>spending_flag</th>\n",
       "      <th>order_frequency_flag</th>\n",
       "    </tr>\n",
       "  </thead>\n",
       "  <tbody>\n",
       "    <tr>\n",
       "      <th>0</th>\n",
       "      <td>2</td>\n",
       "      <td>33120</td>\n",
       "      <td>1</td>\n",
       "      <td>1</td>\n",
       "      <td>202279</td>\n",
       "      <td>3</td>\n",
       "      <td>5</td>\n",
       "      <td>9</td>\n",
       "      <td>8.0</td>\n",
       "      <td>Organic Egg Whites</td>\n",
       "      <td>86</td>\n",
       "      <td>16</td>\n",
       "      <td>11.3</td>\n",
       "      <td>Mid-Range</td>\n",
       "      <td>regular_days</td>\n",
       "      <td>average_orders</td>\n",
       "      <td>8</td>\n",
       "      <td>new_customer</td>\n",
       "      <td>low_spender</td>\n",
       "      <td>non-frequent-customer</td>\n",
       "    </tr>\n",
       "  </tbody>\n",
       "</table>\n",
       "</div>"
      ],
      "text/plain": [
       "   order_id  product_id  add_to_cart_order  reordered  user_id  order_number  \\\n",
       "0         2       33120                  1          1   202279             3   \n",
       "\n",
       "   orders_day_of_week  order_hour_of_day  days_since_last_order  \\\n",
       "0                   5                  9                    8.0   \n",
       "\n",
       "         product_name  aisle_id  department_id  prices price_label  \\\n",
       "0  Organic Egg Whites        86             16    11.3   Mid-Range   \n",
       "\n",
       "   busiest_days busiest_period_of_day  order_max  loyalty_flag spending_flag  \\\n",
       "0  regular_days        average_orders          8  new_customer   low_spender   \n",
       "\n",
       "    order_frequency_flag  \n",
       "0  non-frequent-customer  "
      ]
     },
     "execution_count": 38,
     "metadata": {},
     "output_type": "execute_result"
    }
   ],
   "source": [
    "small_sample.head(1)"
   ]
  },
  {
   "cell_type": "code",
   "execution_count": 39,
   "metadata": {},
   "outputs": [],
   "source": [
    "df_2 = small_sample[['orders_day_of_week', 'prices']]\n"
   ]
  },
  {
   "cell_type": "code",
   "execution_count": 40,
   "metadata": {},
   "outputs": [
    {
     "data": {
      "text/html": [
       "<div>\n",
       "<style scoped>\n",
       "    .dataframe tbody tr th:only-of-type {\n",
       "        vertical-align: middle;\n",
       "    }\n",
       "\n",
       "    .dataframe tbody tr th {\n",
       "        vertical-align: top;\n",
       "    }\n",
       "\n",
       "    .dataframe thead th {\n",
       "        text-align: right;\n",
       "    }\n",
       "</style>\n",
       "<table border=\"1\" class=\"dataframe\">\n",
       "  <thead>\n",
       "    <tr style=\"text-align: right;\">\n",
       "      <th></th>\n",
       "      <th>orders_day_of_week</th>\n",
       "      <th>prices</th>\n",
       "    </tr>\n",
       "  </thead>\n",
       "  <tbody>\n",
       "    <tr>\n",
       "      <th>0</th>\n",
       "      <td>5</td>\n",
       "      <td>11.3</td>\n",
       "    </tr>\n",
       "    <tr>\n",
       "      <th>2</th>\n",
       "      <td>5</td>\n",
       "      <td>3.6</td>\n",
       "    </tr>\n",
       "  </tbody>\n",
       "</table>\n",
       "</div>"
      ],
      "text/plain": [
       "   orders_day_of_week  prices\n",
       "0                   5    11.3\n",
       "2                   5     3.6"
      ]
     },
     "execution_count": 40,
     "metadata": {},
     "output_type": "execute_result"
    }
   ],
   "source": [
    "df_2.head(2)"
   ]
  },
  {
   "cell_type": "code",
   "execution_count": 41,
   "metadata": {},
   "outputs": [
    {
     "name": "stderr",
     "output_type": "stream",
     "text": [
      "/Users/polusa/anaconda3/lib/python3.11/site-packages/seaborn/_oldcore.py:1119: FutureWarning: use_inf_as_na option is deprecated and will be removed in a future version. Convert inf values to NaN before operating instead.\n",
      "  with pd.option_context('mode.use_inf_as_na', True):\n",
      "/Users/polusa/anaconda3/lib/python3.11/site-packages/seaborn/_oldcore.py:1119: FutureWarning: use_inf_as_na option is deprecated and will be removed in a future version. Convert inf values to NaN before operating instead.\n",
      "  with pd.option_context('mode.use_inf_as_na', True):\n"
     ]
    },
    {
     "data": {
      "image/png": "[encoded data removed]",
      "text/plain": [
       "<Figure size 640x480 with 1 Axes>"
      ]
     },
     "metadata": {},
     "output_type": "display_data"
    }
   ],
   "source": [
    "# draw line chart\n",
    "line = sns.lineplot(data=df_2, x = 'orders_day_of_week', y = 'prices')"
   ]
  },
  {
   "cell_type": "markdown",
   "metadata": {},
   "source": [
    "You may be wondering what those translucent blue bands are around your line. Those are called error bands, and they represent the chart’s confidence intervals. In other words, if this line were a prediction, there would be a 95 percent probability that the predicted value would fall within the area of the error bands.  \n",
    "  \n",
    "How do you know for a fact that the new line chart you’ve created is representative of the population? Remember this is the line graph drawn from a sample that is 30% of all data.  \n",
    "The best way to check is to compare the line chart of your subset with the line chart of the entire dataframe (or even the big sample)."
   ]
  },
  {
   "cell_type": "markdown",
   "metadata": {},
   "source": []
  }
 ],
 "metadata": {
  "kernelspec": {
   "display_name": "base",
   "language": "python",
   "name": "python3"
  },
  "language_info": {
   "codemirror_mode": {
    "name": "ipython",
    "version": 3
   },
   "file_extension": ".py",
   "mimetype": "text/x-python",
   "name": "python",
   "nbconvert_exporter": "python",
   "pygments_lexer": "ipython3",
   "version": "3.11.7"
  }
 },
 "nbformat": 4,
 "nbformat_minor": 2
}
