{
 "cells": [
  {
   "cell_type": "code",
   "execution_count": 1,
   "id": "c2e17067-4c69-4d7f-b9ba-0f2845e0324d",
   "metadata": {},
   "outputs": [],
   "source": [
    "import pandas as pd\n",
    "import os"
   ]
  },
  {
   "cell_type": "code",
   "execution_count": 2,
   "id": "d0a51dfe-1ee5-4430-b5e1-65ff6bdc0a2e",
   "metadata": {},
   "outputs": [],
   "source": [
    "path = r'/Users/polusa/Library/Mobile Documents/com~apple~CloudDocs/my_DA_2024/CareerFoundry_Data_Analytics_Bootcamp/4-Python_Fundamentals_for_DA/04-2024_Instacart_Basket_Analysis/02-Data'"
   ]
  },
  {
   "cell_type": "code",
   "execution_count": 3,
   "id": "585c366d-9989-429f-ae81-273dfc9b9d52",
   "metadata": {},
   "outputs": [],
   "source": [
    "df_prods = pd.read_csv(os.path.join(path,'01-Raw_Data/products.csv'), index_col=False)\n",
    "df_ords = pd.read_csv(os.path.join(path,'02-Prepared_Data/orders_wrangled.csv'),index_col=[0])"
   ]
  },
  {
   "cell_type": "code",
   "execution_count": 5,
   "id": "3f3cdd3e-4113-4116-ba44-9405f66d4624",
   "metadata": {},
   "outputs": [
    {
     "data": {
      "text/html": [
       "<div>\n",
       "<style scoped>\n",
       "    .dataframe tbody tr th:only-of-type {\n",
       "        vertical-align: middle;\n",
       "    }\n",
       "\n",
       "    .dataframe tbody tr th {\n",
       "        vertical-align: top;\n",
       "    }\n",
       "\n",
       "    .dataframe thead th {\n",
       "        text-align: right;\n",
       "    }\n",
       "</style>\n",
       "<table border=\"1\" class=\"dataframe\">\n",
       "  <thead>\n",
       "    <tr style=\"text-align: right;\">\n",
       "      <th></th>\n",
       "      <th>order_id</th>\n",
       "      <th>user_id</th>\n",
       "      <th>order_number</th>\n",
       "      <th>orders_day_of_week</th>\n",
       "      <th>order_hour_of_day</th>\n",
       "      <th>days_since_last_order</th>\n",
       "    </tr>\n",
       "  </thead>\n",
       "  <tbody>\n",
       "    <tr>\n",
       "      <th>count</th>\n",
       "      <td>3.421083e+06</td>\n",
       "      <td>3.421083e+06</td>\n",
       "      <td>3.421083e+06</td>\n",
       "      <td>3.421083e+06</td>\n",
       "      <td>3.421083e+06</td>\n",
       "      <td>3.214874e+06</td>\n",
       "    </tr>\n",
       "    <tr>\n",
       "      <th>mean</th>\n",
       "      <td>1.710542e+06</td>\n",
       "      <td>1.029782e+05</td>\n",
       "      <td>1.715486e+01</td>\n",
       "      <td>2.776219e+00</td>\n",
       "      <td>1.345202e+01</td>\n",
       "      <td>1.111484e+01</td>\n",
       "    </tr>\n",
       "    <tr>\n",
       "      <th>std</th>\n",
       "      <td>9.875817e+05</td>\n",
       "      <td>5.953372e+04</td>\n",
       "      <td>1.773316e+01</td>\n",
       "      <td>2.046829e+00</td>\n",
       "      <td>4.226088e+00</td>\n",
       "      <td>9.206737e+00</td>\n",
       "    </tr>\n",
       "    <tr>\n",
       "      <th>min</th>\n",
       "      <td>1.000000e+00</td>\n",
       "      <td>1.000000e+00</td>\n",
       "      <td>1.000000e+00</td>\n",
       "      <td>0.000000e+00</td>\n",
       "      <td>0.000000e+00</td>\n",
       "      <td>0.000000e+00</td>\n",
       "    </tr>\n",
       "    <tr>\n",
       "      <th>25%</th>\n",
       "      <td>8.552715e+05</td>\n",
       "      <td>5.139400e+04</td>\n",
       "      <td>5.000000e+00</td>\n",
       "      <td>1.000000e+00</td>\n",
       "      <td>1.000000e+01</td>\n",
       "      <td>4.000000e+00</td>\n",
       "    </tr>\n",
       "    <tr>\n",
       "      <th>50%</th>\n",
       "      <td>1.710542e+06</td>\n",
       "      <td>1.026890e+05</td>\n",
       "      <td>1.100000e+01</td>\n",
       "      <td>3.000000e+00</td>\n",
       "      <td>1.300000e+01</td>\n",
       "      <td>7.000000e+00</td>\n",
       "    </tr>\n",
       "    <tr>\n",
       "      <th>75%</th>\n",
       "      <td>2.565812e+06</td>\n",
       "      <td>1.543850e+05</td>\n",
       "      <td>2.300000e+01</td>\n",
       "      <td>5.000000e+00</td>\n",
       "      <td>1.600000e+01</td>\n",
       "      <td>1.500000e+01</td>\n",
       "    </tr>\n",
       "    <tr>\n",
       "      <th>max</th>\n",
       "      <td>3.421083e+06</td>\n",
       "      <td>2.062090e+05</td>\n",
       "      <td>1.000000e+02</td>\n",
       "      <td>6.000000e+00</td>\n",
       "      <td>2.300000e+01</td>\n",
       "      <td>3.000000e+01</td>\n",
       "    </tr>\n",
       "  </tbody>\n",
       "</table>\n",
       "</div>"
      ],
      "text/plain": [
       "           order_id       user_id  order_number  orders_day_of_week  \\\n",
       "count  3.421083e+06  3.421083e+06  3.421083e+06        3.421083e+06   \n",
       "mean   1.710542e+06  1.029782e+05  1.715486e+01        2.776219e+00   \n",
       "std    9.875817e+05  5.953372e+04  1.773316e+01        2.046829e+00   \n",
       "min    1.000000e+00  1.000000e+00  1.000000e+00        0.000000e+00   \n",
       "25%    8.552715e+05  5.139400e+04  5.000000e+00        1.000000e+00   \n",
       "50%    1.710542e+06  1.026890e+05  1.100000e+01        3.000000e+00   \n",
       "75%    2.565812e+06  1.543850e+05  2.300000e+01        5.000000e+00   \n",
       "max    3.421083e+06  2.062090e+05  1.000000e+02        6.000000e+00   \n",
       "\n",
       "       order_hour_of_day  days_since_last_order  \n",
       "count       3.421083e+06           3.214874e+06  \n",
       "mean        1.345202e+01           1.111484e+01  \n",
       "std         4.226088e+00           9.206737e+00  \n",
       "min         0.000000e+00           0.000000e+00  \n",
       "25%         1.000000e+01           4.000000e+00  \n",
       "50%         1.300000e+01           7.000000e+00  \n",
       "75%         1.600000e+01           1.500000e+01  \n",
       "max         2.300000e+01           3.000000e+01  "
      ]
     },
     "execution_count": 5,
     "metadata": {},
     "output_type": "execute_result"
    }
   ],
   "source": [
    "df_ords.describe()"
   ]
  },
  {
   "cell_type": "markdown",
   "id": "2727da5e-a1ad-4a1d-8744-7ca299e67497",
   "metadata": {},
   "source": [
    "### Data Quality (consistency checks)\n",
    "\n",
    "Throughout this Exercise, you’ll be walking through some of the most common checks you’ll want to perform on data to confirm its consistency.  \n",
    "\n",
    "These include:\n",
    "\n",
    "- Finding and addressing mixed data types\n",
    "- Finding and addressing missing values\n",
    "- Finding and addressing duplicate records"
   ]
  },
  {
   "cell_type": "markdown",
   "id": "5f969c5b-f3e1-4254-ab72-a46e553d198f",
   "metadata": {},
   "source": [
    "### Mixed Data Types  \n",
    "\n",
    "A mixed-type column is a column that includes both string values and numeric values. This could happen, for instance, if you had a column of names (string format), where missing values were marked with a “0” (numeric format).  \n",
    "\n",
    "Since our dataset has already all columns in order regarding the data types let's practice by creating a small test dataframe."
   ]
  },
  {
   "cell_type": "code",
   "execution_count": 6,
   "id": "8384bace-d0bd-4fc0-b10b-706d2da2b342",
   "metadata": {},
   "outputs": [],
   "source": [
    "# Create a dataframe\n",
    "\n",
    "df_test = pd.DataFrame()"
   ]
  },
  {
   "cell_type": "code",
   "execution_count": 7,
   "id": "8edf6201-dd10-4a34-af83-8beb7ea94a1a",
   "metadata": {},
   "outputs": [],
   "source": [
    "# Create a mixed type column\n",
    "\n",
    "df_test['mix'] = ['a', 'b', 1, True]"
   ]
  },
  {
   "cell_type": "code",
   "execution_count": 8,
   "id": "cf2bb12a-758e-4685-b696-eec652ab73af",
   "metadata": {},
   "outputs": [
    {
     "name": "stdout",
     "output_type": "stream",
     "text": [
      "mix\n"
     ]
    }
   ],
   "source": [
    "for col in df_test.columns.tolist():\n",
    "  weird = (df_test[[col]].map(type) != df_test[[col]].iloc[0].apply(type)).any(axis = 1)\n",
    "  if len (df_test[weird]) > 0:\n",
    "    print (col)"
   ]
  },
  {
   "cell_type": "code",
   "execution_count": 9,
   "id": "2bd7d4bb-07d1-463b-9f9f-e5c1e4ebaedf",
   "metadata": {},
   "outputs": [
    {
     "data": {
      "text/plain": [
       "mix    True\n",
       "dtype: bool"
      ]
     },
     "execution_count": 9,
     "metadata": {},
     "output_type": "execute_result"
    }
   ],
   "source": [
    "# another method to check for mixed types\n",
    "\n",
    "mixed_types = df_test.apply(lambda x: len(set(map(type, x))) > 1)\n",
    "mixed_types"
   ]
  },
  {
   "cell_type": "code",
   "execution_count": 10,
   "id": "94258ea1-b55f-4de3-9442-bf9236e3ea35",
   "metadata": {},
   "outputs": [],
   "source": [
    "df_test['mix'] = df_test['mix'].astype('str')"
   ]
  },
  {
   "cell_type": "code",
   "execution_count": 11,
   "id": "119949ad-1d6a-43c2-921a-93e37f87e2e2",
   "metadata": {},
   "outputs": [
    {
     "data": {
      "text/plain": [
       "mix    object\n",
       "dtype: object"
      ]
     },
     "execution_count": 11,
     "metadata": {},
     "output_type": "execute_result"
    }
   ],
   "source": [
    "df_test.dtypes"
   ]
  },
  {
   "cell_type": "markdown",
   "id": "fc96d0a4-6b3a-4a6a-92a9-5e9e50abc79d",
   "metadata": {},
   "source": [
    "### Missing Values  \n",
    "\n",
    "Missing values can occur for two reasons: 1) data corruption, or 2) they were never recorded in the first place. It’s important that you investigate and address any missing values in your data when conducting an analysis in Python.  \n",
    "\n",
    "#### IMPACT OF MISSING VALUE: EXAMPLE\n",
    "Imagine you’re working on an analysis project with financial data. You have two columns that contain amounts, such as `income` and `debt`. Using such specific amounts, especially in finance, isn’t a good idea because they’re likely to change over time (e.g., due to inflation). If you wanted to use these columns, you could, instead, derive a ratio (`debt/income`) in a new column. This would be a more stable characteristic as it would show the PROPORTION of debt compared to income. If you had a missing value in the income column, however, this would lead to an error, as you can’t divide by 0. You’d need to fix this missing value before creating the new column!"
   ]
  },
  {
   "cell_type": "markdown",
   "id": "7b1c0bb0-afef-4895-b63a-2df7fbd508e3",
   "metadata": {},
   "source": [
    "#### Finding Missing Values  \n",
    "\n",
    "The `isnull()` function is used to find missing observations, with “observations” here referring to entries in your dataframe. Think of them like cells in Excel. It returns a value of `True` or `False`.  \n",
    "\n"
   ]
  },
  {
   "cell_type": "code",
   "execution_count": 12,
   "id": "8617297b-7193-45b4-93a0-1377b1213481",
   "metadata": {},
   "outputs": [
    {
     "data": {
      "text/html": [
       "<div>\n",
       "<style scoped>\n",
       "    .dataframe tbody tr th:only-of-type {\n",
       "        vertical-align: middle;\n",
       "    }\n",
       "\n",
       "    .dataframe tbody tr th {\n",
       "        vertical-align: top;\n",
       "    }\n",
       "\n",
       "    .dataframe thead th {\n",
       "        text-align: right;\n",
       "    }\n",
       "</style>\n",
       "<table border=\"1\" class=\"dataframe\">\n",
       "  <thead>\n",
       "    <tr style=\"text-align: right;\">\n",
       "      <th></th>\n",
       "      <th>product_id</th>\n",
       "      <th>product_name</th>\n",
       "      <th>aisle_id</th>\n",
       "      <th>department_id</th>\n",
       "      <th>prices</th>\n",
       "    </tr>\n",
       "  </thead>\n",
       "  <tbody>\n",
       "    <tr>\n",
       "      <th>0</th>\n",
       "      <td>1</td>\n",
       "      <td>Chocolate Sandwich Cookies</td>\n",
       "      <td>61</td>\n",
       "      <td>19</td>\n",
       "      <td>5.8</td>\n",
       "    </tr>\n",
       "    <tr>\n",
       "      <th>1</th>\n",
       "      <td>2</td>\n",
       "      <td>All-Seasons Salt</td>\n",
       "      <td>104</td>\n",
       "      <td>13</td>\n",
       "      <td>9.3</td>\n",
       "    </tr>\n",
       "    <tr>\n",
       "      <th>2</th>\n",
       "      <td>3</td>\n",
       "      <td>Robust Golden Unsweetened Oolong Tea</td>\n",
       "      <td>94</td>\n",
       "      <td>7</td>\n",
       "      <td>4.5</td>\n",
       "    </tr>\n",
       "  </tbody>\n",
       "</table>\n",
       "</div>"
      ],
      "text/plain": [
       "   product_id                          product_name  aisle_id  department_id  \\\n",
       "0           1            Chocolate Sandwich Cookies        61             19   \n",
       "1           2                      All-Seasons Salt       104             13   \n",
       "2           3  Robust Golden Unsweetened Oolong Tea        94              7   \n",
       "\n",
       "   prices  \n",
       "0     5.8  \n",
       "1     9.3  \n",
       "2     4.5  "
      ]
     },
     "execution_count": 12,
     "metadata": {},
     "output_type": "execute_result"
    }
   ],
   "source": [
    "df_prods.head(3)"
   ]
  },
  {
   "cell_type": "code",
   "execution_count": 13,
   "id": "9b46abdf-86f3-4099-a288-203461c49078",
   "metadata": {},
   "outputs": [
    {
     "data": {
      "text/plain": [
       "product_id        0\n",
       "product_name     16\n",
       "aisle_id          0\n",
       "department_id     0\n",
       "prices            0\n",
       "dtype: int64"
      ]
     },
     "execution_count": 13,
     "metadata": {},
     "output_type": "execute_result"
    }
   ],
   "source": [
    "df_prods.isnull().sum()"
   ]
  },
  {
   "cell_type": "markdown",
   "id": "16824dc8-61f9-4818-8216-ec5dc5ac67c1",
   "metadata": {},
   "source": [
    "The columns in your dataframe are listed on the left, while a count (the output of the `sum()` function) is displayed next to them on the right. With a quick glance, you can see that the only column with missing values is the \"`product_name`\" column, and it’s missing 16 values."
   ]
  },
  {
   "cell_type": "code",
   "execution_count": 14,
   "id": "fa8ed205-5f56-4791-a25f-376585996714",
   "metadata": {},
   "outputs": [],
   "source": [
    "df_nan = df_prods[ df_prods['product_name'].isnull() ] "
   ]
  },
  {
   "cell_type": "code",
   "execution_count": 15,
   "id": "3fc5e354-cd79-4ec7-891b-f914ffa2a0e2",
   "metadata": {},
   "outputs": [
    {
     "data": {
      "text/html": [
       "<div>\n",
       "<style scoped>\n",
       "    .dataframe tbody tr th:only-of-type {\n",
       "        vertical-align: middle;\n",
       "    }\n",
       "\n",
       "    .dataframe tbody tr th {\n",
       "        vertical-align: top;\n",
       "    }\n",
       "\n",
       "    .dataframe thead th {\n",
       "        text-align: right;\n",
       "    }\n",
       "</style>\n",
       "<table border=\"1\" class=\"dataframe\">\n",
       "  <thead>\n",
       "    <tr style=\"text-align: right;\">\n",
       "      <th></th>\n",
       "      <th>product_id</th>\n",
       "      <th>product_name</th>\n",
       "      <th>aisle_id</th>\n",
       "      <th>department_id</th>\n",
       "      <th>prices</th>\n",
       "    </tr>\n",
       "  </thead>\n",
       "  <tbody>\n",
       "    <tr>\n",
       "      <th>33</th>\n",
       "      <td>34</td>\n",
       "      <td>NaN</td>\n",
       "      <td>121</td>\n",
       "      <td>14</td>\n",
       "      <td>12.2</td>\n",
       "    </tr>\n",
       "    <tr>\n",
       "      <th>68</th>\n",
       "      <td>69</td>\n",
       "      <td>NaN</td>\n",
       "      <td>26</td>\n",
       "      <td>7</td>\n",
       "      <td>11.8</td>\n",
       "    </tr>\n",
       "    <tr>\n",
       "      <th>115</th>\n",
       "      <td>116</td>\n",
       "      <td>NaN</td>\n",
       "      <td>93</td>\n",
       "      <td>3</td>\n",
       "      <td>10.8</td>\n",
       "    </tr>\n",
       "    <tr>\n",
       "      <th>261</th>\n",
       "      <td>262</td>\n",
       "      <td>NaN</td>\n",
       "      <td>110</td>\n",
       "      <td>13</td>\n",
       "      <td>12.1</td>\n",
       "    </tr>\n",
       "    <tr>\n",
       "      <th>525</th>\n",
       "      <td>525</td>\n",
       "      <td>NaN</td>\n",
       "      <td>109</td>\n",
       "      <td>11</td>\n",
       "      <td>1.2</td>\n",
       "    </tr>\n",
       "    <tr>\n",
       "      <th>1511</th>\n",
       "      <td>1511</td>\n",
       "      <td>NaN</td>\n",
       "      <td>84</td>\n",
       "      <td>16</td>\n",
       "      <td>14.3</td>\n",
       "    </tr>\n",
       "    <tr>\n",
       "      <th>1780</th>\n",
       "      <td>1780</td>\n",
       "      <td>NaN</td>\n",
       "      <td>126</td>\n",
       "      <td>11</td>\n",
       "      <td>12.3</td>\n",
       "    </tr>\n",
       "    <tr>\n",
       "      <th>2240</th>\n",
       "      <td>2240</td>\n",
       "      <td>NaN</td>\n",
       "      <td>52</td>\n",
       "      <td>1</td>\n",
       "      <td>14.2</td>\n",
       "    </tr>\n",
       "    <tr>\n",
       "      <th>2586</th>\n",
       "      <td>2586</td>\n",
       "      <td>NaN</td>\n",
       "      <td>104</td>\n",
       "      <td>13</td>\n",
       "      <td>12.4</td>\n",
       "    </tr>\n",
       "    <tr>\n",
       "      <th>3159</th>\n",
       "      <td>3159</td>\n",
       "      <td>NaN</td>\n",
       "      <td>126</td>\n",
       "      <td>11</td>\n",
       "      <td>13.1</td>\n",
       "    </tr>\n",
       "    <tr>\n",
       "      <th>3230</th>\n",
       "      <td>3230</td>\n",
       "      <td>NaN</td>\n",
       "      <td>120</td>\n",
       "      <td>16</td>\n",
       "      <td>14.4</td>\n",
       "    </tr>\n",
       "    <tr>\n",
       "      <th>3736</th>\n",
       "      <td>3736</td>\n",
       "      <td>NaN</td>\n",
       "      <td>41</td>\n",
       "      <td>8</td>\n",
       "      <td>14.8</td>\n",
       "    </tr>\n",
       "    <tr>\n",
       "      <th>4283</th>\n",
       "      <td>4283</td>\n",
       "      <td>NaN</td>\n",
       "      <td>77</td>\n",
       "      <td>7</td>\n",
       "      <td>14.4</td>\n",
       "    </tr>\n",
       "    <tr>\n",
       "      <th>4790</th>\n",
       "      <td>4790</td>\n",
       "      <td>NaN</td>\n",
       "      <td>91</td>\n",
       "      <td>16</td>\n",
       "      <td>14.5</td>\n",
       "    </tr>\n",
       "    <tr>\n",
       "      <th>38187</th>\n",
       "      <td>38183</td>\n",
       "      <td>NaN</td>\n",
       "      <td>39</td>\n",
       "      <td>12</td>\n",
       "      <td>20.9</td>\n",
       "    </tr>\n",
       "    <tr>\n",
       "      <th>40444</th>\n",
       "      <td>40440</td>\n",
       "      <td>NaN</td>\n",
       "      <td>120</td>\n",
       "      <td>16</td>\n",
       "      <td>14.8</td>\n",
       "    </tr>\n",
       "  </tbody>\n",
       "</table>\n",
       "</div>"
      ],
      "text/plain": [
       "       product_id product_name  aisle_id  department_id  prices\n",
       "33             34          NaN       121             14    12.2\n",
       "68             69          NaN        26              7    11.8\n",
       "115           116          NaN        93              3    10.8\n",
       "261           262          NaN       110             13    12.1\n",
       "525           525          NaN       109             11     1.2\n",
       "1511         1511          NaN        84             16    14.3\n",
       "1780         1780          NaN       126             11    12.3\n",
       "2240         2240          NaN        52              1    14.2\n",
       "2586         2586          NaN       104             13    12.4\n",
       "3159         3159          NaN       126             11    13.1\n",
       "3230         3230          NaN       120             16    14.4\n",
       "3736         3736          NaN        41              8    14.8\n",
       "4283         4283          NaN        77              7    14.4\n",
       "4790         4790          NaN        91             16    14.5\n",
       "38187       38183          NaN        39             12    20.9\n",
       "40444       40440          NaN       120             16    14.8"
      ]
     },
     "execution_count": 15,
     "metadata": {},
     "output_type": "execute_result"
    }
   ],
   "source": [
    "df_nan"
   ]
  },
  {
   "cell_type": "markdown",
   "id": "0f14f14f-7970-4a29-ae3d-161ba1d754a2",
   "metadata": {},
   "source": [
    "#### Addressing Missing Values  \n",
    "\n",
    "There are a few ways to deal with missing data:\n",
    "\n",
    "1. Create a new variable that acts like a flag based on the missing value.\n",
    "2. Impute the value with the mean or median of the column (if the variable is numeric).\n",
    "3. Remove or filter out the missing data.\n",
    "\n",
    "#### Method 1 \n",
    "##### Create a new variable that acts like a flag based on the missing value  \n",
    "\n",
    "Remember that you don’t always want to simply remove missing values—the fact that they’re missing, in itself, could be important.  \n",
    "One of the most important variables in a bank’s database is the “delinquency” of those who take out loans. It keeps track of whether there has ever been a time when the debtors have failed to pay an installment. The bank can then use these profiles to decide whether or not to give a new customer a loan.  \n",
    "\n",
    "If a customer never took out a loan or was never late paying off their loan, they’d never appear in the delinquency column, making for what would likely be many missing values in the `delinquency` column. These missing values actually hold just as much importance as the non-missing values.  \n",
    "\n",
    "Instead, create a new column containing the string values “Delinquent” and “Not delinquent” to flag the delinquent status of each profile.  \n",
    "\n",
    "\n",
    "#### Method 2  \n",
    "##### Impute the value with the mean or median of the column (numeric columns only)  \n",
    "It’s based on the principle that if the value weren’t missing, it would probably be close to the mean or median value (empirical rule).  \n",
    "Do be prudent when deciding whether to use the mean or median. The mean is a statistical measure that can be greatly influenced by extreme values, which could potentially lead to inaccurate imputions.  \n",
    "\n",
    "`df['column with missings'].fillna(mean_value, inplace=True)`  \n",
    "\n",
    "\n",
    "#### Method 3  \n",
    "##### Remove or filter out the missing data  \n",
    "\n",
    "Looking at the rows in `df_nan`, it quickly becomes clear that there isn’t much you can do in terms of imputation as it is of `string` type.  \n",
    "\n",
    "String values can’t be imputed like numeric values, leaving you in a bit of a pickle. You can either remove the missing values entirely or filter out the ones that aren’t missing into a subset dataframe and continue your analysis with this new dataframe.  \n",
    "\n"
   ]
  },
  {
   "cell_type": "code",
   "execution_count": 16,
   "id": "c3cf8341-f7f4-487e-824b-689a802697c1",
   "metadata": {},
   "outputs": [
    {
     "data": {
      "text/plain": [
       "(49693, 5)"
      ]
     },
     "execution_count": 16,
     "metadata": {},
     "output_type": "execute_result"
    }
   ],
   "source": [
    "df_prods.shape \n",
    "\n",
    "# (row, columns)"
   ]
  },
  {
   "cell_type": "code",
   "execution_count": 17,
   "id": "1f1e2256-a669-405c-a7ac-b162f2dca507",
   "metadata": {},
   "outputs": [],
   "source": [
    "# ~ is the negation in pandas ( df_prods['product_name'].isnull() == False )\n",
    "\n",
    "df_prods_clean = df_prods[ ~df_prods['product_name'].isnull()]"
   ]
  },
  {
   "cell_type": "code",
   "execution_count": 18,
   "id": "e6be315d-5b6f-4f7f-9c3c-a5bdc1462284",
   "metadata": {},
   "outputs": [
    {
     "data": {
      "text/plain": [
       "(49677, 5)"
      ]
     },
     "execution_count": 18,
     "metadata": {},
     "output_type": "execute_result"
    }
   ],
   "source": [
    "# 16 rows were removed\n",
    "\n",
    "df_prods_clean.shape"
   ]
  },
  {
   "cell_type": "markdown",
   "id": "dc149e66-4112-4b39-b743-6b01700da7bc",
   "metadata": {},
   "source": [
    "Another way you can drop all missing values is via the following command:  \n",
    "\n",
    "`df_prods.dropna(inplace = True)`  \n",
    "\n",
    "If you wanted to use this command to drop __only the NaNs from a particular column__, the code would look like this:  \n",
    "\n",
    "`df_prods.dropna(subset = [‘product_name’], inplace = True)`"
   ]
  },
  {
   "cell_type": "markdown",
   "id": "61c50f33-205f-441f-afdb-7db6f7557441",
   "metadata": {},
   "source": [
    "#### Duplicates  \n",
    "\n",
    "It is important that you think carefully at what must be considered a duplicate. Entire rows that are indeed considered duplicates, but sometimes we need to think at a combination of variables that together makes a duplicate row despite having some other values that are not identical among different rows.  \n",
    "\n",
    "##### Finding Duplicates"
   ]
  },
  {
   "cell_type": "code",
   "execution_count": 19,
   "id": "a454f816-09ed-4fac-9a32-3bbee8621c0b",
   "metadata": {},
   "outputs": [
    {
     "data": {
      "text/plain": [
       "0        False\n",
       "1        False\n",
       "2        False\n",
       "3        False\n",
       "4        False\n",
       "         ...  \n",
       "49688    False\n",
       "49689    False\n",
       "49690    False\n",
       "49691    False\n",
       "49692    False\n",
       "Length: 49677, dtype: bool"
      ]
     },
     "execution_count": 19,
     "metadata": {},
     "output_type": "execute_result"
    }
   ],
   "source": [
    "# return a \"boolean\" mask with True or False based whether an entire row has duplicates\n",
    "df_prods_clean.duplicated()"
   ]
  },
  {
   "cell_type": "code",
   "execution_count": 20,
   "id": "d0d2cd27-efbf-49aa-b03a-871c2ba8f674",
   "metadata": {},
   "outputs": [
    {
     "data": {
      "text/plain": [
       "5"
      ]
     },
     "execution_count": 20,
     "metadata": {},
     "output_type": "execute_result"
    }
   ],
   "source": [
    "# there are 5 rows duplicated\n",
    "df_prods_clean.duplicated().sum()"
   ]
  },
  {
   "cell_type": "markdown",
   "id": "16a1b1a5-158c-411e-8b77-9b59205b5740",
   "metadata": {},
   "source": [
    "We can create a new DataFrame of duplicated row:"
   ]
  },
  {
   "cell_type": "code",
   "execution_count": 21,
   "id": "97fdd3cd-2aed-4961-946c-c1e81770c28f",
   "metadata": {},
   "outputs": [],
   "source": [
    "df_dups = df_prods_clean[ df_prods_clean.duplicated()]"
   ]
  },
  {
   "cell_type": "code",
   "execution_count": 22,
   "id": "5f46c219-b46d-421d-84cf-143f0219e038",
   "metadata": {},
   "outputs": [
    {
     "data": {
      "text/html": [
       "<div>\n",
       "<style scoped>\n",
       "    .dataframe tbody tr th:only-of-type {\n",
       "        vertical-align: middle;\n",
       "    }\n",
       "\n",
       "    .dataframe tbody tr th {\n",
       "        vertical-align: top;\n",
       "    }\n",
       "\n",
       "    .dataframe thead th {\n",
       "        text-align: right;\n",
       "    }\n",
       "</style>\n",
       "<table border=\"1\" class=\"dataframe\">\n",
       "  <thead>\n",
       "    <tr style=\"text-align: right;\">\n",
       "      <th></th>\n",
       "      <th>product_id</th>\n",
       "      <th>product_name</th>\n",
       "      <th>aisle_id</th>\n",
       "      <th>department_id</th>\n",
       "      <th>prices</th>\n",
       "    </tr>\n",
       "  </thead>\n",
       "  <tbody>\n",
       "    <tr>\n",
       "      <th>462</th>\n",
       "      <td>462</td>\n",
       "      <td>Fiber 4g Gummy Dietary Supplement</td>\n",
       "      <td>70</td>\n",
       "      <td>11</td>\n",
       "      <td>4.8</td>\n",
       "    </tr>\n",
       "    <tr>\n",
       "      <th>18459</th>\n",
       "      <td>18458</td>\n",
       "      <td>Ranger IPA</td>\n",
       "      <td>27</td>\n",
       "      <td>5</td>\n",
       "      <td>9.2</td>\n",
       "    </tr>\n",
       "    <tr>\n",
       "      <th>26810</th>\n",
       "      <td>26808</td>\n",
       "      <td>Black House Coffee Roasty Stout Beer</td>\n",
       "      <td>27</td>\n",
       "      <td>5</td>\n",
       "      <td>13.4</td>\n",
       "    </tr>\n",
       "    <tr>\n",
       "      <th>35309</th>\n",
       "      <td>35306</td>\n",
       "      <td>Gluten Free Organic Peanut Butter &amp; Chocolate ...</td>\n",
       "      <td>121</td>\n",
       "      <td>14</td>\n",
       "      <td>6.8</td>\n",
       "    </tr>\n",
       "    <tr>\n",
       "      <th>35495</th>\n",
       "      <td>35491</td>\n",
       "      <td>Adore Forever Body Wash</td>\n",
       "      <td>127</td>\n",
       "      <td>11</td>\n",
       "      <td>9.9</td>\n",
       "    </tr>\n",
       "  </tbody>\n",
       "</table>\n",
       "</div>"
      ],
      "text/plain": [
       "       product_id                                       product_name  \\\n",
       "462           462                  Fiber 4g Gummy Dietary Supplement   \n",
       "18459       18458                                         Ranger IPA   \n",
       "26810       26808               Black House Coffee Roasty Stout Beer   \n",
       "35309       35306  Gluten Free Organic Peanut Butter & Chocolate ...   \n",
       "35495       35491                            Adore Forever Body Wash   \n",
       "\n",
       "       aisle_id  department_id  prices  \n",
       "462          70             11     4.8  \n",
       "18459        27              5     9.2  \n",
       "26810        27              5    13.4  \n",
       "35309       121             14     6.8  \n",
       "35495       127             11     9.9  "
      ]
     },
     "execution_count": 22,
     "metadata": {},
     "output_type": "execute_result"
    }
   ],
   "source": [
    "# as previuosly verified there are 5 duplicated rows\n",
    "df_dups"
   ]
  },
  {
   "cell_type": "markdown",
   "id": "21a59317-af26-41bc-9248-15ec348a1ae9",
   "metadata": {},
   "source": [
    "##### Addressing Duplicates  \n",
    "\n",
    "You need to delete them"
   ]
  },
  {
   "cell_type": "code",
   "execution_count": 23,
   "id": "94f5a1f4-b851-47dc-8951-ccb52f005e4b",
   "metadata": {},
   "outputs": [
    {
     "data": {
      "text/plain": [
       "(49677, 5)"
      ]
     },
     "execution_count": 23,
     "metadata": {},
     "output_type": "execute_result"
    }
   ],
   "source": [
    "df_prods_clean.shape"
   ]
  },
  {
   "cell_type": "code",
   "execution_count": 24,
   "id": "da3469a7-a13c-4088-b5bb-7240b0ab148c",
   "metadata": {},
   "outputs": [
    {
     "data": {
      "text/plain": [
       "(49672, 5)"
      ]
     },
     "execution_count": 24,
     "metadata": {},
     "output_type": "execute_result"
    }
   ],
   "source": [
    "df_prods_clean.drop_duplicates().shape"
   ]
  },
  {
   "cell_type": "code",
   "execution_count": 25,
   "id": "f9892bbb-080c-4793-8ff4-27ba59618a9e",
   "metadata": {},
   "outputs": [],
   "source": [
    "df_prods_clean_no_dups = df_prods_clean.drop_duplicates()"
   ]
  },
  {
   "cell_type": "code",
   "execution_count": 26,
   "id": "b6f7a93f-d97b-4e47-90eb-0a6737ca487d",
   "metadata": {},
   "outputs": [
    {
     "data": {
      "text/plain": [
       "(49672, 5)"
      ]
     },
     "execution_count": 26,
     "metadata": {},
     "output_type": "execute_result"
    }
   ],
   "source": [
    "df_prods_clean_no_dups.shape"
   ]
  },
  {
   "cell_type": "markdown",
   "id": "5b55c3c6-f8be-4465-a5ab-c1ffc55f2cea",
   "metadata": {},
   "source": [
    "##### Export cleaned dataset "
   ]
  },
  {
   "cell_type": "code",
   "execution_count": 27,
   "id": "9a526ee1-bfb8-4468-b338-35d59a32cbea",
   "metadata": {},
   "outputs": [],
   "source": [
    "df_prods_clean_no_dups.to_csv(os.path.join(path, '02-Prepared_Data/products_checked.csv'))"
   ]
  },
  {
   "cell_type": "markdown",
   "id": "8f0eb379-2b9f-41c7-84aa-7d2424a4d7e9",
   "metadata": {},
   "source": [
    "# Task 4.5 - Data Consistency Check"
   ]
  },
  {
   "cell_type": "markdown",
   "id": "81431d28-4743-4f89-9d7c-75f22277e296",
   "metadata": {},
   "source": [
    "##### 2) Run the `df.describe()` function on your `df_ords` dataframe. Using your new knowledge about how to interpret the output of this function, share in a markdown cell whether anything about the data looks off or should be investigated further."
   ]
  },
  {
   "cell_type": "code",
   "execution_count": 28,
   "id": "bd06bf2c-d135-4a86-835c-4704ef74f2ff",
   "metadata": {},
   "outputs": [
    {
     "data": {
      "text/html": [
       "<div>\n",
       "<style scoped>\n",
       "    .dataframe tbody tr th:only-of-type {\n",
       "        vertical-align: middle;\n",
       "    }\n",
       "\n",
       "    .dataframe tbody tr th {\n",
       "        vertical-align: top;\n",
       "    }\n",
       "\n",
       "    .dataframe thead th {\n",
       "        text-align: right;\n",
       "    }\n",
       "</style>\n",
       "<table border=\"1\" class=\"dataframe\">\n",
       "  <thead>\n",
       "    <tr style=\"text-align: right;\">\n",
       "      <th></th>\n",
       "      <th>order_id</th>\n",
       "      <th>user_id</th>\n",
       "      <th>order_number</th>\n",
       "      <th>orders_day_of_week</th>\n",
       "      <th>order_hour_of_day</th>\n",
       "      <th>days_since_last_order</th>\n",
       "    </tr>\n",
       "  </thead>\n",
       "  <tbody>\n",
       "    <tr>\n",
       "      <th>count</th>\n",
       "      <td>3.421083e+06</td>\n",
       "      <td>3.421083e+06</td>\n",
       "      <td>3.421083e+06</td>\n",
       "      <td>3.421083e+06</td>\n",
       "      <td>3.421083e+06</td>\n",
       "      <td>3.214874e+06</td>\n",
       "    </tr>\n",
       "    <tr>\n",
       "      <th>mean</th>\n",
       "      <td>1.710542e+06</td>\n",
       "      <td>1.029782e+05</td>\n",
       "      <td>1.715486e+01</td>\n",
       "      <td>2.776219e+00</td>\n",
       "      <td>1.345202e+01</td>\n",
       "      <td>1.111484e+01</td>\n",
       "    </tr>\n",
       "    <tr>\n",
       "      <th>std</th>\n",
       "      <td>9.875817e+05</td>\n",
       "      <td>5.953372e+04</td>\n",
       "      <td>1.773316e+01</td>\n",
       "      <td>2.046829e+00</td>\n",
       "      <td>4.226088e+00</td>\n",
       "      <td>9.206737e+00</td>\n",
       "    </tr>\n",
       "    <tr>\n",
       "      <th>min</th>\n",
       "      <td>1.000000e+00</td>\n",
       "      <td>1.000000e+00</td>\n",
       "      <td>1.000000e+00</td>\n",
       "      <td>0.000000e+00</td>\n",
       "      <td>0.000000e+00</td>\n",
       "      <td>0.000000e+00</td>\n",
       "    </tr>\n",
       "    <tr>\n",
       "      <th>25%</th>\n",
       "      <td>8.552715e+05</td>\n",
       "      <td>5.139400e+04</td>\n",
       "      <td>5.000000e+00</td>\n",
       "      <td>1.000000e+00</td>\n",
       "      <td>1.000000e+01</td>\n",
       "      <td>4.000000e+00</td>\n",
       "    </tr>\n",
       "    <tr>\n",
       "      <th>50%</th>\n",
       "      <td>1.710542e+06</td>\n",
       "      <td>1.026890e+05</td>\n",
       "      <td>1.100000e+01</td>\n",
       "      <td>3.000000e+00</td>\n",
       "      <td>1.300000e+01</td>\n",
       "      <td>7.000000e+00</td>\n",
       "    </tr>\n",
       "    <tr>\n",
       "      <th>75%</th>\n",
       "      <td>2.565812e+06</td>\n",
       "      <td>1.543850e+05</td>\n",
       "      <td>2.300000e+01</td>\n",
       "      <td>5.000000e+00</td>\n",
       "      <td>1.600000e+01</td>\n",
       "      <td>1.500000e+01</td>\n",
       "    </tr>\n",
       "    <tr>\n",
       "      <th>max</th>\n",
       "      <td>3.421083e+06</td>\n",
       "      <td>2.062090e+05</td>\n",
       "      <td>1.000000e+02</td>\n",
       "      <td>6.000000e+00</td>\n",
       "      <td>2.300000e+01</td>\n",
       "      <td>3.000000e+01</td>\n",
       "    </tr>\n",
       "  </tbody>\n",
       "</table>\n",
       "</div>"
      ],
      "text/plain": [
       "           order_id       user_id  order_number  orders_day_of_week  \\\n",
       "count  3.421083e+06  3.421083e+06  3.421083e+06        3.421083e+06   \n",
       "mean   1.710542e+06  1.029782e+05  1.715486e+01        2.776219e+00   \n",
       "std    9.875817e+05  5.953372e+04  1.773316e+01        2.046829e+00   \n",
       "min    1.000000e+00  1.000000e+00  1.000000e+00        0.000000e+00   \n",
       "25%    8.552715e+05  5.139400e+04  5.000000e+00        1.000000e+00   \n",
       "50%    1.710542e+06  1.026890e+05  1.100000e+01        3.000000e+00   \n",
       "75%    2.565812e+06  1.543850e+05  2.300000e+01        5.000000e+00   \n",
       "max    3.421083e+06  2.062090e+05  1.000000e+02        6.000000e+00   \n",
       "\n",
       "       order_hour_of_day  days_since_last_order  \n",
       "count       3.421083e+06           3.214874e+06  \n",
       "mean        1.345202e+01           1.111484e+01  \n",
       "std         4.226088e+00           9.206737e+00  \n",
       "min         0.000000e+00           0.000000e+00  \n",
       "25%         1.000000e+01           4.000000e+00  \n",
       "50%         1.300000e+01           7.000000e+00  \n",
       "75%         1.600000e+01           1.500000e+01  \n",
       "max         2.300000e+01           3.000000e+01  "
      ]
     },
     "execution_count": 28,
     "metadata": {},
     "output_type": "execute_result"
    }
   ],
   "source": [
    "df_ords.describe()"
   ]
  },
  {
   "cell_type": "markdown",
   "id": "80c72744-f1f6-4e26-aeea-c7ba05fc4709",
   "metadata": {},
   "source": [
    "The column `days_since_last_order` seems to have something that needs to be investigated more.  \n",
    "The count is less than all the other columns indicating missing values or NaN values. The `min` value of `0` should be understood better to see what it means. It may be that the value `0` is recorded when a first order is recorded, or perhaps when a second order is placed the same day. While the value of `0` doesn't seem incorrect, its meaning in this context should be investigated and understood.  \n",
    "\n",
    "The column `order_number` also should be understood. While there seem to be no missing values, the range of values for this columns go from `1` to `100`. It is not clear whether that refers to some quantity present in the order, or if perhaps something is wrong here with the numerical recording of the order (perhaps that may refer to the invoice number or some other documents needed for the order).  \n",
    "\n",
    "The remaining columns seems to have consistent and correct statistics based on this context."
   ]
  },
  {
   "cell_type": "code",
   "execution_count": 29,
   "id": "9e8894ea-367e-4c83-9765-17b8e4cfd7aa",
   "metadata": {},
   "outputs": [
    {
     "data": {
      "text/plain": [
       "0"
      ]
     },
     "execution_count": 29,
     "metadata": {},
     "output_type": "execute_result"
    }
   ],
   "source": [
    "# no duplicates in the 'order_number' column\n",
    "\n",
    "df_ords['order_number'].isnull().sum()"
   ]
  },
  {
   "cell_type": "code",
   "execution_count": 30,
   "id": "b58298fd-c405-443d-9e28-917d494f3f63",
   "metadata": {},
   "outputs": [
    {
     "data": {
      "text/plain": [
       "array([  1,   2,   3,   4,   5,   6,   7,   8,   9,  10,  11,  12,  13,\n",
       "        14,  15,  16,  17,  18,  19,  20,  21,  22,  23,  24,  25,  26,\n",
       "        27,  28,  29,  30,  31,  32,  33,  34,  35,  36,  37,  38,  39,\n",
       "        40,  41,  42,  43,  44,  45,  46,  47,  48,  49,  50,  51,  52,\n",
       "        53,  54,  55,  56,  57,  58,  59,  60,  61,  62,  63,  64,  65,\n",
       "        66,  67,  68,  69,  70,  71,  72,  73,  74,  75,  76,  77,  78,\n",
       "        79,  80,  81,  82,  83,  84,  85,  86,  87,  88,  89,  90,  91,\n",
       "        92,  93,  94,  95,  96,  97,  98,  99, 100])"
      ]
     },
     "execution_count": 30,
     "metadata": {},
     "output_type": "execute_result"
    }
   ],
   "source": [
    "# range of values in the 'order_number' column\n",
    "\n",
    "df_ords['order_number'].unique()"
   ]
  },
  {
   "cell_type": "markdown",
   "id": "0be5d2b4-f3df-4eac-bf87-e2301e46d2b2",
   "metadata": {},
   "source": [
    "##### 3) Check for mixed-type data in your df_ords dataframe"
   ]
  },
  {
   "cell_type": "code",
   "execution_count": 31,
   "id": "c9fd4f40-1e54-474e-914d-5a5fb5c3d412",
   "metadata": {},
   "outputs": [],
   "source": [
    "mixed_types = df_ords.apply(lambda x: len(set(map(type, x))) > 1)"
   ]
  },
  {
   "cell_type": "code",
   "execution_count": 32,
   "id": "633b7bc1-fd41-409f-bde8-c86a9150d7f1",
   "metadata": {},
   "outputs": [
    {
     "data": {
      "text/plain": [
       "order_id                 False\n",
       "user_id                  False\n",
       "order_number             False\n",
       "orders_day_of_week       False\n",
       "order_hour_of_day        False\n",
       "days_since_last_order    False\n",
       "dtype: bool"
      ]
     },
     "execution_count": 32,
     "metadata": {},
     "output_type": "execute_result"
    }
   ],
   "source": [
    "mixed_types"
   ]
  },
  {
   "cell_type": "markdown",
   "id": "4804e162-f20a-4268-8750-ba0d38e4729b",
   "metadata": {},
   "source": [
    "There seem to be no mixed types in the `df_ords` dataframe."
   ]
  },
  {
   "cell_type": "markdown",
   "id": "1183a497-c75f-4957-94d4-733c047f056c",
   "metadata": {},
   "source": [
    "##### 5) Run a check for missing values in your df_ords dataframe"
   ]
  },
  {
   "cell_type": "code",
   "execution_count": 33,
   "id": "def9dc8c-7dbd-4898-b4ad-fa4e89813413",
   "metadata": {},
   "outputs": [
    {
     "data": {
      "text/plain": [
       "order_id                      0\n",
       "user_id                       0\n",
       "order_number                  0\n",
       "orders_day_of_week            0\n",
       "order_hour_of_day             0\n",
       "days_since_last_order    206209\n",
       "dtype: int64"
      ]
     },
     "execution_count": 33,
     "metadata": {},
     "output_type": "execute_result"
    }
   ],
   "source": [
    "df_ords.isnull().sum()"
   ]
  },
  {
   "cell_type": "markdown",
   "id": "22c762ed-68b6-4cb1-956f-54d32acafb4a",
   "metadata": {},
   "source": [
    "The only missing values refer to the column `days_since_last_order` with 206,209 missing entries. Let's check what are the unique values in this column:"
   ]
  },
  {
   "cell_type": "code",
   "execution_count": 34,
   "id": "9691aaf5-6272-43f4-bd8e-c1ad1fecc445",
   "metadata": {},
   "outputs": [
    {
     "data": {
      "text/plain": [
       "array([nan, 15., 21., 29., 28., 19., 20., 14.,  0., 30., 10.,  3.,  8.,\n",
       "       13., 27.,  6.,  9., 12.,  7., 17., 11., 22.,  4.,  5.,  2., 23.,\n",
       "       26., 25., 16.,  1., 18., 24.])"
      ]
     },
     "execution_count": 34,
     "metadata": {},
     "output_type": "execute_result"
    }
   ],
   "source": [
    "df_ords['days_since_last_order'].unique()"
   ]
  },
  {
   "cell_type": "markdown",
   "id": "2d2021ec-25b8-4be2-ab48-ac32741491d6",
   "metadata": {},
   "source": [
    "As we can see the `0` value is part of the data, so I would exclude for now the fact that a missing values means value `0` until further investigation. It may indicates the first order ever recorded for that particular user."
   ]
  },
  {
   "cell_type": "code",
   "execution_count": 35,
   "id": "ee6d7e22-bac9-489b-9220-59b8ff8f7d3c",
   "metadata": {},
   "outputs": [
    {
     "data": {
      "text/plain": [
       "0"
      ]
     },
     "execution_count": 35,
     "metadata": {},
     "output_type": "execute_result"
    }
   ],
   "source": [
    "# number of duplicates of the 'user_id' in the rows with the missing value in the 'days_since_last_order'\n",
    "df_ords[ df_ords['days_since_last_order'].isnull()]['user_id'].duplicated().sum()"
   ]
  },
  {
   "cell_type": "code",
   "execution_count": 36,
   "id": "55896d16-28d6-471c-89a7-c9878cdcb188",
   "metadata": {},
   "outputs": [
    {
     "data": {
      "text/plain": [
       "3008665"
      ]
     },
     "execution_count": 36,
     "metadata": {},
     "output_type": "execute_result"
    }
   ],
   "source": [
    "# number of duplicates of the 'user_id' in the rows with NO missing value in the 'days_since_last_order'\n",
    "df_ords[ ~df_ords['days_since_last_order'].isnull()]['user_id'].duplicated().sum()"
   ]
  },
  {
   "cell_type": "code",
   "execution_count": 37,
   "id": "299e2153-cd0e-4d6f-9b39-b82374b52892",
   "metadata": {},
   "outputs": [
    {
     "data": {
      "text/html": [
       "<div>\n",
       "<style scoped>\n",
       "    .dataframe tbody tr th:only-of-type {\n",
       "        vertical-align: middle;\n",
       "    }\n",
       "\n",
       "    .dataframe tbody tr th {\n",
       "        vertical-align: top;\n",
       "    }\n",
       "\n",
       "    .dataframe thead th {\n",
       "        text-align: right;\n",
       "    }\n",
       "</style>\n",
       "<table border=\"1\" class=\"dataframe\">\n",
       "  <thead>\n",
       "    <tr style=\"text-align: right;\">\n",
       "      <th></th>\n",
       "      <th>order_number</th>\n",
       "      <th>days_since_last_order</th>\n",
       "    </tr>\n",
       "  </thead>\n",
       "  <tbody>\n",
       "    <tr>\n",
       "      <th>0</th>\n",
       "      <td>1</td>\n",
       "      <td>NaN</td>\n",
       "    </tr>\n",
       "    <tr>\n",
       "      <th>11</th>\n",
       "      <td>1</td>\n",
       "      <td>NaN</td>\n",
       "    </tr>\n",
       "    <tr>\n",
       "      <th>26</th>\n",
       "      <td>1</td>\n",
       "      <td>NaN</td>\n",
       "    </tr>\n",
       "    <tr>\n",
       "      <th>39</th>\n",
       "      <td>1</td>\n",
       "      <td>NaN</td>\n",
       "    </tr>\n",
       "    <tr>\n",
       "      <th>45</th>\n",
       "      <td>1</td>\n",
       "      <td>NaN</td>\n",
       "    </tr>\n",
       "    <tr>\n",
       "      <th>...</th>\n",
       "      <td>...</td>\n",
       "      <td>...</td>\n",
       "    </tr>\n",
       "    <tr>\n",
       "      <th>3420930</th>\n",
       "      <td>1</td>\n",
       "      <td>NaN</td>\n",
       "    </tr>\n",
       "    <tr>\n",
       "      <th>3420934</th>\n",
       "      <td>1</td>\n",
       "      <td>NaN</td>\n",
       "    </tr>\n",
       "    <tr>\n",
       "      <th>3421002</th>\n",
       "      <td>1</td>\n",
       "      <td>NaN</td>\n",
       "    </tr>\n",
       "    <tr>\n",
       "      <th>3421019</th>\n",
       "      <td>1</td>\n",
       "      <td>NaN</td>\n",
       "    </tr>\n",
       "    <tr>\n",
       "      <th>3421069</th>\n",
       "      <td>1</td>\n",
       "      <td>NaN</td>\n",
       "    </tr>\n",
       "  </tbody>\n",
       "</table>\n",
       "<p>206209 rows × 2 columns</p>\n",
       "</div>"
      ],
      "text/plain": [
       "         order_number  days_since_last_order\n",
       "0                   1                    NaN\n",
       "11                  1                    NaN\n",
       "26                  1                    NaN\n",
       "39                  1                    NaN\n",
       "45                  1                    NaN\n",
       "...               ...                    ...\n",
       "3420930             1                    NaN\n",
       "3420934             1                    NaN\n",
       "3421002             1                    NaN\n",
       "3421019             1                    NaN\n",
       "3421069             1                    NaN\n",
       "\n",
       "[206209 rows x 2 columns]"
      ]
     },
     "execution_count": 37,
     "metadata": {},
     "output_type": "execute_result"
    }
   ],
   "source": [
    "df_ords[ df_ords['days_since_last_order'].isnull()][['order_number','days_since_last_order']]\n"
   ]
  },
  {
   "cell_type": "markdown",
   "id": "109df814-5804-41af-bdfe-d1d9b022689b",
   "metadata": {},
   "source": [
    "Upon a quick investingation it seems that the subset of rows with missing value in the `days_since_last_order` columns have no `user_id` duplicated values, while it is the opposite for the rows with no missing values in the `days_since_last_order` column.  \n",
    "\n",
    "Moreover all the missing values matches with a value of `1` in the `order_number` column which helps to understand also what this latter columns means: the `order_number` columns seems to indicate how many order one user has made with us.\n",
    "\n",
    "Based on the context, it may be that the missing values in the `days_since_last_order` column indicates a first order ever place and recorded. Consequently, it may be that the value `0` in the `days_since_last_order` would indicate a second order placed in less than 24 hours from the previous. "
   ]
  },
  {
   "cell_type": "markdown",
   "id": "2cd4b485-4d07-45bf-85fd-30de349cf7cd",
   "metadata": {},
   "source": [
    "##### 6) Address the missing values using an appropriate method  \n",
    "\n",
    "In will input the value `-1` in place of the missing values to stay consistent with the data type. This must be documented so that if any statistics will have to be calculated the value `-1` should be excluded to avoid any misleading results."
   ]
  },
  {
   "cell_type": "code",
   "execution_count": 38,
   "id": "77530155-b454-4e14-a99d-dcdb6216a2b8",
   "metadata": {},
   "outputs": [],
   "source": [
    "filled_column = df_ords['days_since_last_order'].fillna(-1)\n",
    "df_ords_clean_no_missing = df_ords.assign(days_since_last_order = filled_column)\n"
   ]
  },
  {
   "cell_type": "code",
   "execution_count": 39,
   "id": "56d8632e-f14e-43b0-b4ed-295fd886d70f",
   "metadata": {},
   "outputs": [
    {
     "data": {
      "text/html": [
       "<div>\n",
       "<style scoped>\n",
       "    .dataframe tbody tr th:only-of-type {\n",
       "        vertical-align: middle;\n",
       "    }\n",
       "\n",
       "    .dataframe tbody tr th {\n",
       "        vertical-align: top;\n",
       "    }\n",
       "\n",
       "    .dataframe thead th {\n",
       "        text-align: right;\n",
       "    }\n",
       "</style>\n",
       "<table border=\"1\" class=\"dataframe\">\n",
       "  <thead>\n",
       "    <tr style=\"text-align: right;\">\n",
       "      <th></th>\n",
       "      <th>order_id</th>\n",
       "      <th>user_id</th>\n",
       "      <th>order_number</th>\n",
       "      <th>orders_day_of_week</th>\n",
       "      <th>order_hour_of_day</th>\n",
       "      <th>days_since_last_order</th>\n",
       "    </tr>\n",
       "  </thead>\n",
       "  <tbody>\n",
       "    <tr>\n",
       "      <th>0</th>\n",
       "      <td>2539329</td>\n",
       "      <td>1</td>\n",
       "      <td>1</td>\n",
       "      <td>2</td>\n",
       "      <td>8</td>\n",
       "      <td>-1.0</td>\n",
       "    </tr>\n",
       "    <tr>\n",
       "      <th>1</th>\n",
       "      <td>2398795</td>\n",
       "      <td>1</td>\n",
       "      <td>2</td>\n",
       "      <td>3</td>\n",
       "      <td>7</td>\n",
       "      <td>15.0</td>\n",
       "    </tr>\n",
       "    <tr>\n",
       "      <th>2</th>\n",
       "      <td>473747</td>\n",
       "      <td>1</td>\n",
       "      <td>3</td>\n",
       "      <td>3</td>\n",
       "      <td>12</td>\n",
       "      <td>21.0</td>\n",
       "    </tr>\n",
       "    <tr>\n",
       "      <th>3</th>\n",
       "      <td>2254736</td>\n",
       "      <td>1</td>\n",
       "      <td>4</td>\n",
       "      <td>4</td>\n",
       "      <td>7</td>\n",
       "      <td>29.0</td>\n",
       "    </tr>\n",
       "    <tr>\n",
       "      <th>4</th>\n",
       "      <td>431534</td>\n",
       "      <td>1</td>\n",
       "      <td>5</td>\n",
       "      <td>4</td>\n",
       "      <td>15</td>\n",
       "      <td>28.0</td>\n",
       "    </tr>\n",
       "  </tbody>\n",
       "</table>\n",
       "</div>"
      ],
      "text/plain": [
       "   order_id  user_id  order_number  orders_day_of_week  order_hour_of_day  \\\n",
       "0   2539329        1             1                   2                  8   \n",
       "1   2398795        1             2                   3                  7   \n",
       "2    473747        1             3                   3                 12   \n",
       "3   2254736        1             4                   4                  7   \n",
       "4    431534        1             5                   4                 15   \n",
       "\n",
       "   days_since_last_order  \n",
       "0                   -1.0  \n",
       "1                   15.0  \n",
       "2                   21.0  \n",
       "3                   29.0  \n",
       "4                   28.0  "
      ]
     },
     "execution_count": 39,
     "metadata": {},
     "output_type": "execute_result"
    }
   ],
   "source": [
    "df_ords_clean_no_missing.head()"
   ]
  },
  {
   "cell_type": "markdown",
   "id": "a05b357d-5ccb-4103-8fb6-4d3491f5874a",
   "metadata": {},
   "source": [
    "##### 7) Run a check for duplicate values in your df_ords data"
   ]
  },
  {
   "cell_type": "code",
   "execution_count": 40,
   "id": "1704d95d-ed9b-4ac3-a2ff-d1c1f396586f",
   "metadata": {},
   "outputs": [
    {
     "data": {
      "text/plain": [
       "0"
      ]
     },
     "execution_count": 40,
     "metadata": {},
     "output_type": "execute_result"
    }
   ],
   "source": [
    "df_ords_clean_no_missing.duplicated().sum()"
   ]
  },
  {
   "cell_type": "markdown",
   "id": "7d7a6215-c290-4485-a563-eb86801d8c0e",
   "metadata": {},
   "source": [
    "There are no duplicated rows in the orders dataset."
   ]
  },
  {
   "cell_type": "markdown",
   "id": "ce3f8e8a-8c67-43a7-aea5-03b0b068c31d",
   "metadata": {},
   "source": [
    "##### 9) Export your final, cleaned df_prods and df_ords data as “.csv”"
   ]
  },
  {
   "cell_type": "code",
   "execution_count": 41,
   "id": "2cba90c2-07a2-4559-b22b-c3994c284387",
   "metadata": {},
   "outputs": [],
   "source": [
    "# df_ords_clean_no_missing.to_csv(os.path.join(path, '02-Prepared_Data/orders_checked.csv'))"
   ]
  },
  {
   "cell_type": "code",
   "execution_count": 44,
   "id": "f09aebd1",
   "metadata": {},
   "outputs": [
    {
     "data": {
      "text/plain": [
       "(3421083, 6)"
      ]
     },
     "execution_count": 44,
     "metadata": {},
     "output_type": "execute_result"
    }
   ],
   "source": [
    "df_ords_clean_no_missing.shape"
   ]
  }
 ],
 "metadata": {
  "kernelspec": {
   "display_name": "Python 3 (ipykernel)",
   "language": "python",
   "name": "python3"
  },
  "language_info": {
   "codemirror_mode": {
    "name": "ipython",
    "version": 3
   },
   "file_extension": ".py",
   "mimetype": "text/x-python",
   "name": "python",
   "nbconvert_exporter": "python",
   "pygments_lexer": "ipython3",
   "version": "3.11.7"
  }
 },
 "nbformat": 4,
 "nbformat_minor": 5
}
