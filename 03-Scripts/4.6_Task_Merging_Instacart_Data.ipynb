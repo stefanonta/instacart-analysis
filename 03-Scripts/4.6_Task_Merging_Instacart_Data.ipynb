{
 "cells": [
  {
   "cell_type": "code",
   "execution_count": 1,
   "id": "7088ab9c-7ab7-4552-a026-1fa759c3f1a3",
   "metadata": {},
   "outputs": [],
   "source": [
    "import pandas as pd\n",
    "from os import path as pth\n",
    "import numpy as np"
   ]
  },
  {
   "cell_type": "code",
   "execution_count": 2,
   "id": "6445c8ce-936f-41c6-a571-5ba175a5b132",
   "metadata": {},
   "outputs": [],
   "source": [
    "path = r'/Users/polusa/Library/Mobile Documents/com~apple~CloudDocs/my_DA_2024/CareerFoundry_Data_Analytics_Bootcamp/4-Python_Fundamentals_for_DA/04-2024_Instacart_Basket_Analysis/02-Data'\n",
    "prepared_data_folder = r'02-Prepared_Data'\n",
    "raw_data_folder = r'01-Raw_data'"
   ]
  },
  {
   "cell_type": "markdown",
   "id": "164991db-731b-438c-a351-8b073e581729",
   "metadata": {},
   "source": [
    "### 3) Import the `orders_products_combined` dataframe from the pickle file"
   ]
  },
  {
   "cell_type": "code",
   "execution_count": 3,
   "id": "9892f53f-14ec-438a-9010-82a0f8d74485",
   "metadata": {},
   "outputs": [],
   "source": [
    "orders_products_combined = pd.read_pickle(pth.join(path, prepared_data_folder, 'orders_products_combined.pkl'))\n",
    "df_prods = pd.read_csv(pth.join(path, prepared_data_folder, 'products_checked.csv'), index_col=[0])"
   ]
  },
  {
   "cell_type": "code",
   "execution_count": 4,
   "id": "4f62c188-03e3-4d4a-b7d4-d37bc2fd3f96",
   "metadata": {},
   "outputs": [],
   "source": [
    "# remove _merge column\n",
    "orders_products_combined = orders_products_combined.drop(columns=['_merge'])"
   ]
  },
  {
   "cell_type": "markdown",
   "id": "76edec78-d1c0-4b8c-b03d-18af75d8edd3",
   "metadata": {},
   "source": [
    "### 4) Check the shape of the imported dataframe"
   ]
  },
  {
   "cell_type": "code",
   "execution_count": 5,
   "id": "fddbf75c-b4d0-4c18-8e81-d7ed9e67fae6",
   "metadata": {},
   "outputs": [
    {
     "data": {
      "text/plain": [
       "(32434489, 9)"
      ]
     },
     "execution_count": 5,
     "metadata": {},
     "output_type": "execute_result"
    }
   ],
   "source": [
    "# same number of row and just one less column since I just removed the _merge column\n",
    "orders_products_combined.shape"
   ]
  },
  {
   "cell_type": "markdown",
   "id": "0242b204-d9d1-4f9d-b0ac-0cf0d916c649",
   "metadata": {},
   "source": [
    "### 5) Determine a suitable way to combine the `orders_products_combined` dataframe with your products data set"
   ]
  },
  {
   "cell_type": "code",
   "execution_count": 6,
   "id": "55249729-9a23-429c-8d14-5e3be416e3f1",
   "metadata": {},
   "outputs": [
    {
     "name": "stdout",
     "output_type": "stream",
     "text": [
      "Index(['product_id', 'product_name', 'aisle_id', 'department_id', 'prices'], dtype='object')\n",
      "Index(['order_id', 'product_id', 'add_to_cart_order', 'reordered', 'user_id',\n",
      "       'order_number', 'orders_day_of_week', 'order_hour_of_day',\n",
      "       'days_since_last_order'],\n",
      "      dtype='object')\n"
     ]
    }
   ],
   "source": [
    "# checking the column to see what column to use to merge\n",
    "print(df_prods.columns)\n",
    "print(orders_products_combined.columns)"
   ]
  },
  {
   "cell_type": "code",
   "execution_count": 7,
   "id": "50df60f8-604e-48a8-a6c7-c4e322394806",
   "metadata": {},
   "outputs": [],
   "source": [
    "# merging using 'product_id'\n",
    "ords_prods_merge = pd.merge(orders_products_combined, df_prods, on = 'product_id', indicator=True)\n"
   ]
  },
  {
   "cell_type": "markdown",
   "id": "7634992b-9659-4df4-86da-9943c2973a7d",
   "metadata": {},
   "source": [
    "### 6) Confirm the results of the merge using the merge flag"
   ]
  },
  {
   "cell_type": "code",
   "execution_count": 8,
   "id": "8775c3bb-4502-4325-84de-a913884ed8e7",
   "metadata": {},
   "outputs": [
    {
     "data": {
      "text/plain": [
       "_merge\n",
       "both          32404859\n",
       "left_only            0\n",
       "right_only           0\n",
       "Name: count, dtype: int64"
      ]
     },
     "execution_count": 8,
     "metadata": {},
     "output_type": "execute_result"
    }
   ],
   "source": [
    "ords_prods_merge['_merge'].value_counts()"
   ]
  },
  {
   "cell_type": "markdown",
   "id": "c93449bb-467c-4adf-9600-353924b54012",
   "metadata": {},
   "source": [
    "##### Verifying if it was a full match"
   ]
  },
  {
   "cell_type": "code",
   "execution_count": 9,
   "id": "f85679ec-bce0-4f49-9a60-9b2ff76931d7",
   "metadata": {},
   "outputs": [],
   "source": [
    "outer_join_test = pd.merge(orders_products_combined, df_prods, how = 'outer', on = 'product_id', indicator=True)"
   ]
  },
  {
   "cell_type": "code",
   "execution_count": 10,
   "id": "5d77bdb6-27da-41e6-997d-7a0c35966d43",
   "metadata": {},
   "outputs": [
    {
     "data": {
      "text/plain": [
       "_merge\n",
       "both          32404859\n",
       "left_only        30200\n",
       "right_only          11\n",
       "Name: count, dtype: int64"
      ]
     },
     "execution_count": 10,
     "metadata": {},
     "output_type": "execute_result"
    }
   ],
   "source": [
    "# it is not a full match but we need to keep only the common rows so we will go for the inner join\n",
    "outer_join_test['_merge'].value_counts()"
   ]
  },
  {
   "cell_type": "markdown",
   "id": "43929618-527a-4f4f-b533-cc205005c854",
   "metadata": {},
   "source": [
    "### 7) Export the newly created dataframe as ords_prods_merge in a suitable format"
   ]
  },
  {
   "cell_type": "code",
   "execution_count": 12,
   "id": "7976718d-74bc-405b-a2c4-2f24981e48c6",
   "metadata": {},
   "outputs": [
    {
     "data": {
      "text/plain": [
       "(32404859, 14)"
      ]
     },
     "execution_count": 12,
     "metadata": {},
     "output_type": "execute_result"
    }
   ],
   "source": [
    "# pd.to_pickle(ords_prods_merge, pth.join(path, prepared_data_folder, 'ords_prods_merge.pkl'))\n",
    "ords_prods_merge.shape"
   ]
  }
 ],
 "metadata": {
  "kernelspec": {
   "display_name": "Python 3 (ipykernel)",
   "language": "python",
   "name": "python3"
  },
  "language_info": {
   "codemirror_mode": {
    "name": "ipython",
    "version": 3
   },
   "file_extension": ".py",
   "mimetype": "text/x-python",
   "name": "python",
   "nbconvert_exporter": "python",
   "pygments_lexer": "ipython3",
   "version": "3.11.7"
  }
 },
 "nbformat": 4,
 "nbformat_minor": 5
}
