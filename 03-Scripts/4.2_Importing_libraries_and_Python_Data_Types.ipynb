{
 "cells": [
  {
   "cell_type": "markdown",
   "id": "52945e26-e020-4f80-8184-360d73b13686",
   "metadata": {},
   "source": [
    "# Working with Python data types"
   ]
  },
  {
   "cell_type": "code",
   "execution_count": 4,
   "id": "68845493-6e80-4bb5-9e2c-520b2644e2f8",
   "metadata": {},
   "outputs": [],
   "source": [
    "# Importing libraries\n",
    "import pandas as pd\n",
    "import numpy as np\n",
    "import os"
   ]
  },
  {
   "cell_type": "code",
   "execution_count": 1,
   "id": "47c35349-7344-4f00-b2e7-72656277e74f",
   "metadata": {},
   "outputs": [
    {
     "data": {
      "text/plain": [
       "100"
      ]
     },
     "execution_count": 1,
     "metadata": {},
     "output_type": "execute_result"
    }
   ],
   "source": [
    "90 + 10"
   ]
  },
  {
   "cell_type": "code",
   "execution_count": 18,
   "id": "d6e9a063-8fb4-4caa-855e-8a6da92f69ae",
   "metadata": {},
   "outputs": [
    {
     "data": {
      "text/plain": [
       "100"
      ]
     },
     "execution_count": 18,
     "metadata": {},
     "output_type": "execute_result"
    }
   ],
   "source": [
    "110 - 10"
   ]
  },
  {
   "cell_type": "code",
   "execution_count": 15,
   "id": "963b420e-fb72-4a9f-a40f-935a26bdc49d",
   "metadata": {},
   "outputs": [
    {
     "data": {
      "text/plain": [
       "100"
      ]
     },
     "execution_count": 15,
     "metadata": {},
     "output_type": "execute_result"
    }
   ],
   "source": [
    "3 + 97"
   ]
  },
  {
   "cell_type": "code",
   "execution_count": 17,
   "id": "e76a976b-88aa-4f56-9e4d-24fe8b048a59",
   "metadata": {},
   "outputs": [
    {
     "data": {
      "text/plain": [
       "6.12641815235008"
      ]
     },
     "execution_count": 17,
     "metadata": {},
     "output_type": "execute_result"
    }
   ],
   "source": [
    "a = 75.6\n",
    "b = 12.34\n",
    "a/b"
   ]
  },
  {
   "cell_type": "code",
   "execution_count": 20,
   "id": "a121afaf-6255-4c4b-a94f-7b83d51124ba",
   "metadata": {},
   "outputs": [
    {
     "data": {
      "text/plain": [
       "'careerFoundry'"
      ]
     },
     "execution_count": 20,
     "metadata": {},
     "output_type": "execute_result"
    }
   ],
   "source": [
    "t1 = 'career'\n",
    "t2 = 'Foundry'\n",
    "t1 + t2"
   ]
  },
  {
   "cell_type": "code",
   "execution_count": 22,
   "id": "07e98422-e832-4760-99da-e295da886cd9",
   "metadata": {},
   "outputs": [
    {
     "data": {
      "text/plain": [
       "'Python Python Python Python Python Python Python Python Python Python Python Python Python Python Python Python Python Python Python Python Python Python Python Python Python Python Python Python Python Python Python Python Python Python Python Python Python Python Python Python Python Python Python Python Python Python Python Python Python Python Python Python Python Python Python Python Python Python Python Python Python Python Python Python Python Python Python Python Python Python Python Python Python Python Python Python Python Python Python Python Python Python Python Python Python Python Python Python Python Python Python Python Python Python Python Python Python Python Python Python '"
      ]
     },
     "execution_count": 22,
     "metadata": {},
     "output_type": "execute_result"
    }
   ],
   "source": [
    "t3 = 'Python '\n",
    "t3 * 100"
   ]
  }
 ],
 "metadata": {
  "kernelspec": {
   "display_name": "Python 3 (ipykernel)",
   "language": "python",
   "name": "python3"
  },
  "language_info": {
   "codemirror_mode": {
    "name": "ipython",
    "version": 3
   },
   "file_extension": ".py",
   "mimetype": "text/x-python",
   "name": "python",
   "nbconvert_exporter": "python",
   "pygments_lexer": "ipython3",
   "version": "3.12.1"
  }
 },
 "nbformat": 4,
 "nbformat_minor": 5
}
