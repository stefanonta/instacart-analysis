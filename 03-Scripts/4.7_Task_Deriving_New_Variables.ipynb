{
 "cells": [
  {
   "cell_type": "code",
   "execution_count": 1,
   "id": "6384a268-337d-495e-9440-45cf745a96d9",
   "metadata": {},
   "outputs": [],
   "source": [
    "import pandas as pd\n",
    "from os import path as pth"
   ]
  },
  {
   "cell_type": "code",
   "execution_count": 2,
   "id": "9834f843-d1b0-4912-9b49-b7fd2b3974a4",
   "metadata": {},
   "outputs": [],
   "source": [
    "path = r'/Users/polusa/Library/Mobile Documents/com~apple~CloudDocs/my_DA_2024/CareerFoundry_Data_Analytics_Bootcamp/4-Python_Fundamentals_for_DA/04-2024_Instacart_Basket_Analysis/02-Data'\n",
    "prepared_data_folder = r'02-Prepared_Data'\n",
    "raw_data_folder = r'01-Raw_Data'"
   ]
  },
  {
   "cell_type": "code",
   "execution_count": 3,
   "id": "c5beb903-f1c7-4cc6-ad84-0289faa522e2",
   "metadata": {},
   "outputs": [],
   "source": [
    "# import a subset (first 1_000_000 rows) of the dataset ords_prods_merge\n",
    "df = pd.read_pickle(pth.join(path, prepared_data_folder, 'ords_prods_merge.pkl'))[:1_000_000]\n"
   ]
  },
  {
   "cell_type": "code",
   "execution_count": 4,
   "id": "c20a3e72-1acd-4a20-a6cf-74f5b9a485a3",
   "metadata": {},
   "outputs": [],
   "source": [
    "# import the full dataset\n",
    "ords_prods_merge = pd.read_pickle(pth.join(path, prepared_data_folder, 'ords_prods_merge.pkl'))\n",
    "ords_prods_merge.drop(['_merge'],axis=1, inplace=True)"
   ]
  },
  {
   "cell_type": "code",
   "execution_count": 5,
   "id": "76bbe432",
   "metadata": {},
   "outputs": [
    {
     "data": {
      "text/plain": [
       "(32404859, 13)"
      ]
     },
     "execution_count": 5,
     "metadata": {},
     "output_type": "execute_result"
    }
   ],
   "source": [
    "ords_prods_merge.shape"
   ]
  },
  {
   "cell_type": "markdown",
   "id": "1b1b4475-d780-40ff-baf6-7988e67d2c88",
   "metadata": {},
   "source": [
    "#### Conditions:  \n",
    "\n",
    "- 0$ < price <= 5$ then \"low-range\" product\n",
    "- 5$ < price <= 15$ then \"mid-range\" product\n",
    "- 15$ < price then \"high-range\" product  "
   ]
  },
  {
   "cell_type": "code",
   "execution_count": 6,
   "id": "e102bc9c-3840-4c2d-ace4-1177a0203131",
   "metadata": {},
   "outputs": [
    {
     "data": {
      "text/html": [
       "<div>\n",
       "<style scoped>\n",
       "    .dataframe tbody tr th:only-of-type {\n",
       "        vertical-align: middle;\n",
       "    }\n",
       "\n",
       "    .dataframe tbody tr th {\n",
       "        vertical-align: top;\n",
       "    }\n",
       "\n",
       "    .dataframe thead th {\n",
       "        text-align: right;\n",
       "    }\n",
       "</style>\n",
       "<table border=\"1\" class=\"dataframe\">\n",
       "  <thead>\n",
       "    <tr style=\"text-align: right;\">\n",
       "      <th></th>\n",
       "      <th>order_id</th>\n",
       "      <th>product_id</th>\n",
       "      <th>add_to_cart_order</th>\n",
       "      <th>reordered</th>\n",
       "      <th>user_id</th>\n",
       "      <th>order_number</th>\n",
       "      <th>orders_day_of_week</th>\n",
       "      <th>order_hour_of_day</th>\n",
       "      <th>days_since_last_order</th>\n",
       "      <th>product_name</th>\n",
       "      <th>aisle_id</th>\n",
       "      <th>department_id</th>\n",
       "      <th>prices</th>\n",
       "      <th>_merge</th>\n",
       "    </tr>\n",
       "  </thead>\n",
       "  <tbody>\n",
       "    <tr>\n",
       "      <th>0</th>\n",
       "      <td>2</td>\n",
       "      <td>33120</td>\n",
       "      <td>1</td>\n",
       "      <td>1</td>\n",
       "      <td>202279</td>\n",
       "      <td>3</td>\n",
       "      <td>5</td>\n",
       "      <td>9</td>\n",
       "      <td>8.0</td>\n",
       "      <td>Organic Egg Whites</td>\n",
       "      <td>86</td>\n",
       "      <td>16</td>\n",
       "      <td>11.3</td>\n",
       "      <td>both</td>\n",
       "    </tr>\n",
       "    <tr>\n",
       "      <th>1</th>\n",
       "      <td>2</td>\n",
       "      <td>28985</td>\n",
       "      <td>2</td>\n",
       "      <td>1</td>\n",
       "      <td>202279</td>\n",
       "      <td>3</td>\n",
       "      <td>5</td>\n",
       "      <td>9</td>\n",
       "      <td>8.0</td>\n",
       "      <td>Michigan Organic Kale</td>\n",
       "      <td>83</td>\n",
       "      <td>4</td>\n",
       "      <td>13.4</td>\n",
       "      <td>both</td>\n",
       "    </tr>\n",
       "    <tr>\n",
       "      <th>2</th>\n",
       "      <td>2</td>\n",
       "      <td>9327</td>\n",
       "      <td>3</td>\n",
       "      <td>0</td>\n",
       "      <td>202279</td>\n",
       "      <td>3</td>\n",
       "      <td>5</td>\n",
       "      <td>9</td>\n",
       "      <td>8.0</td>\n",
       "      <td>Garlic Powder</td>\n",
       "      <td>104</td>\n",
       "      <td>13</td>\n",
       "      <td>3.6</td>\n",
       "      <td>both</td>\n",
       "    </tr>\n",
       "    <tr>\n",
       "      <th>3</th>\n",
       "      <td>2</td>\n",
       "      <td>45918</td>\n",
       "      <td>4</td>\n",
       "      <td>1</td>\n",
       "      <td>202279</td>\n",
       "      <td>3</td>\n",
       "      <td>5</td>\n",
       "      <td>9</td>\n",
       "      <td>8.0</td>\n",
       "      <td>Coconut Butter</td>\n",
       "      <td>19</td>\n",
       "      <td>13</td>\n",
       "      <td>8.4</td>\n",
       "      <td>both</td>\n",
       "    </tr>\n",
       "    <tr>\n",
       "      <th>4</th>\n",
       "      <td>2</td>\n",
       "      <td>30035</td>\n",
       "      <td>5</td>\n",
       "      <td>0</td>\n",
       "      <td>202279</td>\n",
       "      <td>3</td>\n",
       "      <td>5</td>\n",
       "      <td>9</td>\n",
       "      <td>8.0</td>\n",
       "      <td>Natural Sweetener</td>\n",
       "      <td>17</td>\n",
       "      <td>13</td>\n",
       "      <td>13.7</td>\n",
       "      <td>both</td>\n",
       "    </tr>\n",
       "  </tbody>\n",
       "</table>\n",
       "</div>"
      ],
      "text/plain": [
       "   order_id  product_id  add_to_cart_order  reordered  user_id  order_number  \\\n",
       "0         2       33120                  1          1   202279             3   \n",
       "1         2       28985                  2          1   202279             3   \n",
       "2         2        9327                  3          0   202279             3   \n",
       "3         2       45918                  4          1   202279             3   \n",
       "4         2       30035                  5          0   202279             3   \n",
       "\n",
       "   orders_day_of_week  order_hour_of_day  days_since_last_order  \\\n",
       "0                   5                  9                    8.0   \n",
       "1                   5                  9                    8.0   \n",
       "2                   5                  9                    8.0   \n",
       "3                   5                  9                    8.0   \n",
       "4                   5                  9                    8.0   \n",
       "\n",
       "            product_name  aisle_id  department_id  prices _merge  \n",
       "0     Organic Egg Whites        86             16    11.3   both  \n",
       "1  Michigan Organic Kale        83              4    13.4   both  \n",
       "2          Garlic Powder       104             13     3.6   both  \n",
       "3         Coconut Butter        19             13     8.4   both  \n",
       "4      Natural Sweetener        17             13    13.7   both  "
      ]
     },
     "execution_count": 6,
     "metadata": {},
     "output_type": "execute_result"
    }
   ],
   "source": [
    "df.head()"
   ]
  },
  {
   "cell_type": "code",
   "execution_count": 7,
   "id": "00c11185-0fd9-4cf1-b86e-802a3d9de1fd",
   "metadata": {},
   "outputs": [
    {
     "data": {
      "text/plain": [
       "order_id                                  2\n",
       "product_id                            33120\n",
       "add_to_cart_order                         1\n",
       "reordered                                 1\n",
       "user_id                              202279\n",
       "order_number                              3\n",
       "orders_day_of_week                        5\n",
       "order_hour_of_day                         9\n",
       "days_since_last_order                   8.0\n",
       "product_name             Organic Egg Whites\n",
       "aisle_id                                 86\n",
       "department_id                            16\n",
       "prices                                 11.3\n",
       "_merge                                 both\n",
       "Name: 0, dtype: object"
      ]
     },
     "execution_count": 7,
     "metadata": {},
     "output_type": "execute_result"
    }
   ],
   "source": [
    "# a row in a panda series (similar to a list) \n",
    "df.iloc[0]"
   ]
  },
  {
   "cell_type": "code",
   "execution_count": 8,
   "id": "530831c9-94f2-42fe-baa0-c3d5c69390b7",
   "metadata": {},
   "outputs": [],
   "source": [
    "# function for new column derivation\n",
    "\n",
    "def price_label(row):\n",
    "    if row['prices'] <= 5:\n",
    "        return 'Low-Range'\n",
    "    elif row['prices'] <= 15:\n",
    "        return 'Mid-Range'\n",
    "    elif row['prices'] > 15:\n",
    "        return 'High-Range'\n",
    "    else: return 'Not Enough Data'"
   ]
  },
  {
   "cell_type": "markdown",
   "id": "a5a4b984-b16d-4e98-8fa4-090b22d5fc2b",
   "metadata": {},
   "source": [
    "#### The `apply()` function  \n",
    "\n",
    "The `apply()` function in Pandas is used to apply a function along an axis of a DataFrame or Series. This function is very versatile and can be applied in various scenarios for data manipulation, transformation, and cleaning.  \n",
    "\n",
    "##### Syntax:  \n",
    "`DataFrame.apply(func, axis=0, raw=False, result_type=None, args=(), **kwds)`  \n",
    "\n",
    "`Series.apply(func, convert_dtype=True, args=(), **kwds)`  \n",
    "\n",
    "`axis=0` horizontal  \n",
    "`axis=1` vertical\n"
   ]
  },
  {
   "cell_type": "code",
   "execution_count": 9,
   "id": "9a325e23-6ba5-4307-b316-3b657cb69d4b",
   "metadata": {},
   "outputs": [],
   "source": [
    "# create a new column called `price_range` and populate it with 1 as a test\n",
    "\n",
    "df['price_range'] = 1"
   ]
  },
  {
   "cell_type": "code",
   "execution_count": 10,
   "id": "347f3eb7-3bf9-4108-a0fc-afdc2c9f5e19",
   "metadata": {},
   "outputs": [],
   "source": [
    "# now let's populated with the value returned by our function\n",
    "\n",
    "df['price_range'] = df.apply(price_label, axis=1)"
   ]
  },
  {
   "cell_type": "code",
   "execution_count": 11,
   "id": "aaa51bea-50d4-4aa4-ae3a-79832373203d",
   "metadata": {},
   "outputs": [
    {
     "data": {
      "text/plain": [
       "price_range\n",
       "Mid-Range     674229\n",
       "Low-Range     312859\n",
       "High-Range     12912\n",
       "Name: count, dtype: int64"
      ]
     },
     "execution_count": 11,
     "metadata": {},
     "output_type": "execute_result"
    }
   ],
   "source": [
    "df['price_range'].value_counts(dropna=False)"
   ]
  },
  {
   "cell_type": "markdown",
   "id": "5bee7993-8ea8-48c0-a064-9f5f055e1d07",
   "metadata": {},
   "source": [
    "Why not use the `max()` function to check what the most expensive product within the subset is?  \n",
    "This confirms your findings from the labels—that there aren’t any high-range products within the subset."
   ]
  },
  {
   "cell_type": "code",
   "execution_count": 12,
   "id": "7d0814ec-81a3-4290-9e4f-292abc6ef71b",
   "metadata": {},
   "outputs": [
    {
     "data": {
      "text/plain": [
       "99999.0"
      ]
     },
     "execution_count": 12,
     "metadata": {},
     "output_type": "execute_result"
    }
   ],
   "source": [
    "# most expensive product\n",
    "df['prices'].max() # df.loc[:,'prices'].max()"
   ]
  },
  {
   "cell_type": "markdown",
   "id": "de012a8f-0a9e-447a-a90a-1bacf6fc5988",
   "metadata": {},
   "source": [
    "Using `.loc()`, you can apply the conditional logic of an if-statement to a function without explicitly creating an if-else construct."
   ]
  },
  {
   "cell_type": "code",
   "execution_count": 13,
   "id": "19e02425-02e5-43fa-acee-94acb76bcdce",
   "metadata": {},
   "outputs": [],
   "source": [
    "df.loc[df['prices'] > 15, 'price_range_loc'] = 'High-Range'"
   ]
  },
  {
   "cell_type": "code",
   "execution_count": 14,
   "id": "d757e16f-a67a-49bd-8102-5bc3a8e9fb44",
   "metadata": {},
   "outputs": [],
   "source": [
    "df.loc[(df['prices'] <= 15) & (df['prices'] > 5), 'price_range_loc'] = 'Mid-Range' "
   ]
  },
  {
   "cell_type": "code",
   "execution_count": 15,
   "id": "830b75cc-8267-4bb7-9378-77b65e41a929",
   "metadata": {},
   "outputs": [],
   "source": [
    "df.loc[df['prices'] <= 5, 'price_range_loc'] = 'Low-Range'"
   ]
  },
  {
   "cell_type": "code",
   "execution_count": 16,
   "id": "7cdc9dc5-fb96-4ce8-a982-253f956a37b2",
   "metadata": {},
   "outputs": [
    {
     "data": {
      "text/plain": [
       "price_range_loc\n",
       "Mid-Range     674229\n",
       "Low-Range     312859\n",
       "High-Range     12912\n",
       "Name: count, dtype: int64"
      ]
     },
     "execution_count": 16,
     "metadata": {},
     "output_type": "execute_result"
    }
   ],
   "source": [
    "df.loc[:,'price_range_loc'].value_counts(dropna=False)"
   ]
  },
  {
   "cell_type": "markdown",
   "id": "ca3cdd48-293f-406c-88ca-bef72a687d4e",
   "metadata": {},
   "source": [
    "### Deriving new \"_price_label_\" columns in the `ords_prods_merge` Dataframe"
   ]
  },
  {
   "cell_type": "code",
   "execution_count": 17,
   "id": "5d82fe8c-c635-4686-83b9-278b54e5fddb",
   "metadata": {},
   "outputs": [
    {
     "data": {
      "text/html": [
       "<div>\n",
       "<style scoped>\n",
       "    .dataframe tbody tr th:only-of-type {\n",
       "        vertical-align: middle;\n",
       "    }\n",
       "\n",
       "    .dataframe tbody tr th {\n",
       "        vertical-align: top;\n",
       "    }\n",
       "\n",
       "    .dataframe thead th {\n",
       "        text-align: right;\n",
       "    }\n",
       "</style>\n",
       "<table border=\"1\" class=\"dataframe\">\n",
       "  <thead>\n",
       "    <tr style=\"text-align: right;\">\n",
       "      <th></th>\n",
       "      <th>order_id</th>\n",
       "      <th>product_id</th>\n",
       "      <th>add_to_cart_order</th>\n",
       "      <th>reordered</th>\n",
       "      <th>user_id</th>\n",
       "      <th>order_number</th>\n",
       "      <th>orders_day_of_week</th>\n",
       "      <th>order_hour_of_day</th>\n",
       "      <th>days_since_last_order</th>\n",
       "      <th>product_name</th>\n",
       "      <th>aisle_id</th>\n",
       "      <th>department_id</th>\n",
       "      <th>prices</th>\n",
       "    </tr>\n",
       "  </thead>\n",
       "  <tbody>\n",
       "    <tr>\n",
       "      <th>0</th>\n",
       "      <td>2</td>\n",
       "      <td>33120</td>\n",
       "      <td>1</td>\n",
       "      <td>1</td>\n",
       "      <td>202279</td>\n",
       "      <td>3</td>\n",
       "      <td>5</td>\n",
       "      <td>9</td>\n",
       "      <td>8.0</td>\n",
       "      <td>Organic Egg Whites</td>\n",
       "      <td>86</td>\n",
       "      <td>16</td>\n",
       "      <td>11.3</td>\n",
       "    </tr>\n",
       "    <tr>\n",
       "      <th>1</th>\n",
       "      <td>2</td>\n",
       "      <td>28985</td>\n",
       "      <td>2</td>\n",
       "      <td>1</td>\n",
       "      <td>202279</td>\n",
       "      <td>3</td>\n",
       "      <td>5</td>\n",
       "      <td>9</td>\n",
       "      <td>8.0</td>\n",
       "      <td>Michigan Organic Kale</td>\n",
       "      <td>83</td>\n",
       "      <td>4</td>\n",
       "      <td>13.4</td>\n",
       "    </tr>\n",
       "    <tr>\n",
       "      <th>2</th>\n",
       "      <td>2</td>\n",
       "      <td>9327</td>\n",
       "      <td>3</td>\n",
       "      <td>0</td>\n",
       "      <td>202279</td>\n",
       "      <td>3</td>\n",
       "      <td>5</td>\n",
       "      <td>9</td>\n",
       "      <td>8.0</td>\n",
       "      <td>Garlic Powder</td>\n",
       "      <td>104</td>\n",
       "      <td>13</td>\n",
       "      <td>3.6</td>\n",
       "    </tr>\n",
       "    <tr>\n",
       "      <th>3</th>\n",
       "      <td>2</td>\n",
       "      <td>45918</td>\n",
       "      <td>4</td>\n",
       "      <td>1</td>\n",
       "      <td>202279</td>\n",
       "      <td>3</td>\n",
       "      <td>5</td>\n",
       "      <td>9</td>\n",
       "      <td>8.0</td>\n",
       "      <td>Coconut Butter</td>\n",
       "      <td>19</td>\n",
       "      <td>13</td>\n",
       "      <td>8.4</td>\n",
       "    </tr>\n",
       "    <tr>\n",
       "      <th>4</th>\n",
       "      <td>2</td>\n",
       "      <td>30035</td>\n",
       "      <td>5</td>\n",
       "      <td>0</td>\n",
       "      <td>202279</td>\n",
       "      <td>3</td>\n",
       "      <td>5</td>\n",
       "      <td>9</td>\n",
       "      <td>8.0</td>\n",
       "      <td>Natural Sweetener</td>\n",
       "      <td>17</td>\n",
       "      <td>13</td>\n",
       "      <td>13.7</td>\n",
       "    </tr>\n",
       "  </tbody>\n",
       "</table>\n",
       "</div>"
      ],
      "text/plain": [
       "   order_id  product_id  add_to_cart_order  reordered  user_id  order_number  \\\n",
       "0         2       33120                  1          1   202279             3   \n",
       "1         2       28985                  2          1   202279             3   \n",
       "2         2        9327                  3          0   202279             3   \n",
       "3         2       45918                  4          1   202279             3   \n",
       "4         2       30035                  5          0   202279             3   \n",
       "\n",
       "   orders_day_of_week  order_hour_of_day  days_since_last_order  \\\n",
       "0                   5                  9                    8.0   \n",
       "1                   5                  9                    8.0   \n",
       "2                   5                  9                    8.0   \n",
       "3                   5                  9                    8.0   \n",
       "4                   5                  9                    8.0   \n",
       "\n",
       "            product_name  aisle_id  department_id  prices  \n",
       "0     Organic Egg Whites        86             16    11.3  \n",
       "1  Michigan Organic Kale        83              4    13.4  \n",
       "2          Garlic Powder       104             13     3.6  \n",
       "3         Coconut Butter        19             13     8.4  \n",
       "4      Natural Sweetener        17             13    13.7  "
      ]
     },
     "execution_count": 17,
     "metadata": {},
     "output_type": "execute_result"
    }
   ],
   "source": [
    "ords_prods_merge.head()"
   ]
  },
  {
   "cell_type": "code",
   "execution_count": 18,
   "id": "49a4ac13-da76-4800-8dbf-c435a510debc",
   "metadata": {},
   "outputs": [],
   "source": [
    "ords_prods_merge.loc[ords_prods_merge['prices'] > 15, 'price_label'] = 'High-Range'"
   ]
  },
  {
   "cell_type": "code",
   "execution_count": 19,
   "id": "bb59805e-09ec-4247-abba-d140ea677ec7",
   "metadata": {},
   "outputs": [],
   "source": [
    "ords_prods_merge.loc[(ords_prods_merge['prices'] <= 15) & (ords_prods_merge['prices'] > 5), 'price_label'] = 'Mid-Range' "
   ]
  },
  {
   "cell_type": "code",
   "execution_count": 20,
   "id": "1107d675-1215-41e9-a8c6-9a5330559f59",
   "metadata": {},
   "outputs": [],
   "source": [
    "ords_prods_merge.loc[ords_prods_merge['prices'] <= 5, 'price_label'] = 'Low-Range'"
   ]
  },
  {
   "cell_type": "code",
   "execution_count": 21,
   "id": "b0beec62-d371-4f47-bdb8-491c6f97ca86",
   "metadata": {},
   "outputs": [
    {
     "data": {
      "text/plain": [
       "price_label\n",
       "Mid-Range     21860860\n",
       "Low-Range     10126321\n",
       "High-Range      417678\n",
       "Name: count, dtype: int64"
      ]
     },
     "execution_count": 21,
     "metadata": {},
     "output_type": "execute_result"
    }
   ],
   "source": [
    "ords_prods_merge.loc[:,'price_label'].value_counts(dropna=False)"
   ]
  },
  {
   "cell_type": "code",
   "execution_count": 22,
   "id": "29458d75-3abe-4b29-b807-77f770b5c044",
   "metadata": {},
   "outputs": [
    {
     "data": {
      "text/html": [
       "<div>\n",
       "<style scoped>\n",
       "    .dataframe tbody tr th:only-of-type {\n",
       "        vertical-align: middle;\n",
       "    }\n",
       "\n",
       "    .dataframe tbody tr th {\n",
       "        vertical-align: top;\n",
       "    }\n",
       "\n",
       "    .dataframe thead th {\n",
       "        text-align: right;\n",
       "    }\n",
       "</style>\n",
       "<table border=\"1\" class=\"dataframe\">\n",
       "  <thead>\n",
       "    <tr style=\"text-align: right;\">\n",
       "      <th></th>\n",
       "      <th>order_id</th>\n",
       "      <th>product_id</th>\n",
       "      <th>add_to_cart_order</th>\n",
       "      <th>reordered</th>\n",
       "      <th>user_id</th>\n",
       "      <th>order_number</th>\n",
       "      <th>orders_day_of_week</th>\n",
       "      <th>order_hour_of_day</th>\n",
       "      <th>days_since_last_order</th>\n",
       "      <th>product_name</th>\n",
       "      <th>aisle_id</th>\n",
       "      <th>department_id</th>\n",
       "      <th>prices</th>\n",
       "      <th>price_label</th>\n",
       "    </tr>\n",
       "  </thead>\n",
       "  <tbody>\n",
       "    <tr>\n",
       "      <th>0</th>\n",
       "      <td>2</td>\n",
       "      <td>33120</td>\n",
       "      <td>1</td>\n",
       "      <td>1</td>\n",
       "      <td>202279</td>\n",
       "      <td>3</td>\n",
       "      <td>5</td>\n",
       "      <td>9</td>\n",
       "      <td>8.0</td>\n",
       "      <td>Organic Egg Whites</td>\n",
       "      <td>86</td>\n",
       "      <td>16</td>\n",
       "      <td>11.3</td>\n",
       "      <td>Mid-Range</td>\n",
       "    </tr>\n",
       "    <tr>\n",
       "      <th>1</th>\n",
       "      <td>2</td>\n",
       "      <td>28985</td>\n",
       "      <td>2</td>\n",
       "      <td>1</td>\n",
       "      <td>202279</td>\n",
       "      <td>3</td>\n",
       "      <td>5</td>\n",
       "      <td>9</td>\n",
       "      <td>8.0</td>\n",
       "      <td>Michigan Organic Kale</td>\n",
       "      <td>83</td>\n",
       "      <td>4</td>\n",
       "      <td>13.4</td>\n",
       "      <td>Mid-Range</td>\n",
       "    </tr>\n",
       "    <tr>\n",
       "      <th>2</th>\n",
       "      <td>2</td>\n",
       "      <td>9327</td>\n",
       "      <td>3</td>\n",
       "      <td>0</td>\n",
       "      <td>202279</td>\n",
       "      <td>3</td>\n",
       "      <td>5</td>\n",
       "      <td>9</td>\n",
       "      <td>8.0</td>\n",
       "      <td>Garlic Powder</td>\n",
       "      <td>104</td>\n",
       "      <td>13</td>\n",
       "      <td>3.6</td>\n",
       "      <td>Low-Range</td>\n",
       "    </tr>\n",
       "    <tr>\n",
       "      <th>3</th>\n",
       "      <td>2</td>\n",
       "      <td>45918</td>\n",
       "      <td>4</td>\n",
       "      <td>1</td>\n",
       "      <td>202279</td>\n",
       "      <td>3</td>\n",
       "      <td>5</td>\n",
       "      <td>9</td>\n",
       "      <td>8.0</td>\n",
       "      <td>Coconut Butter</td>\n",
       "      <td>19</td>\n",
       "      <td>13</td>\n",
       "      <td>8.4</td>\n",
       "      <td>Mid-Range</td>\n",
       "    </tr>\n",
       "    <tr>\n",
       "      <th>4</th>\n",
       "      <td>2</td>\n",
       "      <td>30035</td>\n",
       "      <td>5</td>\n",
       "      <td>0</td>\n",
       "      <td>202279</td>\n",
       "      <td>3</td>\n",
       "      <td>5</td>\n",
       "      <td>9</td>\n",
       "      <td>8.0</td>\n",
       "      <td>Natural Sweetener</td>\n",
       "      <td>17</td>\n",
       "      <td>13</td>\n",
       "      <td>13.7</td>\n",
       "      <td>Mid-Range</td>\n",
       "    </tr>\n",
       "  </tbody>\n",
       "</table>\n",
       "</div>"
      ],
      "text/plain": [
       "   order_id  product_id  add_to_cart_order  reordered  user_id  order_number  \\\n",
       "0         2       33120                  1          1   202279             3   \n",
       "1         2       28985                  2          1   202279             3   \n",
       "2         2        9327                  3          0   202279             3   \n",
       "3         2       45918                  4          1   202279             3   \n",
       "4         2       30035                  5          0   202279             3   \n",
       "\n",
       "   orders_day_of_week  order_hour_of_day  days_since_last_order  \\\n",
       "0                   5                  9                    8.0   \n",
       "1                   5                  9                    8.0   \n",
       "2                   5                  9                    8.0   \n",
       "3                   5                  9                    8.0   \n",
       "4                   5                  9                    8.0   \n",
       "\n",
       "            product_name  aisle_id  department_id  prices price_label  \n",
       "0     Organic Egg Whites        86             16    11.3   Mid-Range  \n",
       "1  Michigan Organic Kale        83              4    13.4   Mid-Range  \n",
       "2          Garlic Powder       104             13     3.6   Low-Range  \n",
       "3         Coconut Butter        19             13     8.4   Mid-Range  \n",
       "4      Natural Sweetener        17             13    13.7   Mid-Range  "
      ]
     },
     "execution_count": 22,
     "metadata": {},
     "output_type": "execute_result"
    }
   ],
   "source": [
    "ords_prods_merge.head()"
   ]
  },
  {
   "cell_type": "markdown",
   "id": "2863d47c-803a-4c97-9d41-9db0b94a9e4b",
   "metadata": {},
   "source": [
    "#### Create a new column in your `ords_prods_merge` dataframe that summarizes how busy each day of the week is  \n",
    "\n",
    "First, we need to know on which day most orders take place  \n",
    "\n",
    "In the project brief, we can see that the value 0 means Saturday"
   ]
  },
  {
   "cell_type": "code",
   "execution_count": 23,
   "id": "8a2e77a2-8dfd-4ae2-9676-d9e5397b6ae1",
   "metadata": {},
   "outputs": [
    {
     "data": {
      "text/plain": [
       "orders_day_of_week\n",
       "0    6204182\n",
       "1    5660230\n",
       "6    4496490\n",
       "2    4213830\n",
       "5    4205791\n",
       "3    3840534\n",
       "4    3783802\n",
       "Name: count, dtype: int64"
      ]
     },
     "execution_count": 23,
     "metadata": {},
     "output_type": "execute_result"
    }
   ],
   "source": [
    "ords_prods_merge.loc[:,'orders_day_of_week'].value_counts(dropna=False)"
   ]
  },
  {
   "cell_type": "markdown",
   "id": "3bfc847c-797c-441a-9523-e6c8512a4207",
   "metadata": {},
   "source": [
    "##### Create a new column, “busiest day,” that will contain one of three different values: “Busiest day,” “Least busy,” and “Regularly busy.”"
   ]
  },
  {
   "cell_type": "markdown",
   "id": "ce80e18e-fdb1-4bb7-afc7-719a551f0402",
   "metadata": {},
   "source": [
    "Method 1 (using user-defined function and  the `apply()` method)"
   ]
  },
  {
   "cell_type": "code",
   "execution_count": 24,
   "id": "883ad16e-c6dd-4ea4-9150-6d161854c1cc",
   "metadata": {},
   "outputs": [],
   "source": [
    "def how_busy(day):\n",
    "    if day == 0: return 'Busiest'\n",
    "    elif day == 4: return 'Least Busy'\n",
    "    else: return 'Regularly Busy'"
   ]
  },
  {
   "cell_type": "code",
   "execution_count": 25,
   "id": "b1899924-85a6-41e8-9a02-3d013400dbe7",
   "metadata": {},
   "outputs": [],
   "source": [
    "ords_prods_merge.loc[:,'busiest_day'] = ords_prods_merge.loc[:,'orders_day_of_week'].apply(how_busy)"
   ]
  },
  {
   "cell_type": "code",
   "execution_count": 26,
   "id": "611950b5-7e8e-4054-bc04-a2a060bf041e",
   "metadata": {},
   "outputs": [
    {
     "data": {
      "text/plain": [
       "busiest_day\n",
       "Regularly Busy    22416875\n",
       "Busiest            6204182\n",
       "Least Busy         3783802\n",
       "Name: count, dtype: int64"
      ]
     },
     "execution_count": 26,
     "metadata": {},
     "output_type": "execute_result"
    }
   ],
   "source": [
    "ords_prods_merge['busiest_day'].value_counts(dropna=False)"
   ]
  },
  {
   "cell_type": "code",
   "execution_count": 27,
   "id": "f0310cb8-33d4-49ec-a988-670c67df44fd",
   "metadata": {},
   "outputs": [
    {
     "data": {
      "text/html": [
       "<div>\n",
       "<style scoped>\n",
       "    .dataframe tbody tr th:only-of-type {\n",
       "        vertical-align: middle;\n",
       "    }\n",
       "\n",
       "    .dataframe tbody tr th {\n",
       "        vertical-align: top;\n",
       "    }\n",
       "\n",
       "    .dataframe thead th {\n",
       "        text-align: right;\n",
       "    }\n",
       "</style>\n",
       "<table border=\"1\" class=\"dataframe\">\n",
       "  <thead>\n",
       "    <tr style=\"text-align: right;\">\n",
       "      <th></th>\n",
       "      <th>order_id</th>\n",
       "      <th>product_id</th>\n",
       "      <th>add_to_cart_order</th>\n",
       "      <th>reordered</th>\n",
       "      <th>user_id</th>\n",
       "      <th>order_number</th>\n",
       "      <th>orders_day_of_week</th>\n",
       "      <th>order_hour_of_day</th>\n",
       "      <th>days_since_last_order</th>\n",
       "      <th>product_name</th>\n",
       "      <th>aisle_id</th>\n",
       "      <th>department_id</th>\n",
       "      <th>prices</th>\n",
       "      <th>price_label</th>\n",
       "      <th>busiest_day</th>\n",
       "    </tr>\n",
       "  </thead>\n",
       "  <tbody>\n",
       "    <tr>\n",
       "      <th>0</th>\n",
       "      <td>2</td>\n",
       "      <td>33120</td>\n",
       "      <td>1</td>\n",
       "      <td>1</td>\n",
       "      <td>202279</td>\n",
       "      <td>3</td>\n",
       "      <td>5</td>\n",
       "      <td>9</td>\n",
       "      <td>8.0</td>\n",
       "      <td>Organic Egg Whites</td>\n",
       "      <td>86</td>\n",
       "      <td>16</td>\n",
       "      <td>11.3</td>\n",
       "      <td>Mid-Range</td>\n",
       "      <td>Regularly Busy</td>\n",
       "    </tr>\n",
       "    <tr>\n",
       "      <th>1</th>\n",
       "      <td>2</td>\n",
       "      <td>28985</td>\n",
       "      <td>2</td>\n",
       "      <td>1</td>\n",
       "      <td>202279</td>\n",
       "      <td>3</td>\n",
       "      <td>5</td>\n",
       "      <td>9</td>\n",
       "      <td>8.0</td>\n",
       "      <td>Michigan Organic Kale</td>\n",
       "      <td>83</td>\n",
       "      <td>4</td>\n",
       "      <td>13.4</td>\n",
       "      <td>Mid-Range</td>\n",
       "      <td>Regularly Busy</td>\n",
       "    </tr>\n",
       "    <tr>\n",
       "      <th>2</th>\n",
       "      <td>2</td>\n",
       "      <td>9327</td>\n",
       "      <td>3</td>\n",
       "      <td>0</td>\n",
       "      <td>202279</td>\n",
       "      <td>3</td>\n",
       "      <td>5</td>\n",
       "      <td>9</td>\n",
       "      <td>8.0</td>\n",
       "      <td>Garlic Powder</td>\n",
       "      <td>104</td>\n",
       "      <td>13</td>\n",
       "      <td>3.6</td>\n",
       "      <td>Low-Range</td>\n",
       "      <td>Regularly Busy</td>\n",
       "    </tr>\n",
       "    <tr>\n",
       "      <th>3</th>\n",
       "      <td>2</td>\n",
       "      <td>45918</td>\n",
       "      <td>4</td>\n",
       "      <td>1</td>\n",
       "      <td>202279</td>\n",
       "      <td>3</td>\n",
       "      <td>5</td>\n",
       "      <td>9</td>\n",
       "      <td>8.0</td>\n",
       "      <td>Coconut Butter</td>\n",
       "      <td>19</td>\n",
       "      <td>13</td>\n",
       "      <td>8.4</td>\n",
       "      <td>Mid-Range</td>\n",
       "      <td>Regularly Busy</td>\n",
       "    </tr>\n",
       "    <tr>\n",
       "      <th>4</th>\n",
       "      <td>2</td>\n",
       "      <td>30035</td>\n",
       "      <td>5</td>\n",
       "      <td>0</td>\n",
       "      <td>202279</td>\n",
       "      <td>3</td>\n",
       "      <td>5</td>\n",
       "      <td>9</td>\n",
       "      <td>8.0</td>\n",
       "      <td>Natural Sweetener</td>\n",
       "      <td>17</td>\n",
       "      <td>13</td>\n",
       "      <td>13.7</td>\n",
       "      <td>Mid-Range</td>\n",
       "      <td>Regularly Busy</td>\n",
       "    </tr>\n",
       "  </tbody>\n",
       "</table>\n",
       "</div>"
      ],
      "text/plain": [
       "   order_id  product_id  add_to_cart_order  reordered  user_id  order_number  \\\n",
       "0         2       33120                  1          1   202279             3   \n",
       "1         2       28985                  2          1   202279             3   \n",
       "2         2        9327                  3          0   202279             3   \n",
       "3         2       45918                  4          1   202279             3   \n",
       "4         2       30035                  5          0   202279             3   \n",
       "\n",
       "   orders_day_of_week  order_hour_of_day  days_since_last_order  \\\n",
       "0                   5                  9                    8.0   \n",
       "1                   5                  9                    8.0   \n",
       "2                   5                  9                    8.0   \n",
       "3                   5                  9                    8.0   \n",
       "4                   5                  9                    8.0   \n",
       "\n",
       "            product_name  aisle_id  department_id  prices price_label  \\\n",
       "0     Organic Egg Whites        86             16    11.3   Mid-Range   \n",
       "1  Michigan Organic Kale        83              4    13.4   Mid-Range   \n",
       "2          Garlic Powder       104             13     3.6   Low-Range   \n",
       "3         Coconut Butter        19             13     8.4   Mid-Range   \n",
       "4      Natural Sweetener        17             13    13.7   Mid-Range   \n",
       "\n",
       "      busiest_day  \n",
       "0  Regularly Busy  \n",
       "1  Regularly Busy  \n",
       "2  Regularly Busy  \n",
       "3  Regularly Busy  \n",
       "4  Regularly Busy  "
      ]
     },
     "execution_count": 27,
     "metadata": {},
     "output_type": "execute_result"
    }
   ],
   "source": [
    "ords_prods_merge.head()"
   ]
  },
  {
   "cell_type": "markdown",
   "id": "7bb9fe15-bb65-431d-b03d-a42f9f193f1b",
   "metadata": {},
   "source": [
    "Method 2 (using a for-loop)"
   ]
  },
  {
   "cell_type": "code",
   "execution_count": 28,
   "id": "a8e626a3-166c-4fa2-a9a1-471402bd1c9d",
   "metadata": {},
   "outputs": [],
   "source": [
    "# will use the subset df dataframe "
   ]
  },
  {
   "cell_type": "code",
   "execution_count": 29,
   "id": "51fe9a23-c299-47fc-9312-c684ebcbb1f8",
   "metadata": {},
   "outputs": [],
   "source": [
    "result = []"
   ]
  },
  {
   "cell_type": "code",
   "execution_count": 30,
   "id": "c1851db8-6b46-455a-b092-61a865deea2b",
   "metadata": {},
   "outputs": [],
   "source": [
    "for i in df.loc[:,'orders_day_of_week']:\n",
    "    if i == 0: result.append('Busiest')\n",
    "    elif i == 4: result.append('Least Busy')\n",
    "    else: result.append('Regularly Busy')"
   ]
  },
  {
   "cell_type": "code",
   "execution_count": 31,
   "id": "d5fe7508-c9b0-4ea6-9e9b-b0614b09ec5e",
   "metadata": {},
   "outputs": [],
   "source": [
    "df.loc[:,'Busiest_Day'] = result"
   ]
  },
  {
   "cell_type": "code",
   "execution_count": 32,
   "id": "4c8a3295-96c1-4e61-86e4-e8ae6c07e0d5",
   "metadata": {},
   "outputs": [
    {
     "data": {
      "text/html": [
       "<div>\n",
       "<style scoped>\n",
       "    .dataframe tbody tr th:only-of-type {\n",
       "        vertical-align: middle;\n",
       "    }\n",
       "\n",
       "    .dataframe tbody tr th {\n",
       "        vertical-align: top;\n",
       "    }\n",
       "\n",
       "    .dataframe thead th {\n",
       "        text-align: right;\n",
       "    }\n",
       "</style>\n",
       "<table border=\"1\" class=\"dataframe\">\n",
       "  <thead>\n",
       "    <tr style=\"text-align: right;\">\n",
       "      <th></th>\n",
       "      <th>order_id</th>\n",
       "      <th>product_id</th>\n",
       "      <th>add_to_cart_order</th>\n",
       "      <th>reordered</th>\n",
       "      <th>user_id</th>\n",
       "      <th>order_number</th>\n",
       "      <th>orders_day_of_week</th>\n",
       "      <th>order_hour_of_day</th>\n",
       "      <th>days_since_last_order</th>\n",
       "      <th>product_name</th>\n",
       "      <th>aisle_id</th>\n",
       "      <th>department_id</th>\n",
       "      <th>prices</th>\n",
       "      <th>_merge</th>\n",
       "      <th>price_range</th>\n",
       "      <th>price_range_loc</th>\n",
       "      <th>Busiest_Day</th>\n",
       "    </tr>\n",
       "  </thead>\n",
       "  <tbody>\n",
       "    <tr>\n",
       "      <th>0</th>\n",
       "      <td>2</td>\n",
       "      <td>33120</td>\n",
       "      <td>1</td>\n",
       "      <td>1</td>\n",
       "      <td>202279</td>\n",
       "      <td>3</td>\n",
       "      <td>5</td>\n",
       "      <td>9</td>\n",
       "      <td>8.0</td>\n",
       "      <td>Organic Egg Whites</td>\n",
       "      <td>86</td>\n",
       "      <td>16</td>\n",
       "      <td>11.3</td>\n",
       "      <td>both</td>\n",
       "      <td>Mid-Range</td>\n",
       "      <td>Mid-Range</td>\n",
       "      <td>Regularly Busy</td>\n",
       "    </tr>\n",
       "    <tr>\n",
       "      <th>1</th>\n",
       "      <td>2</td>\n",
       "      <td>28985</td>\n",
       "      <td>2</td>\n",
       "      <td>1</td>\n",
       "      <td>202279</td>\n",
       "      <td>3</td>\n",
       "      <td>5</td>\n",
       "      <td>9</td>\n",
       "      <td>8.0</td>\n",
       "      <td>Michigan Organic Kale</td>\n",
       "      <td>83</td>\n",
       "      <td>4</td>\n",
       "      <td>13.4</td>\n",
       "      <td>both</td>\n",
       "      <td>Mid-Range</td>\n",
       "      <td>Mid-Range</td>\n",
       "      <td>Regularly Busy</td>\n",
       "    </tr>\n",
       "    <tr>\n",
       "      <th>2</th>\n",
       "      <td>2</td>\n",
       "      <td>9327</td>\n",
       "      <td>3</td>\n",
       "      <td>0</td>\n",
       "      <td>202279</td>\n",
       "      <td>3</td>\n",
       "      <td>5</td>\n",
       "      <td>9</td>\n",
       "      <td>8.0</td>\n",
       "      <td>Garlic Powder</td>\n",
       "      <td>104</td>\n",
       "      <td>13</td>\n",
       "      <td>3.6</td>\n",
       "      <td>both</td>\n",
       "      <td>Low-Range</td>\n",
       "      <td>Low-Range</td>\n",
       "      <td>Regularly Busy</td>\n",
       "    </tr>\n",
       "    <tr>\n",
       "      <th>3</th>\n",
       "      <td>2</td>\n",
       "      <td>45918</td>\n",
       "      <td>4</td>\n",
       "      <td>1</td>\n",
       "      <td>202279</td>\n",
       "      <td>3</td>\n",
       "      <td>5</td>\n",
       "      <td>9</td>\n",
       "      <td>8.0</td>\n",
       "      <td>Coconut Butter</td>\n",
       "      <td>19</td>\n",
       "      <td>13</td>\n",
       "      <td>8.4</td>\n",
       "      <td>both</td>\n",
       "      <td>Mid-Range</td>\n",
       "      <td>Mid-Range</td>\n",
       "      <td>Regularly Busy</td>\n",
       "    </tr>\n",
       "    <tr>\n",
       "      <th>4</th>\n",
       "      <td>2</td>\n",
       "      <td>30035</td>\n",
       "      <td>5</td>\n",
       "      <td>0</td>\n",
       "      <td>202279</td>\n",
       "      <td>3</td>\n",
       "      <td>5</td>\n",
       "      <td>9</td>\n",
       "      <td>8.0</td>\n",
       "      <td>Natural Sweetener</td>\n",
       "      <td>17</td>\n",
       "      <td>13</td>\n",
       "      <td>13.7</td>\n",
       "      <td>both</td>\n",
       "      <td>Mid-Range</td>\n",
       "      <td>Mid-Range</td>\n",
       "      <td>Regularly Busy</td>\n",
       "    </tr>\n",
       "  </tbody>\n",
       "</table>\n",
       "</div>"
      ],
      "text/plain": [
       "   order_id  product_id  add_to_cart_order  reordered  user_id  order_number  \\\n",
       "0         2       33120                  1          1   202279             3   \n",
       "1         2       28985                  2          1   202279             3   \n",
       "2         2        9327                  3          0   202279             3   \n",
       "3         2       45918                  4          1   202279             3   \n",
       "4         2       30035                  5          0   202279             3   \n",
       "\n",
       "   orders_day_of_week  order_hour_of_day  days_since_last_order  \\\n",
       "0                   5                  9                    8.0   \n",
       "1                   5                  9                    8.0   \n",
       "2                   5                  9                    8.0   \n",
       "3                   5                  9                    8.0   \n",
       "4                   5                  9                    8.0   \n",
       "\n",
       "            product_name  aisle_id  department_id  prices _merge price_range  \\\n",
       "0     Organic Egg Whites        86             16    11.3   both   Mid-Range   \n",
       "1  Michigan Organic Kale        83              4    13.4   both   Mid-Range   \n",
       "2          Garlic Powder       104             13     3.6   both   Low-Range   \n",
       "3         Coconut Butter        19             13     8.4   both   Mid-Range   \n",
       "4      Natural Sweetener        17             13    13.7   both   Mid-Range   \n",
       "\n",
       "  price_range_loc     Busiest_Day  \n",
       "0       Mid-Range  Regularly Busy  \n",
       "1       Mid-Range  Regularly Busy  \n",
       "2       Low-Range  Regularly Busy  \n",
       "3       Mid-Range  Regularly Busy  \n",
       "4       Mid-Range  Regularly Busy  "
      ]
     },
     "execution_count": 32,
     "metadata": {},
     "output_type": "execute_result"
    }
   ],
   "source": [
    "df.head()"
   ]
  },
  {
   "cell_type": "markdown",
   "id": "1ca4b267-bc0c-4811-8865-d136622d3fa0",
   "metadata": {},
   "source": [
    "# Task 4.7"
   ]
  },
  {
   "cell_type": "markdown",
   "id": "6a52647b-2458-45b3-8669-a9a36835f224",
   "metadata": {},
   "source": [
    "1) If you haven’t done so already, complete the instructions in the Exercise for creating the “`price_label`” and “`busiest_day`” columns.\n",
    "2) Suppose your clients have changed their minds about the labels you created in your “`busiest_day`” column. Now, they want “Busiest day” to become “Busiest days” (plural). This label should correspond with the two busiest days of the week as opposed to the single busiest day. At the same time, they’d also like to know the two slowest days. Create a new column for this using a suitable method."
   ]
  },
  {
   "cell_type": "code",
   "execution_count": 33,
   "id": "2147e921-1509-49f6-bbb3-a6cbd0d352b8",
   "metadata": {},
   "outputs": [
    {
     "data": {
      "text/plain": [
       "orders_day_of_week\n",
       "0    6204182\n",
       "1    5660230\n",
       "6    4496490\n",
       "2    4213830\n",
       "5    4205791\n",
       "3    3840534\n",
       "4    3783802\n",
       "Name: count, dtype: int64"
      ]
     },
     "execution_count": 33,
     "metadata": {},
     "output_type": "execute_result"
    }
   ],
   "source": [
    "ords_prods_merge['orders_day_of_week'].value_counts(dropna=False)"
   ]
  },
  {
   "cell_type": "code",
   "execution_count": 34,
   "id": "500e2bb8-9d5d-4ff8-808f-b9aef91a0826",
   "metadata": {},
   "outputs": [],
   "source": [
    "# busiest 0 and 1\n",
    "# slowest 3 and 4\n",
    "# regular 2 5 6 "
   ]
  },
  {
   "cell_type": "code",
   "execution_count": 35,
   "id": "6bfb2dcd",
   "metadata": {},
   "outputs": [],
   "source": [
    "# rename column\n",
    "ords_prods_merge.rename(columns={'busiest_day': 'busiest_days'}, inplace=True)"
   ]
  },
  {
   "cell_type": "code",
   "execution_count": 36,
   "id": "c4c56589",
   "metadata": {},
   "outputs": [],
   "source": [
    "# function to fill the colummn 'busiest_days'\n",
    "def how_busy(day):\n",
    "    if day in [0,1]: return 'busiest_days'\n",
    "    elif day in [3,4]: return 'slowest_days'\n",
    "    elif day in [2,5,6]: return 'regular_days'\n",
    "    else: return 'Info not available'"
   ]
  },
  {
   "cell_type": "code",
   "execution_count": 37,
   "id": "d3886b69",
   "metadata": {},
   "outputs": [],
   "source": [
    "ords_prods_merge.loc[:,'busiest_days'] = ords_prods_merge.loc[:,'orders_day_of_week'].apply(how_busy)"
   ]
  },
  {
   "cell_type": "markdown",
   "id": "ff6dd2f9",
   "metadata": {},
   "source": [
    "3) Check the values of this new column for accuracy. Note any observations in markdown format."
   ]
  },
  {
   "cell_type": "code",
   "execution_count": 38,
   "id": "61b3dba4",
   "metadata": {},
   "outputs": [
    {
     "name": "stdout",
     "output_type": "stream",
     "text": [
      "(32404859,)\n"
     ]
    },
    {
     "data": {
      "text/plain": [
       "busiest_days\n",
       "regular_days    12916111\n",
       "busiest_days    11864412\n",
       "slowest_days     7624336\n",
       "Name: count, dtype: int64"
      ]
     },
     "execution_count": 38,
     "metadata": {},
     "output_type": "execute_result"
    }
   ],
   "source": [
    "print(ords_prods_merge.loc[:,'busiest_days'].shape)\n",
    "ords_prods_merge.loc[:,'busiest_days'].value_counts(dropna=False)"
   ]
  },
  {
   "cell_type": "code",
   "execution_count": 39,
   "id": "9e354da5",
   "metadata": {},
   "outputs": [
    {
     "data": {
      "text/plain": [
       "32404859"
      ]
     },
     "execution_count": 39,
     "metadata": {},
     "output_type": "execute_result"
    }
   ],
   "source": [
    "12916111+11864412+7624336"
   ]
  },
  {
   "cell_type": "markdown",
   "id": "a02f9751",
   "metadata": {},
   "source": [
    "By doing a quick check, using the shape and the `value_counts()`, it seems that all rows had a valid value that indicates the day of the week.  \n",
    "The regualar days makes up the largest majority, followed by busiest days and slowest days respectively."
   ]
  },
  {
   "cell_type": "markdown",
   "id": "52300763",
   "metadata": {},
   "source": [
    "4) When too many users make Instacart orders at the same time, the app freezes. The senior technical officer at Instacart wants you to identify the busiest hours of the day.  \n",
    "Rather than by hour, they want periods of time labeled “_Most orders_,” “_Average orders_,” and “_Fewest orders_.”  \n",
    "Create a new column containing these labels called “busiest_period_of_day.”"
   ]
  },
  {
   "cell_type": "code",
   "execution_count": 40,
   "id": "3025aa72",
   "metadata": {},
   "outputs": [
    {
     "data": {
      "text/html": [
       "<div>\n",
       "<style scoped>\n",
       "    .dataframe tbody tr th:only-of-type {\n",
       "        vertical-align: middle;\n",
       "    }\n",
       "\n",
       "    .dataframe tbody tr th {\n",
       "        vertical-align: top;\n",
       "    }\n",
       "\n",
       "    .dataframe thead th {\n",
       "        text-align: right;\n",
       "    }\n",
       "</style>\n",
       "<table border=\"1\" class=\"dataframe\">\n",
       "  <thead>\n",
       "    <tr style=\"text-align: right;\">\n",
       "      <th></th>\n",
       "      <th>order_id</th>\n",
       "      <th>product_id</th>\n",
       "      <th>add_to_cart_order</th>\n",
       "      <th>reordered</th>\n",
       "      <th>user_id</th>\n",
       "      <th>order_number</th>\n",
       "      <th>orders_day_of_week</th>\n",
       "      <th>order_hour_of_day</th>\n",
       "      <th>days_since_last_order</th>\n",
       "      <th>product_name</th>\n",
       "      <th>aisle_id</th>\n",
       "      <th>department_id</th>\n",
       "      <th>prices</th>\n",
       "      <th>price_label</th>\n",
       "      <th>busiest_days</th>\n",
       "    </tr>\n",
       "  </thead>\n",
       "  <tbody>\n",
       "    <tr>\n",
       "      <th>0</th>\n",
       "      <td>2</td>\n",
       "      <td>33120</td>\n",
       "      <td>1</td>\n",
       "      <td>1</td>\n",
       "      <td>202279</td>\n",
       "      <td>3</td>\n",
       "      <td>5</td>\n",
       "      <td>9</td>\n",
       "      <td>8.0</td>\n",
       "      <td>Organic Egg Whites</td>\n",
       "      <td>86</td>\n",
       "      <td>16</td>\n",
       "      <td>11.3</td>\n",
       "      <td>Mid-Range</td>\n",
       "      <td>regular_days</td>\n",
       "    </tr>\n",
       "    <tr>\n",
       "      <th>1</th>\n",
       "      <td>2</td>\n",
       "      <td>28985</td>\n",
       "      <td>2</td>\n",
       "      <td>1</td>\n",
       "      <td>202279</td>\n",
       "      <td>3</td>\n",
       "      <td>5</td>\n",
       "      <td>9</td>\n",
       "      <td>8.0</td>\n",
       "      <td>Michigan Organic Kale</td>\n",
       "      <td>83</td>\n",
       "      <td>4</td>\n",
       "      <td>13.4</td>\n",
       "      <td>Mid-Range</td>\n",
       "      <td>regular_days</td>\n",
       "    </tr>\n",
       "    <tr>\n",
       "      <th>2</th>\n",
       "      <td>2</td>\n",
       "      <td>9327</td>\n",
       "      <td>3</td>\n",
       "      <td>0</td>\n",
       "      <td>202279</td>\n",
       "      <td>3</td>\n",
       "      <td>5</td>\n",
       "      <td>9</td>\n",
       "      <td>8.0</td>\n",
       "      <td>Garlic Powder</td>\n",
       "      <td>104</td>\n",
       "      <td>13</td>\n",
       "      <td>3.6</td>\n",
       "      <td>Low-Range</td>\n",
       "      <td>regular_days</td>\n",
       "    </tr>\n",
       "    <tr>\n",
       "      <th>3</th>\n",
       "      <td>2</td>\n",
       "      <td>45918</td>\n",
       "      <td>4</td>\n",
       "      <td>1</td>\n",
       "      <td>202279</td>\n",
       "      <td>3</td>\n",
       "      <td>5</td>\n",
       "      <td>9</td>\n",
       "      <td>8.0</td>\n",
       "      <td>Coconut Butter</td>\n",
       "      <td>19</td>\n",
       "      <td>13</td>\n",
       "      <td>8.4</td>\n",
       "      <td>Mid-Range</td>\n",
       "      <td>regular_days</td>\n",
       "    </tr>\n",
       "    <tr>\n",
       "      <th>4</th>\n",
       "      <td>2</td>\n",
       "      <td>30035</td>\n",
       "      <td>5</td>\n",
       "      <td>0</td>\n",
       "      <td>202279</td>\n",
       "      <td>3</td>\n",
       "      <td>5</td>\n",
       "      <td>9</td>\n",
       "      <td>8.0</td>\n",
       "      <td>Natural Sweetener</td>\n",
       "      <td>17</td>\n",
       "      <td>13</td>\n",
       "      <td>13.7</td>\n",
       "      <td>Mid-Range</td>\n",
       "      <td>regular_days</td>\n",
       "    </tr>\n",
       "  </tbody>\n",
       "</table>\n",
       "</div>"
      ],
      "text/plain": [
       "   order_id  product_id  add_to_cart_order  reordered  user_id  order_number  \\\n",
       "0         2       33120                  1          1   202279             3   \n",
       "1         2       28985                  2          1   202279             3   \n",
       "2         2        9327                  3          0   202279             3   \n",
       "3         2       45918                  4          1   202279             3   \n",
       "4         2       30035                  5          0   202279             3   \n",
       "\n",
       "   orders_day_of_week  order_hour_of_day  days_since_last_order  \\\n",
       "0                   5                  9                    8.0   \n",
       "1                   5                  9                    8.0   \n",
       "2                   5                  9                    8.0   \n",
       "3                   5                  9                    8.0   \n",
       "4                   5                  9                    8.0   \n",
       "\n",
       "            product_name  aisle_id  department_id  prices price_label  \\\n",
       "0     Organic Egg Whites        86             16    11.3   Mid-Range   \n",
       "1  Michigan Organic Kale        83              4    13.4   Mid-Range   \n",
       "2          Garlic Powder       104             13     3.6   Low-Range   \n",
       "3         Coconut Butter        19             13     8.4   Mid-Range   \n",
       "4      Natural Sweetener        17             13    13.7   Mid-Range   \n",
       "\n",
       "   busiest_days  \n",
       "0  regular_days  \n",
       "1  regular_days  \n",
       "2  regular_days  \n",
       "3  regular_days  \n",
       "4  regular_days  "
      ]
     },
     "execution_count": 40,
     "metadata": {},
     "output_type": "execute_result"
    }
   ],
   "source": [
    "ords_prods_merge.head()"
   ]
  },
  {
   "cell_type": "code",
   "execution_count": 41,
   "id": "46215506",
   "metadata": {},
   "outputs": [
    {
     "data": {
      "text/plain": [
       "order_hour_of_day\n",
       "10    2761760\n",
       "11    2736140\n",
       "14    2689136\n",
       "15    2662144\n",
       "13    2660954\n",
       "12    2618532\n",
       "16    2535202\n",
       "9     2454203\n",
       "17    2087654\n",
       "8     1718118\n",
       "18    1636502\n",
       "19    1258305\n",
       "20     976156\n",
       "7      891054\n",
       "21     795637\n",
       "22     634225\n",
       "23     402316\n",
       "6      290493\n",
       "0      218769\n",
       "1      115700\n",
       "5       87961\n",
       "2       69375\n",
       "4       53242\n",
       "3       51281\n",
       "Name: count, dtype: int64"
      ]
     },
     "execution_count": 41,
     "metadata": {},
     "output_type": "execute_result"
    }
   ],
   "source": [
    "ords_prods_merge['order_hour_of_day'].value_counts(dropna=False)"
   ]
  },
  {
   "cell_type": "code",
   "execution_count": 42,
   "id": "315d4ed9",
   "metadata": {},
   "outputs": [],
   "source": [
    "# >= 250_000 : 'most_orders' [10,11,14,15,13,12,16]\n",
    "# >= 100_000 : 'average_orders' [9,17,8,18,19,20,7,21,22,23,6,0,1]\n",
    "# < 100_000 : 'fewest_orders' [5,2,4,3]"
   ]
  },
  {
   "cell_type": "code",
   "execution_count": 43,
   "id": "8c5065f3",
   "metadata": {},
   "outputs": [],
   "source": [
    "ords_prods_merge.loc[ords_prods_merge['order_hour_of_day'].isin([10,11,14,15,13,12,16]), 'busiest_period_of_day' ] = 'most_orders'\n",
    "ords_prods_merge.loc[ords_prods_merge['order_hour_of_day'].isin([9,17,8,18,19,20,7,21,22,23,6,0,1]), 'busiest_period_of_day' ] = 'average_orders'\n",
    "ords_prods_merge.loc[ords_prods_merge['order_hour_of_day'].isin([5,2,4,3]), 'busiest_period_of_day' ] = 'fewest_orders'"
   ]
  },
  {
   "cell_type": "code",
   "execution_count": 44,
   "id": "5ba5255c",
   "metadata": {},
   "outputs": [
    {
     "data": {
      "text/plain": [
       "busiest_period_of_day\n",
       "most_orders       18663868\n",
       "average_orders    13479132\n",
       "fewest_orders       261859\n",
       "Name: count, dtype: int64"
      ]
     },
     "execution_count": 44,
     "metadata": {},
     "output_type": "execute_result"
    }
   ],
   "source": [
    "ords_prods_merge.loc[:,'busiest_period_of_day'].value_counts(dropna=False)"
   ]
  },
  {
   "cell_type": "code",
   "execution_count": 45,
   "id": "e8fc7c2e",
   "metadata": {},
   "outputs": [
    {
     "data": {
      "text/html": [
       "<div>\n",
       "<style scoped>\n",
       "    .dataframe tbody tr th:only-of-type {\n",
       "        vertical-align: middle;\n",
       "    }\n",
       "\n",
       "    .dataframe tbody tr th {\n",
       "        vertical-align: top;\n",
       "    }\n",
       "\n",
       "    .dataframe thead th {\n",
       "        text-align: right;\n",
       "    }\n",
       "</style>\n",
       "<table border=\"1\" class=\"dataframe\">\n",
       "  <thead>\n",
       "    <tr style=\"text-align: right;\">\n",
       "      <th></th>\n",
       "      <th>order_id</th>\n",
       "      <th>product_id</th>\n",
       "      <th>add_to_cart_order</th>\n",
       "      <th>reordered</th>\n",
       "      <th>user_id</th>\n",
       "      <th>order_number</th>\n",
       "      <th>orders_day_of_week</th>\n",
       "      <th>order_hour_of_day</th>\n",
       "      <th>days_since_last_order</th>\n",
       "      <th>product_name</th>\n",
       "      <th>aisle_id</th>\n",
       "      <th>department_id</th>\n",
       "      <th>prices</th>\n",
       "      <th>price_label</th>\n",
       "      <th>busiest_days</th>\n",
       "      <th>busiest_period_of_day</th>\n",
       "    </tr>\n",
       "  </thead>\n",
       "  <tbody>\n",
       "    <tr>\n",
       "      <th>0</th>\n",
       "      <td>2</td>\n",
       "      <td>33120</td>\n",
       "      <td>1</td>\n",
       "      <td>1</td>\n",
       "      <td>202279</td>\n",
       "      <td>3</td>\n",
       "      <td>5</td>\n",
       "      <td>9</td>\n",
       "      <td>8.0</td>\n",
       "      <td>Organic Egg Whites</td>\n",
       "      <td>86</td>\n",
       "      <td>16</td>\n",
       "      <td>11.3</td>\n",
       "      <td>Mid-Range</td>\n",
       "      <td>regular_days</td>\n",
       "      <td>average_orders</td>\n",
       "    </tr>\n",
       "    <tr>\n",
       "      <th>1</th>\n",
       "      <td>2</td>\n",
       "      <td>28985</td>\n",
       "      <td>2</td>\n",
       "      <td>1</td>\n",
       "      <td>202279</td>\n",
       "      <td>3</td>\n",
       "      <td>5</td>\n",
       "      <td>9</td>\n",
       "      <td>8.0</td>\n",
       "      <td>Michigan Organic Kale</td>\n",
       "      <td>83</td>\n",
       "      <td>4</td>\n",
       "      <td>13.4</td>\n",
       "      <td>Mid-Range</td>\n",
       "      <td>regular_days</td>\n",
       "      <td>average_orders</td>\n",
       "    </tr>\n",
       "    <tr>\n",
       "      <th>2</th>\n",
       "      <td>2</td>\n",
       "      <td>9327</td>\n",
       "      <td>3</td>\n",
       "      <td>0</td>\n",
       "      <td>202279</td>\n",
       "      <td>3</td>\n",
       "      <td>5</td>\n",
       "      <td>9</td>\n",
       "      <td>8.0</td>\n",
       "      <td>Garlic Powder</td>\n",
       "      <td>104</td>\n",
       "      <td>13</td>\n",
       "      <td>3.6</td>\n",
       "      <td>Low-Range</td>\n",
       "      <td>regular_days</td>\n",
       "      <td>average_orders</td>\n",
       "    </tr>\n",
       "    <tr>\n",
       "      <th>3</th>\n",
       "      <td>2</td>\n",
       "      <td>45918</td>\n",
       "      <td>4</td>\n",
       "      <td>1</td>\n",
       "      <td>202279</td>\n",
       "      <td>3</td>\n",
       "      <td>5</td>\n",
       "      <td>9</td>\n",
       "      <td>8.0</td>\n",
       "      <td>Coconut Butter</td>\n",
       "      <td>19</td>\n",
       "      <td>13</td>\n",
       "      <td>8.4</td>\n",
       "      <td>Mid-Range</td>\n",
       "      <td>regular_days</td>\n",
       "      <td>average_orders</td>\n",
       "    </tr>\n",
       "    <tr>\n",
       "      <th>4</th>\n",
       "      <td>2</td>\n",
       "      <td>30035</td>\n",
       "      <td>5</td>\n",
       "      <td>0</td>\n",
       "      <td>202279</td>\n",
       "      <td>3</td>\n",
       "      <td>5</td>\n",
       "      <td>9</td>\n",
       "      <td>8.0</td>\n",
       "      <td>Natural Sweetener</td>\n",
       "      <td>17</td>\n",
       "      <td>13</td>\n",
       "      <td>13.7</td>\n",
       "      <td>Mid-Range</td>\n",
       "      <td>regular_days</td>\n",
       "      <td>average_orders</td>\n",
       "    </tr>\n",
       "  </tbody>\n",
       "</table>\n",
       "</div>"
      ],
      "text/plain": [
       "   order_id  product_id  add_to_cart_order  reordered  user_id  order_number  \\\n",
       "0         2       33120                  1          1   202279             3   \n",
       "1         2       28985                  2          1   202279             3   \n",
       "2         2        9327                  3          0   202279             3   \n",
       "3         2       45918                  4          1   202279             3   \n",
       "4         2       30035                  5          0   202279             3   \n",
       "\n",
       "   orders_day_of_week  order_hour_of_day  days_since_last_order  \\\n",
       "0                   5                  9                    8.0   \n",
       "1                   5                  9                    8.0   \n",
       "2                   5                  9                    8.0   \n",
       "3                   5                  9                    8.0   \n",
       "4                   5                  9                    8.0   \n",
       "\n",
       "            product_name  aisle_id  department_id  prices price_label  \\\n",
       "0     Organic Egg Whites        86             16    11.3   Mid-Range   \n",
       "1  Michigan Organic Kale        83              4    13.4   Mid-Range   \n",
       "2          Garlic Powder       104             13     3.6   Low-Range   \n",
       "3         Coconut Butter        19             13     8.4   Mid-Range   \n",
       "4      Natural Sweetener        17             13    13.7   Mid-Range   \n",
       "\n",
       "   busiest_days busiest_period_of_day  \n",
       "0  regular_days        average_orders  \n",
       "1  regular_days        average_orders  \n",
       "2  regular_days        average_orders  \n",
       "3  regular_days        average_orders  \n",
       "4  regular_days        average_orders  "
      ]
     },
     "execution_count": 45,
     "metadata": {},
     "output_type": "execute_result"
    }
   ],
   "source": [
    "ords_prods_merge.head()"
   ]
  },
  {
   "cell_type": "code",
   "execution_count": 46,
   "id": "e12ebdeb",
   "metadata": {},
   "outputs": [],
   "source": [
    "pd.to_pickle(ords_prods_merge, pth.join(path,prepared_data_folder, 'ords_prods_merge_4.7.pkl'))"
   ]
  },
  {
   "cell_type": "code",
   "execution_count": null,
   "id": "cdace4cf",
   "metadata": {},
   "outputs": [],
   "source": []
  }
 ],
 "metadata": {
  "kernelspec": {
   "display_name": "Python 3 (ipykernel)",
   "language": "python",
   "name": "python3"
  },
  "language_info": {
   "codemirror_mode": {
    "name": "ipython",
    "version": 3
   },
   "file_extension": ".py",
   "mimetype": "text/x-python",
   "name": "python",
   "nbconvert_exporter": "python",
   "pygments_lexer": "ipython3",
   "version": "3.11.7"
  }
 },
 "nbformat": 4,
 "nbformat_minor": 5
}
